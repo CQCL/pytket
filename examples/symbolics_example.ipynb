{
 "cells": [
  {
   "cell_type": "markdown",
   "metadata": {},
   "source": [
    "# Symbolic compilation: t|ket> example"
   ]
  },
  {
   "cell_type": "markdown",
   "metadata": {},
   "source": [
    "Motivation: in compilation, particularly of hybrid classical-quantum variational algorithms in which the structure of a circuit remains constant but the parameters of some gates change, it can be useful to compile using symbolic parameters and optimise the circuit without knowledge of what these parameters will be instantiated to afterwards.\n",
    "\n",
    "In this tutorial, we will show how to compile a circuit containing mathematical symbols, and then instantiate the symbols afterwards. To do this, you need to have `pytket` installed. Run:\n",
    "```\n",
    "pip install pytket\n",
    "```\n",
    "We will also be using the circuit drawing tool from IBM's Qiskit, although this is only for visualisation and is not necessary to do symbolic compilation using pytket. To use the converter:\n",
    "```\n",
    "pip install pytket_qiskit\n",
    "```\n",
    "To begin, we will import the `Circuit` and `Transform` classes from `pytket`, and the `fresh_symbol` method from `pytket.circuit`."
   ]
  },
  {
   "cell_type": "code",
   "execution_count": 1,
   "metadata": {},
   "outputs": [],
   "source": [
    "from pytket.circuit import Circuit, fresh_symbol\n",
    "from pytket.transform import Transform"
   ]
  },
  {
   "cell_type": "markdown",
   "metadata": {},
   "source": [
    "Now, we can construct a circuit containing symbols. You can ask for symbols by calling the `fresh_symbol` method with a string as an argument. This string represents the preferred symbol name; if this has already been used elsewhere, an appropriate suffix of the form `_x`, with `x` a natural number, will be added to generate a new symbol, as shown below:"
   ]
  },
  {
   "cell_type": "code",
   "execution_count": 2,
   "metadata": {
    "tags": []
   },
   "outputs": [
    {
     "output_type": "stream",
     "name": "stdout",
     "text": "a\na_1\n"
    }
   ],
   "source": [
    "a = fresh_symbol(\"a\")\n",
    "a1 = fresh_symbol(\"a\")\n",
    "print(a)\n",
    "print(a1)"
   ]
  },
  {
   "cell_type": "markdown",
   "metadata": {},
   "source": [
    "We are going to make a circuit using just three 'phase gadgets': `Rz` gates surrounded by ladders of `CX` gates."
   ]
  },
  {
   "cell_type": "code",
   "execution_count": 3,
   "metadata": {},
   "outputs": [
    {
     "output_type": "execute_result",
     "data": {
      "text/plain": "[CX q[0], q[1]; CX q[1], q[2]; CX q[2], q[3]; Rz(a*PI) q[3]; CX q[2], q[3]; CX q[1], q[2]; CX q[0], q[1]; CX q[3], q[2]; CX q[2], q[1]; CX q[1], q[0]; Rz(b*PI) q[0]; CX q[1], q[0]; CX q[2], q[1]; CX q[0], q[1]; CX q[3], q[2]; CX q[1], q[2]; CX q[2], q[3]; Rz(0.5*PI) q[3]; CX q[2], q[3]; CX q[1], q[2]; CX q[0], q[1]; ]"
     },
     "metadata": {},
     "execution_count": 3
    }
   ],
   "source": [
    "b = fresh_symbol(\"b\")\n",
    "circ = Circuit(4)\n",
    "circ.CX(0,1)\n",
    "circ.CX(1,2)\n",
    "circ.CX(2,3)\n",
    "circ.Rz(a,3)\n",
    "circ.CX(2,3)\n",
    "circ.CX(1,2)\n",
    "circ.CX(0,1)\n",
    "circ.CX(3,2)\n",
    "circ.CX(2,1)\n",
    "circ.CX(1,0)\n",
    "circ.Rz(b,0)\n",
    "circ.CX(1,0)\n",
    "circ.CX(2,1)\n",
    "circ.CX(3,2)\n",
    "circ.CX(0,1)\n",
    "circ.CX(1,2)\n",
    "circ.CX(2,3)\n",
    "circ.Rz(0.5,3)\n",
    "circ.CX(2,3)\n",
    "circ.CX(1,2)\n",
    "circ.CX(0,1)"
   ]
  },
  {
   "cell_type": "markdown",
   "metadata": {},
   "source": [
    "Now we can use IBM's Qiskit visualiser to display the circuit. For more explanation of our converters, see the `transform_example` notebook. Note that Qiskit can, conveniently, use symbolics as well."
   ]
  },
  {
   "cell_type": "code",
   "execution_count": 4,
   "metadata": {
    "tags": []
   },
   "outputs": [
    {
     "output_type": "stream",
     "name": "stdout",
     "text": "┌───┐┌──────────┐┌───┐     »\nq_0: ──■────────────────────────────────────■───────┤ X ├┤ RZ(pi*b) ├┤ X ├─────»\n     ┌─┴─┐                                ┌─┴─┐┌───┐└─┬─┘└──────────┘└─┬─┘┌───┐»\nq_1: ┤ X ├──■──────────────────────────■──┤ X ├┤ X ├──■────────────────■──┤ X ├»\n     └───┘┌─┴─┐                      ┌─┴─┐├───┤└─┬─┘                      └─┬─┘»\nq_2: ─────┤ X ├──■────────────────■──┤ X ├┤ X ├──■──────────────────────────■──»\n          └───┘┌─┴─┐┌──────────┐┌─┴─┐└───┘└─┬─┘                                »\nq_3: ──────────┤ X ├┤ RZ(pi*a) ├┤ X ├───────■──────────────────────────────────»\n               └───┘└──────────┘└───┘                                          »\n«                                               \n«q_0: ──■────────────────────────────────────■──\n«     ┌─┴─┐                                ┌─┴─┐\n«q_1: ┤ X ├──■──────────────────────────■──┤ X ├\n«     ├───┤┌─┴─┐                      ┌─┴─┐└───┘\n«q_2: ┤ X ├┤ X ├──■────────────────■──┤ X ├─────\n«     └─┬─┘└───┘┌─┴─┐┌──────────┐┌─┴─┐└───┘     \n«q_3: ──■───────┤ X ├┤ RZ(pi/2) ├┤ X ├──────────\n«               └───┘└──────────┘└───┘          \n"
    }
   ],
   "source": [
    "from pytket.qiskit import tk_to_qiskit\n",
    "\n",
    "def print_tkcirc_via_qiskit(tkcirc):\n",
    "    qiskit_qcirc = tk_to_qiskit(tkcirc)\n",
    "    print(qiskit_qcirc)\n",
    "    \n",
    "print_tkcirc_via_qiskit(circ)"
   ]
  },
  {
   "cell_type": "markdown",
   "metadata": {},
   "source": [
    "Now let's use a transform to shrink the circuit. For more detail on transforms, see the `transform_example` notebook."
   ]
  },
  {
   "cell_type": "code",
   "execution_count": 5,
   "metadata": {
    "tags": []
   },
   "outputs": [
    {
     "output_type": "stream",
     "name": "stdout",
     "text": "\nq_0: ──■────────────────────────────────────────────────■──\n     ┌─┴─┐                                            ┌─┴─┐\nq_1: ┤ X ├──■──────────────────────────────────────■──┤ X ├\n     └───┘  │  ┌───┐┌──────────────────────┐┌───┐  │  └───┘\nq_2: ───────┼──┤ X ├┤ U1(pi*(a + b + 0.5)) ├┤ X ├──┼───────\n          ┌─┴─┐└─┬─┘└──────────────────────┘└─┬─┘┌─┴─┐     \nq_3: ─────┤ X ├──■────────────────────────────■──┤ X ├─────\n          └───┘                                  └───┘     \n"
    }
   ],
   "source": [
    "Transform.OptimisePhaseGadgets().apply(circ)\n",
    "print_tkcirc_via_qiskit(circ)"
   ]
  },
  {
   "cell_type": "markdown",
   "metadata": {},
   "source": [
    "Note that the type of gate has changed to `U1`, but the phase gadgets have been successfully combined. The `U1` gate is an IBM-specific gate that is equivalent to an `Rz`.\n",
    "\n",
    "We can now instantiate the symbols with some desired values. We make a dictionary, with each key a symbol name, and each value a double. Note that this value is in units of 'half-turns', in which a value of $1$ corresponds to a rotation of $\\pi$.\n",
    "\n",
    "Before instantiating our parameters we make a copy of the circuit, so that we can repeat the exercise without the need for recompilation."
   ]
  },
  {
   "cell_type": "code",
   "execution_count": 6,
   "metadata": {},
   "outputs": [],
   "source": [
    "symbol_circ = circ.copy()\n",
    "\n",
    "symbol_dict = {a : 0.5, b : 0.75}\n",
    "circ.symbol_substitution(symbol_dict)"
   ]
  },
  {
   "cell_type": "code",
   "execution_count": 7,
   "metadata": {
    "tags": []
   },
   "outputs": [
    {
     "output_type": "stream",
     "name": "stdout",
     "text": "global phase: 9pi/8\n                                                \nq_0: ──■─────────────────────────────────────■──\n     ┌─┴─┐                                 ┌─┴─┐\nq_1: ┤ X ├──■───────────────────────────■──┤ X ├\n     └───┘  │  ┌───┐┌───────────┐┌───┐  │  └───┘\nq_2: ───────┼──┤ X ├┤ U1(7pi/4) ├┤ X ├──┼───────\n          ┌─┴─┐└─┬─┘└───────────┘└─┬─┘┌─┴─┐     \nq_3: ─────┤ X ├──■─────────────────■──┤ X ├─────\n          └───┘                       └───┘     \n"
    }
   ],
   "source": [
    "print_tkcirc_via_qiskit(circ)"
   ]
  },
  {
   "cell_type": "markdown",
   "metadata": {},
   "source": [
    "Because this symbol substitution was called on the copy, we still have our original symbolic circuit."
   ]
  },
  {
   "cell_type": "code",
   "execution_count": 8,
   "metadata": {
    "tags": []
   },
   "outputs": [
    {
     "output_type": "stream",
     "name": "stdout",
     "text": "\nq_0: ──■────────────────────────────────────────────────■──\n     ┌─┴─┐                                            ┌─┴─┐\nq_1: ┤ X ├──■──────────────────────────────────────■──┤ X ├\n     └───┘  │  ┌───┐┌──────────────────────┐┌───┐  │  └───┘\nq_2: ───────┼──┤ X ├┤ U1(pi*(a + b + 0.5)) ├┤ X ├──┼───────\n          ┌─┴─┐└─┬─┘└──────────────────────┘└─┬─┘┌─┴─┐     \nq_3: ─────┤ X ├──■────────────────────────────■──┤ X ├─────\n          └───┘                                  └───┘     \n"
    }
   ],
   "source": [
    "print_tkcirc_via_qiskit(symbol_circ)"
   ]
  },
  {
   "cell_type": "markdown",
   "metadata": {},
   "source": [
    "Note: the expression tree for this symbolic expression is very small, consisting of only a couple of different operations, but t|ket> is capable of handling large and complex expressions containing many different types of operation, such as trigonometric functions.\n",
    "\n",
    "It is usually possible to instantiate a symbolic circuit with specific values that allow further optimisation: for example, if we had chosen $a=1.5$ and $b=0$, this circuit would be reduce to the identity. If there are likely to be many parameters set to trivial values (such as $0$ or $1$), it can be beneficial to perform further optimisation after instantiation."
   ]
  }
 ],
 "metadata": {
  "kernelspec": {
   "display_name": "Python 3",
   "language": "python",
   "name": "python3"
  },
  "language_info": {
   "codemirror_mode": {
    "name": "ipython",
    "version": 3
   },
   "file_extension": ".py",
   "mimetype": "text/x-python",
   "name": "python",
   "nbconvert_exporter": "python",
   "pygments_lexer": "ipython3",
   "version": "3.7.4-final"
  }
 },
 "nbformat": 4,
 "nbformat_minor": 2
}