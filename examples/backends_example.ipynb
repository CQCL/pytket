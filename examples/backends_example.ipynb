{
 "cells": [
  {
   "cell_type": "markdown",
   "metadata": {},
   "source": [
    "# Backends - t|ket> example"
   ]
  },
  {
   "cell_type": "markdown",
   "metadata": {},
   "source": [
    "This example shows how to use pytket to export quantum circuits to the various allowed backends. As t|ket> is designed to be platform agnostic, any t|ket> circuit can be run using any instance of the `Backend` class for maximum portability. The circuit will be optimised, rebased and routed for the appropriate backend automatically - although this feature can be switched off. We currently provide an interface to a variety of simulators and any IBM quantum experience chip that the user has access to, and this interface uses a common structure so it is easy to switch between backends. The full list at the time of writing is:\n",
    "\n",
    "* ProjectQ simulator\n",
    "* Aer state-vector simulator\n",
    "* Aer QASM simulator\n",
    "* IBMQ devices\n",
    "\n",
    "This list will soon expand.\n",
    "Note that the qasm simulator can take in a noise model, and an API for this is provided through pytket as well.\n",
    "\n",
    "To get started, we must install core pytket and the subpackages required to interface with the two providers:\n",
    "\n",
    "```\n",
    "pip install pytket\n",
    "pip install pytket_qiskit\n",
    "pip install pytket_projectq\n",
    "```\n",
    "\n",
    "First, import the backends that we will be demonstrating."
   ]
  },
  {
   "cell_type": "code",
   "execution_count": 1,
   "metadata": {},
   "outputs": [],
   "source": [
    "from pytket.backends.ibm import AerStateBackend, AerBackend, IBMQBackend\n",
    "from pytket.backends.projectq import ProjectQBackend"
   ]
  },
  {
   "cell_type": "markdown",
   "metadata": {},
   "source": [
    "We are also going to be making a circuit to run on these backends, so import the `Circuit` class."
   ]
  },
  {
   "cell_type": "code",
   "execution_count": 2,
   "metadata": {},
   "outputs": [],
   "source": [
    "from pytket import Circuit"
   ]
  },
  {
   "cell_type": "markdown",
   "metadata": {},
   "source": [
    "Below we generate a circuit which will produce a Bell state, assuming the qubits are all initialised in the |0> state:"
   ]
  },
  {
   "cell_type": "code",
   "execution_count": 3,
   "metadata": {},
   "outputs": [],
   "source": [
    "circ = Circuit(2)\n",
    "circ.H(0)\n",
    "circ.CX(0,1)"
   ]
  },
  {
   "cell_type": "markdown",
   "metadata": {},
   "source": [
    "The first demo will be of the `AerStateBackend` - we are going to verify that circuit `circ` does produce 2 qubits in the Bell state. Create an `AerStateBackend` object and then call `get_state` on that object, using the circuit as an argument, to retrieve the results. This style of usage is used consistently in the pytket backends."
   ]
  },
  {
   "cell_type": "code",
   "execution_count": 4,
   "metadata": {},
   "outputs": [
    {
     "name": "stdout",
     "output_type": "stream",
     "text": [
      "[0.70710678+0.j 0.        +0.j 0.        +0.j 0.70710678+0.j]\n"
     ]
    }
   ],
   "source": [
    "aer_state_b = AerStateBackend()\n",
    "statevector = aer_state_b.get_state(circ)\n",
    "print(statevector)"
   ]
  },
  {
   "cell_type": "markdown",
   "metadata": {},
   "source": [
    "This statevector is a numpy array. If we call the output statevector $|\\psi_{circ}>$, clearly $|\\psi_{circ}> = \\frac{(|00> + |11>)}{\\sqrt2}$.\n",
    "\n",
    "Now we want to measure this statevector to get some actual results out, so let's append some `Measure` gates to the circuit. We can automatically add `Measure` gates to the end of every qubit using the `measure_all()` method."
   ]
  },
  {
   "cell_type": "code",
   "execution_count": 5,
   "metadata": {},
   "outputs": [],
   "source": [
    "circ.measure_all()"
   ]
  },
  {
   "cell_type": "markdown",
   "metadata": {},
   "source": [
    "We can get some shots out from the `AerBackend`, which is an interface to the Qiskit QASM simulator. We would like to get 10 shots out this time, and we can seed the simulator to guarantee we get the same shot count each time we run the same circuit:"
   ]
  },
  {
   "cell_type": "code",
   "execution_count": 6,
   "metadata": {},
   "outputs": [
    {
     "name": "stdout",
     "output_type": "stream",
     "text": [
      "[[1 1]\n",
      " [1 1]\n",
      " [1 1]\n",
      " [0 0]\n",
      " [0 0]\n",
      " [0 0]\n",
      " [1 1]\n",
      " [0 0]\n",
      " [1 1]\n",
      " [1 1]]\n"
     ]
    }
   ],
   "source": [
    "aer_b = AerBackend()\n",
    "shots = aer_b.run(circuit=circ,shots=10,seed=1)\n",
    "print(shots)"
   ]
  },
  {
   "cell_type": "markdown",
   "metadata": {},
   "source": [
    "As you can see, there is a 40/60 split between \"00\" results and \"11\" results. If we change the seed, or remove it, we will get varying results according to the pseudo-random number generation internal to Qiskit's QASM simulator. What happens if we simulate some noise in our imagined device, using Qiskit Aer's noise model?"
   ]
  },
  {
   "cell_type": "markdown",
   "metadata": {},
   "source": [
    "To demonstrate this, we will require an import from Qiskit. For more information about noise modeling using Qiskit Aer, see the [Qiskit device noise simulation docs](https://qiskit.org/documentation/aer/device_noise_simulation.html)."
   ]
  },
  {
   "cell_type": "code",
   "execution_count": 7,
   "metadata": {},
   "outputs": [],
   "source": [
    "from qiskit.providers.aer.noise import NoiseModel\n",
    "my_noise_model = NoiseModel()\n",
    "readout_error = 0.2\n",
    "my_noise_model.add_all_qubit_readout_error([[1-readout_error,readout_error],[readout_error,1-readout_error]])"
   ]
  },
  {
   "cell_type": "markdown",
   "metadata": {},
   "source": [
    "This simple noise model gives a 20% chance that, upon measurement, a qubit which would otherwise have been measured as \"0\" would instead be measured as \"1\", and vice versa. Let's see what our shot table looks like with this model!"
   ]
  },
  {
   "cell_type": "code",
   "execution_count": 8,
   "metadata": {},
   "outputs": [
    {
     "name": "stdout",
     "output_type": "stream",
     "text": [
      "[[1 1]\n",
      " [0 0]\n",
      " [1 1]\n",
      " [1 0]\n",
      " [0 0]\n",
      " [0 0]\n",
      " [1 0]\n",
      " [0 0]\n",
      " [0 1]\n",
      " [0 1]]\n"
     ]
    }
   ],
   "source": [
    "noisy_aer_b = AerBackend(my_noise_model)\n",
    "noisy_shots = noisy_aer_b.run(circuit=circ,shots=10,seed=1)\n",
    "print(noisy_shots)"
   ]
  },
  {
   "cell_type": "markdown",
   "metadata": {},
   "source": [
    "We now have some spooky \"01\" and \"10\" measurements, which could never happen when measuring a Bell state on a noiseless device. \n",
    "\n",
    "The `AerBackend` class can accept any Qiskit noise model."
   ]
  },
  {
   "cell_type": "markdown",
   "metadata": {},
   "source": [
    "The last simulator we will demo is the `ProjectQBackend`. We can use the `ProjectQBackend` to get fast expectation values from circuits in conjunction with ProjectQ's `QubitOperator` class. Note that it is possible to use the `AerStateBackend` for this purpose as well, but ProjectQ is designed to retrieve expectation values very quickly. This is useful for the noiseless simulation of many quantum algorithms.\n",
    "\n",
    "Note: ProjectQ can also produce shots in the style of `AerBackend`, using the same method, but cannot accept a noise model.\n",
    "\n",
    "For an explanation of ProjectQ's `QubitOperator` class, see the [docs](https://projectq.readthedocs.io/en/latest/projectq.ops.html#projectq.ops.QubitOperator).\n",
    "\n",
    "Let's create a `QubitOperator` object and a new circuit:"
   ]
  },
  {
   "cell_type": "code",
   "execution_count": 9,
   "metadata": {},
   "outputs": [],
   "source": [
    "import projectq\n",
    "from projectq.ops import QubitOperator\n",
    "\n",
    "hamiltonian = 0.5 * QubitOperator('X0 X2') + 0.3 * QubitOperator('Z0')"
   ]
  },
  {
   "cell_type": "code",
   "execution_count": 10,
   "metadata": {},
   "outputs": [],
   "source": [
    "circ2 = Circuit(3)\n",
    "circ2.Y(0)\n",
    "circ2.H(1)\n",
    "circ2.Rx(2,0.3)"
   ]
  },
  {
   "cell_type": "markdown",
   "metadata": {},
   "source": [
    "Now we can create a `ProjectQBackend` instance and feed it our circuit and `QubitOperator`:"
   ]
  },
  {
   "cell_type": "code",
   "execution_count": 11,
   "metadata": {},
   "outputs": [
    {
     "name": "stdout",
     "output_type": "stream",
     "text": [
      "-0.2999999999999999\n"
     ]
    }
   ],
   "source": [
    "projectq_b = ProjectQBackend()\n",
    "expectation = projectq_b.get_operator_expectation_value(circ2,hamiltonian)\n",
    "print(expectation)"
   ]
  },
  {
   "cell_type": "markdown",
   "metadata": {},
   "source": [
    "The last leg of this tour includes running a pytket circuit on an actual quantum computer. To do this, you will need an IBM quantum experience account, which you can get for free here: https://quantumexperience.ng.bluemix.\n",
    "\n",
    "You can see the device specs on the Qiskit [GitHub repo](https://github.com/Qiskit/ibmq-device-information).\n",
    "\n",
    "Let's take our circuit from before and run it using the `IBMQBackend` on the \"ibmqx4\" device."
   ]
  },
  {
   "cell_type": "code",
   "execution_count": 12,
   "metadata": {},
   "outputs": [
    {
     "name": "stdout",
     "output_type": "stream",
     "text": [
      "Job Status: job has successfully run\n",
      "[[1 0]\n",
      " [0 0]\n",
      " [1 1]\n",
      " [0 0]\n",
      " [1 1]\n",
      " [1 1]\n",
      " [1 1]\n",
      " [0 1]\n",
      " [1 1]\n",
      " [1 1]]\n"
     ]
    }
   ],
   "source": [
    "ibmq_b = IBMQBackend(\"ibmqx4\")\n",
    "quantum_shots = ibmq_b.run(circuit=circ,shots=10)\n",
    "print(quantum_shots)"
   ]
  },
  {
   "cell_type": "markdown",
   "metadata": {},
   "source": [
    "These are from an actual device, so it's impossible to perfectly predict what the results will be. However, due to the problem of noise, it would be unsurprising if there are a few \"01\" or \"10\" results in the table. The circuit is very short, so it should be fairly close to the ideal result."
   ]
  },
  {
   "cell_type": "markdown",
   "metadata": {},
   "source": [
    "This concludes our tour of the pytket backends. For more information, read our [docs](https://pytket.readthedocs.io) or see the other examples on our [GitHub repo](https://github.com/CQCL/pytket)."
   ]
  }
 ],
 "metadata": {
  "kernelspec": {
   "display_name": "Python 3",
   "language": "python",
   "name": "python3"
  },
  "language_info": {
   "codemirror_mode": {
    "name": "ipython",
    "version": 3
   },
   "file_extension": ".py",
   "mimetype": "text/x-python",
   "name": "python",
   "nbconvert_exporter": "python",
   "pygments_lexer": "ipython3",
   "version": "3.6.8"
  }
 },
 "nbformat": 4,
 "nbformat_minor": 2
}
