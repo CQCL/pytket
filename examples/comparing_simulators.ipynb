{
 "cells": [
  {
   "cell_type": "markdown",
   "metadata": {},
   "source": [
    "### Comparison of the simulators available through tket\n",
    "\n",
    "In this tutorial, we will focus on:\n",
    "- exploring the wide array of simulators available through the extension modules for `pytket`;\n",
    "- comparing their unique features and capabilities.\n",
    "\n",
    "This example assumes the reader is familiar with the basics of circuit construction and evaluation.\n",
    "\n",
    "To run every option in this example, you will need `pytket`, `pytket-qiskit`, `pytket-pyquil`, `pytket-qsharp`, `pytket-qulacs`, and `pytket-projectq`.\n",
    "\n",
    "With the number of simulator `Backend`s available across the `pytket` extension modules, we are often asked why to use one over another. Surely, any two simulators are equivalent if they are able to sample the circuits in the same way, right? Not quite. In this notebook we go through each of the simulators in turn and describe what sets them apart from others and how to make use of any unique features.\n",
    "\n",
    "But first, to demonstrate the significant overlap in functionality, we'll just give some examples of common usage for different types of backends."
   ]
  },
  {
   "cell_type": "markdown",
   "metadata": {},
   "source": [
    "### Sampling simulator usage"
   ]
  },
  {
   "cell_type": "code",
   "execution_count": 1,
   "metadata": {
    "tags": []
   },
   "outputs": [
    {
     "output_type": "stream",
     "name": "stdout",
     "text": "Counter({(1, 1, 1): 1585, (0, 0, 1): 415})\n"
    }
   ],
   "source": [
    "from pytket import Circuit\n",
    "from pytket.backends.ibm import AerBackend\n",
    "# from pytket.backends.forest import ForestBackend\n",
    "# from pytket.backends.qsharp import QsharpSimulatorBackend\n",
    "# from pytket.backends.qulacs import QulacsBackend, QulacsGPUBackend\n",
    "\n",
    "# Define a circuit\n",
    "c = Circuit(3, 3)\n",
    "c.Ry(0.7, 0)\n",
    "c.CX(0, 1)\n",
    "c.X(2)\n",
    "c.measure_all()\n",
    "\n",
    "# Run on the backend\n",
    "backend = AerBackend()\n",
    "# backend = ForestBackend('Aspen-8', simulator=True)\n",
    "# backend = QsharpSimulatorBackend()\n",
    "# backend = QulacsBackend()\n",
    "# backend = QulacsGPUBackend()\n",
    "backend.compile_circuit(c)\n",
    "handle = backend.process_circuit(c, n_shots=2000)\n",
    "counts = backend.get_result(handle).get_counts()\n",
    "print(counts)"
   ]
  },
  {
   "cell_type": "markdown",
   "metadata": {},
   "source": [
    "### Statevector simulator usage"
   ]
  },
  {
   "cell_type": "code",
   "execution_count": 2,
   "metadata": {
    "tags": []
   },
   "outputs": [
    {
     "output_type": "stream",
     "name": "stdout",
     "text": "[0.21850801+0.00000000e+00j 0.67249851+0.00000000e+00j\n 0.        +0.00000000e+00j 0.        +0.00000000e+00j\n 0.        +0.00000000e+00j 0.        +0.00000000e+00j\n 0.21850801-9.71445147e-17j 0.67249851-2.77555756e-16j]\n"
    }
   ],
   "source": [
    "from pytket import Circuit\n",
    "from pytket.backends.ibm import AerStateBackend\n",
    "# from pytket.backends.forest import ForestStateBackend\n",
    "# from pytket.backends.qulacs import QulacsBackend, QulacsGPUBackend\n",
    "# from pytket.backends.projectq import ProjectQBackend\n",
    "\n",
    "# Build a quantum state\n",
    "c = Circuit(3)\n",
    "c.H(0).CX(0, 1)\n",
    "c.Rz(0.3, 0)\n",
    "c.Rz(-0.3, 1)\n",
    "c.Ry(0.8, 2)\n",
    "\n",
    "# Examine the statevector\n",
    "backend = AerStateBackend()\n",
    "# backend = ForestStateBackend()\n",
    "# backend = QulacsBackend()\n",
    "# backend = QulacsGPUBackend()\n",
    "# backend = ProjectQBackend()\n",
    "backend.compile_circuit(c)\n",
    "handle = backend.process_circuit(c)\n",
    "state = backend.get_result(handle).get_state()\n",
    "print(state)"
   ]
  },
  {
   "cell_type": "markdown",
   "metadata": {},
   "source": [
    "### Expectation value usage"
   ]
  },
  {
   "cell_type": "code",
   "execution_count": 3,
   "metadata": {
    "tags": []
   },
   "outputs": [
    {
     "output_type": "stream",
     "name": "stdout",
     "text": "(-1.7999999999999998-0.5663118960624632j)\n"
    }
   ],
   "source": [
    "from pytket import Circuit, Qubit\n",
    "from pytket.backends.ibm import AerBackend, AerStateBackend\n",
    "# from pytket.backends.forest import ForestStateBackend\n",
    "# from pytket.backends.qulacs import QulacsBackend, QulacsGPUBackend\n",
    "# from pytket.backends.projectq import ProjectQBackend\n",
    "from pytket.pauli import Pauli, QubitPauliString\n",
    "from pytket.utils.operators import QubitPauliOperator\n",
    "\n",
    "# Build a quantum state\n",
    "c = Circuit(3)\n",
    "c.H(0).CX(0, 1)\n",
    "c.Rz(0.3, 0)\n",
    "c.Rz(-0.3, 1)\n",
    "c.Ry(0.8, 2)\n",
    "\n",
    "# Define the measurement operator\n",
    "xxi = QubitPauliString({Qubit(0) : Pauli.X, Qubit(1) : Pauli.X})\n",
    "zzz = QubitPauliString({Qubit(0) : Pauli.Z, Qubit(1) : Pauli.Z, Qubit(2) : Pauli.Z})\n",
    "op = QubitPauliOperator({xxi : -1.8, zzz : 0.7j})\n",
    "\n",
    "# Run on the backend\n",
    "backend = AerBackend()\n",
    "# backend = AerStateBackend()\n",
    "# backend = ForestStateBackend()\n",
    "# backend = QulacsBackend()\n",
    "# backend = QulacsGPUBackend()\n",
    "# backend = ProjectQBackend()\n",
    "backend.compile_circuit(c)\n",
    "exp = backend.get_operator_expectation_value(c, op)\n",
    "print(exp)"
   ]
  },
  {
   "cell_type": "markdown",
   "metadata": {},
   "source": [
    "### `pytket.backends.ibm.AerBackend`\n",
    "\n",
    "`AerBackend` wraps up the `qasm_simulator` from the Qiskit Aer package. It supports an extremely flexible set of circuits and uses many effective simulation methods making it a great all-purpose sampling simulator.\n",
    "\n",
    "Unique features:\n",
    "- supports mid-circuit measurement and OpenQASM-style conditional gates;\n",
    "- encompasses a variety of underlying simulation methods and automatically selects the best one for each circuit (including statevector, density matrix, (extended) stabilizer and matrix product state);\n",
    "- can be provided with a `qiskit.providers.Aer.noise.NoiseModel` on instantiation to perform a noisy simulation.\n",
    "\n",
    "Useful features:\n",
    "- support for fast expectation value calculations according to `QubitPauliString`s or `QubitPauliOperator`s."
   ]
  },
  {
   "cell_type": "code",
   "execution_count": 4,
   "metadata": {
    "tags": []
   },
   "outputs": [
    {
     "output_type": "stream",
     "name": "stdout",
     "text": "Counter({(0,): 1007, (1,): 993})\n"
    }
   ],
   "source": [
    "from pytket import Circuit\n",
    "from pytket.backends.ibm import AerBackend\n",
    "from itertools import combinations\n",
    "from qiskit.providers.aer.noise import NoiseModel, depolarizing_error\n",
    "\n",
    "# Quantum teleportation circuit\n",
    "c = Circuit()\n",
    "alice = c.add_q_register('a', 2)\n",
    "bob = c.add_q_register('b', 1)\n",
    "data = c.add_c_register('d', 2)\n",
    "final = c.add_c_register('f', 1)\n",
    "\n",
    "# Start in an interesting state\n",
    "c.Rx(0.3, alice[0])\n",
    "\n",
    "# Set up a Bell state between Alice and Bob\n",
    "c.H(alice[1]).CX(alice[1], bob[0])\n",
    "\n",
    "# Measure Alice's qubits in the Bell basis\n",
    "c.CX(alice[0], alice[1]).H(alice[0])\n",
    "c.Measure(alice[0], data[0])\n",
    "c.Measure(alice[1], data[1])\n",
    "\n",
    "# Correct Bob's qubit\n",
    "c.X(bob[0], condition_bits=[data[0], data[1]], condition_value=1)\n",
    "c.X(bob[0], condition_bits=[data[0], data[1]], condition_value=3)\n",
    "c.Z(bob[0], condition_bits=[data[0], data[1]], condition_value=2)\n",
    "c.Z(bob[0], condition_bits=[data[0], data[1]], condition_value=3)\n",
    "\n",
    "# Measure Bob's qubit to observe the interesting state\n",
    "c.Measure(bob[0], final[0])\n",
    "\n",
    "# Set up a noisy simulator\n",
    "model = NoiseModel()\n",
    "dep_err = depolarizing_error(0.04, 2)\n",
    "for i, j in combinations(range(3), r=2):\n",
    "    model.add_quantum_error(dep_err, ['cx'], [i, j])\n",
    "    model.add_quantum_error(dep_err, ['cx'], [j, i])\n",
    "backend = AerBackend(noise_model=model)\n",
    "\n",
    "# Run circuit\n",
    "backend.compile_circuit(c)\n",
    "handle = backend.process_circuit(c, n_shots=2000)\n",
    "result = backend.get_result(handle)\n",
    "counts = result.get_counts([final[0]])\n",
    "print(counts)"
   ]
  },
  {
   "cell_type": "markdown",
   "metadata": {},
   "source": [
    "### `pytket.backends.ibm.AerStateBackend`\n",
    "\n",
    "`AerStateBackend` provides access to Qiskit Aer's `statevector_simulator`. It supports a similarly large gate set and has competitive speed for statevector simulations.\n",
    "\n",
    "Useful features:\n",
    "- no dependency on external executables, making it easy to install and run on any computer;\n",
    "- support for fast expectation value calculations according to `QubitPauliString`s or `QubitPauliOperator`s."
   ]
  },
  {
   "cell_type": "markdown",
   "metadata": {},
   "source": [
    "### `pytket.backends.ibm.AerUnitaryBackend`\n",
    "\n",
    "Finishing the set of simulators from Qiskit Aer, `AerUnitaryBackend` captures the `unitary_simulator`, allowing for the entire unitary of a pure quantum process to be calculated. This is especially useful for testing small subcircuits that will be used many times in a larger computation.\n",
    "\n",
    "Unique features:\n",
    "- provides the full unitary matrix for a pure quantum circuit."
   ]
  },
  {
   "cell_type": "code",
   "execution_count": 5,
   "metadata": {
    "tags": []
   },
   "outputs": [
    {
     "output_type": "stream",
     "name": "stdout",
     "text": "[[ 0.  0.  0.  0.  0.  0.  0.  1.]\n [ 1.  0.  0. -0.  0.  0.  0. -0.]\n [ 0.  1.  0.  0.  0. -0. -0.  0.]\n [ 0. -0.  1.  0.  0.  0. -0.  0.]\n [ 0.  0.  0.  1.  0.  0.  0. -0.]\n [ 0.  0.  0. -0.  1.  0.  0.  0.]\n [ 0.  0.  0.  0.  0.  1.  0.  0.]\n [ 0.  0.  0.  0.  0. -0.  1.  0.]]\n"
    }
   ],
   "source": [
    "from pytket import Circuit\n",
    "from pytket.backends.ibm import AerUnitaryBackend\n",
    "from pytket.predicates import NoClassicalControlPredicate\n",
    "\n",
    "# Define a simple quantum incrementer\n",
    "c = Circuit(3)\n",
    "c.CCX(2, 1, 0)\n",
    "c.CX(2, 1)\n",
    "c.X(2)\n",
    "\n",
    "# Examine the unitary\n",
    "backend = AerUnitaryBackend()\n",
    "backend.compile_circuit(c)\n",
    "unitary = backend.get_unitary(c)\n",
    "print(unitary.round(1).real)"
   ]
  },
  {
   "cell_type": "markdown",
   "metadata": {},
   "source": [
    "### `pytket.backends.forest.ForestBackend`\n",
    "\n",
    "Whilst normally used as the method of accessing the Rigetti QPUs, the `ForestBackend` also features a simulator mode which turns it into a noiseless sampling simulator that matches the constraints of the simulated device (e.g. the same gate set, restricted connectivity, measurement model, etc.). This is useful when playing around with custom compilation strategies to ensure that your final circuits are suitable to run on the device and for checking that your overall program works fine before you invest in reserving a QPU.\n",
    "\n",
    "Unique features:\n",
    "- faithful recreation of the circuit constraints of Rigetti QPUs.\n",
    "\n",
    "If trying to use the `ForestBackend` locally (i.e. not on a Rigetti QMI), you will need to have `quilc` and `qvm` running as separate processes in server mode. One easy way of doing this is with `docker` (see the `quilc` and `qvm` documentation for alternative methods of running them):\n",
    "\n",
    "`docker run --rm -it -p 5555:5555 rigetti/quilc -R`\n",
    "\n",
    "`docker run --rm -it -p 5000:5000 rigetti/qvm -S`"
   ]
  },
  {
   "cell_type": "markdown",
   "metadata": {},
   "source": [
    "### `pytket.backends.forest.ForestStateBackend`\n",
    "\n",
    "The Rigetti `pyquil` package also provides the `WavefunctionSimulator`, which we present as the `ForestStateBackend`. Functionally, it is very similar to the `AerStateBackend` so can be used interchangeably. It does require that `quilc` and `qvm` are running as separate processes when not running on a Rigetti QMI.\n",
    "\n",
    "Useful features:\n",
    "- support for fast expectation value calculations according to `QubitPauliString`s or Hermitian `QubitPauliOperator`s."
   ]
  },
  {
   "cell_type": "markdown",
   "metadata": {},
   "source": [
    "### `pytket.backends.qsharp.QsharpSimulatorBackend`\n",
    "\n",
    "The `QsharpSimulatorBackend` is another basic sampling simulator that is interchangeable with others, using the Microsoft QDK simulator. Note that the `pytket-qsharp` package is dependent on the `dotnet` SDK and `iqsharp` tool. Please consult the `pytket-qsharp` installation instructions for recommendations."
   ]
  },
  {
   "cell_type": "markdown",
   "metadata": {},
   "source": [
    "### `pytket.backends.qsharp.QsharpToffoliSimulatorBackend`\n",
    "\n",
    "Toffoli circuits form a strict fragment of quantum circuits and can be efficiently simulated. The `QsharpToffoliSimulatorBackend` can only operate on these circuits, but scales much better with system size than regular simulators.\n",
    "\n",
    "Unique features:\n",
    "- efficient simulation of Toffoli circuits."
   ]
  },
  {
   "cell_type": "code",
   "execution_count": 6,
   "metadata": {
    "tags": []
   },
   "outputs": [
    {
     "output_type": "stream",
     "name": "stdout",
     "text": "/snippet_.qs(1,90): warning QS6003: The namespace is already open.\n/snippet_.qs(3,6): warning QS6003: The namespace is already open.\nCounter({(1, 1, 0): 10})\n"
    }
   ],
   "source": [
    "from pytket import Circuit\n",
    "from pytket.backends.qsharp import QsharpToffoliSimulatorBackend\n",
    "\n",
    "# Define a circuit - start in a basis state\n",
    "c = Circuit(3)\n",
    "c.X(0).X(2)\n",
    "# Define a circuit - incrementer\n",
    "c.CCX(2, 1, 0)\n",
    "c.CX(2, 1)\n",
    "c.X(2)\n",
    "\n",
    "# Run on the backend\n",
    "backend = QsharpToffoliSimulatorBackend()\n",
    "backend.compile_circuit(c)\n",
    "handle = backend.process_circuit(c, n_shots=10)\n",
    "counts = backend.get_result(handle).get_counts()\n",
    "print(counts)"
   ]
  },
  {
   "cell_type": "markdown",
   "metadata": {},
   "source": [
    "### `pytket.backends.qsharp.QsharpEstimatorBackend`\n",
    "\n",
    "The `QsharpEstimatorBackend` is not strictly a simulator, as it doesn't model the state of the quantum system and try to identify the final state, but instead analyses the circuit to estimate the required resources to run it. It does not support any of the regular outcome types (e.g. shots, counts, statevector), just the summary of the estimated resources.\n",
    "\n",
    "Unique features:\n",
    "- estimates resources to perform the circuit, without actually simulating/running it."
   ]
  },
  {
   "cell_type": "code",
   "execution_count": 7,
   "metadata": {
    "tags": []
   },
   "outputs": [
    {
     "output_type": "stream",
     "name": "stdout",
     "text": "/snippet_.qs(1,90): warning QS6003: The namespace is already open.\n/snippet_.qs(3,6): warning QS6003: The namespace is already open.\n{'CNOT': 5, 'QubitClifford': 0, 'R': 27, 'Measure': 0, 'T': 0, 'Depth': 0, 'Width': 3, 'BorrowedWidth': 0}\n"
    }
   ],
   "source": [
    "from pytket import Circuit\n",
    "from pytket.backends.qsharp import QsharpEstimatorBackend\n",
    "\n",
    "# Define a circuit - start in a basis state\n",
    "c = Circuit(3)\n",
    "c.X(0).X(2)\n",
    "# Define a circuit - incrementer\n",
    "c.CCX(2, 1, 0)\n",
    "c.CX(2, 1)\n",
    "c.X(2)\n",
    "\n",
    "# Run on the backend\n",
    "backend = QsharpEstimatorBackend()\n",
    "backend.compile_circuit(c)\n",
    "handle = backend.process_circuit(c, n_shots=10)\n",
    "resources = backend.get_resources(handle)\n",
    "print(resources)"
   ]
  },
  {
   "cell_type": "markdown",
   "metadata": {},
   "source": [
    "### `pytket.backends.qulacs.QulacsBackend`\n",
    "\n",
    "The `QulacsBackend` is an all-purpose simulator with both sampling and statevector modes, using the basic CPU simulator from Qulacs.\n",
    "\n",
    "Unique features:\n",
    "- supports both sampling (shots/counts) and complete statevector outputs.\n",
    "\n",
    "Useful features:\n",
    "- support for fast expectation value calculations according to `QubitPauliString`s or Hermitian `QubitPauliOperator`s."
   ]
  },
  {
   "cell_type": "markdown",
   "metadata": {},
   "source": [
    "### `pytket.backends.qulacs.QulacsGPUBackend`\n",
    "\n",
    "If the GPU version of Qulacs is installed, the `QulacsGPUBackend` will use that to benefit from even faster speeds. It is very easy to get started with using a GPU, as it only requires a CUDA installation and the `qulacs-gpu` package from `pip`. Functionally, it is identical to the `QulacsBackend`, but potentially faster if you have GPU resources available.\n",
    "\n",
    "Unique features:\n",
    "- GPU support for very fast simulation."
   ]
  },
  {
   "cell_type": "markdown",
   "metadata": {},
   "source": [
    "### `pytket.backends.projectq.ProjectQBackend`\n",
    "\n",
    "ProjectQ is a popular quantum circuit simulator, thanks to its availability and ease of use. It provides a similar level of performance and features to `AerStateBackend`.\n",
    "\n",
    "Useful features:\n",
    "- support for fast expectation value calculations according to `QubitPauliString`s or Hermitian `QubitPauliOperator`s."
   ]
  }
 ],
 "metadata": {
  "kernelspec": {
   "display_name": "Python 3",
   "language": "python",
   "name": "python3"
  },
  "language_info": {
   "codemirror_mode": {
    "name": "ipython",
    "version": 3
   },
   "file_extension": ".py",
   "mimetype": "text/x-python",
   "name": "python",
   "nbconvert_exporter": "python",
   "pygments_lexer": "ipython3",
   "version": "3.7.4-final"
  }
 },
 "nbformat": 4,
 "nbformat_minor": 2
}
