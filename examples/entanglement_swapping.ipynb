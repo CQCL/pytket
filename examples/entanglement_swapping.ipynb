{
 "cells": [
  {
   "cell_type": "markdown",
   "metadata": {},
   "source": [
    "### Iterated Entanglement Swapping using tket\n",
    "\n",
    "In this tutorial, we will focus on:\n",
    "- designing circuits with mid-circuit measurement and conditional gates;\n",
    "- utilising noise models in supported simulators.\n",
    "\n",
    "This example assumes the reader is familiar with the Qubit Teleportation and Entanglement Swapping protocols, and basic models of noise in quantum devices.\n",
    "\n",
    "To run this example, you will need `pytket`, `pytket-qiskit`, and `plotly`.\n",
    "\n",
    "Current quantum hardware fits into the NISQ (Noisy, Intermediate-Scale Quantum) regime. This noise cannot realistically be combatted using conventional error correcting codes, because of the lack of available qubits, noise levels exceeding the code thresholds, and very few devices available that can perform measurements and corrections mid-circuit. Analysis of how quantum algorithms perform under noisy conditions is a very active research area, as is finding ways to cope with it. Here, we will look at how well we can perform the Entanglement Swapping protocol with different noise levels.\n",
    "\n",
    "The Entanglement Swapping protocol requires two parties to share Bell pairs with a third party, who applies the Qubit Teleportation protocol to generate a Bell pair between the two parties. The Qubit Teleportation step requires us to be able to measure some qubits and make subsequent corrections to the remaining qubits. There are only a handful of simulators and devices that currently support this, with others restricted to only measuring the qubits at the end of the circuit.\n",
    "\n",
    "The most popular circuit model with conditional gates at the moment is that provided by the OpenQASM language. This permits a very restricted model of classical logic, where we can apply a gate conditionally on the exact value of a classical register. There is no facility in the current spec for Boolean logic or classical operations to apply any function to the value prior to the equality check. For example, Qubit Teleportation can be performed by the following QASM:\n",
    "\n",
    "```OPENQASM 2.0;\n",
    "include \"qelib1.inc\";\n",
    "qreg a[2];\n",
    "qreg b[1];\n",
    "creg c[2];\n",
    "// Bell state between Alice and Bob\n",
    "h a[1];\n",
    "cx a[1],b[0];\n",
    "// Bell measurement of Alice's qubits\n",
    "cx a[0],a[1];\n",
    "h a[0];\n",
    "measure a[0] -> c[0];\n",
    "measure a[1] -> c[1];\n",
    "// Correction of Bob's qubit\n",
    "if(c==1) z b[0];\n",
    "if(c==3) z b[0];\n",
    "if(c==2) x b[0];\n",
    "if(c==3) x b[0];\n",
    "```\n",
    "\n",
    "This corresponds to the following `pytket` code:"
   ]
  },
  {
   "cell_type": "code",
   "execution_count": 1,
   "metadata": {
    "tags": []
   },
   "outputs": [
    {
     "data": {
      "text/plain": [
       "[H a[1]; CX a[1], b[0]; CX a[0], a[1]; H a[0]; Measure a[1] --> d[1]; Measure a[0] --> d[0]; IF ([d[0], d[1]] == 2) THEN X b[0]; IF ([d[0], d[1]] == 3) THEN X b[0]; IF ([d[0], d[1]] == 1) THEN Z b[0]; IF ([d[0], d[1]] == 3) THEN Z b[0]; ]"
      ]
     },
     "execution_count": 1,
     "metadata": {},
     "output_type": "execute_result"
    }
   ],
   "source": [
    "from pytket import Circuit\n",
    "\n",
    "qtel = Circuit()\n",
    "alice = qtel.add_q_register(\"a\", 2)\n",
    "bob = qtel.add_q_register(\"b\", 1)\n",
    "data = qtel.add_c_register(\"d\", 2)\n",
    "\n",
    "# Bell state between Alice and Bob\n",
    "qtel.H(alice[1])\n",
    "qtel.CX(alice[1], bob[0])\n",
    "\n",
    "# Bell measurement of Alice's qubits\n",
    "qtel.CX(alice[0], alice[1])\n",
    "qtel.H(alice[0])\n",
    "qtel.Measure(alice[0], data[0])\n",
    "qtel.Measure(alice[1], data[1])\n",
    "\n",
    "# Correction of Bob's qubit\n",
    "qtel.X(bob[0], condition_bits=[data[0], data[1]], condition_value=2)\n",
    "qtel.X(bob[0], condition_bits=[data[0], data[1]], condition_value=3)\n",
    "qtel.Z(bob[0], condition_bits=[data[0], data[1]], condition_value=1)\n",
    "qtel.Z(bob[0], condition_bits=[data[0], data[1]], condition_value=3)"
   ]
  },
  {
   "cell_type": "markdown",
   "metadata": {},
   "source": [
    "So to demonstrate the Entanglement Swapping protocol, we just need to run this on one side of a Bell pair."
   ]
  },
  {
   "cell_type": "code",
   "execution_count": 2,
   "metadata": {
    "tags": []
   },
   "outputs": [
    {
     "name": "stdout",
     "output_type": "stream",
     "text": [
      "[H a[0];, H b[1];, CX a[0], b[0];, CX b[1], c[0];, CX b[0], b[1];, H b[0];, Measure b[1] --> d[1];, Measure b[0] --> d[0];, IF ([d[0], d[1]] == 2) THEN X c[0];, IF ([d[0], d[1]] == 3) THEN X c[0];, IF ([d[0], d[1]] == 1) THEN Z c[0];, IF ([d[0], d[1]] == 3) THEN Z c[0];]\n"
     ]
    }
   ],
   "source": [
    "es = Circuit()\n",
    "ava = es.add_q_register(\"a\", 1)\n",
    "bella = es.add_q_register(\"b\", 2)\n",
    "charlie = es.add_q_register(\"c\", 1)\n",
    "data = es.add_c_register(\"d\", 2)\n",
    "\n",
    "# Bell state between Ava and Bella\n",
    "es.H(ava[0])\n",
    "es.CX(ava[0], bella[0])\n",
    "\n",
    "# Teleport bella[0] to charlie[0]\n",
    "tel_to_c = qtel.copy()\n",
    "tel_to_c.rename_units({alice[0] : bella[0], alice[1] : bella[1], bob[0] : charlie[0]})\n",
    "es.append(tel_to_c)\n",
    "\n",
    "print(es.get_commands())"
   ]
  },
  {
   "cell_type": "markdown",
   "metadata": {},
   "source": [
    "Let's start by running a noiseless simulation of this to verify that what we get looks like a Bell pair."
   ]
  },
  {
   "cell_type": "code",
   "execution_count": 3,
   "metadata": {
    "tags": []
   },
   "outputs": [
    {
     "name": "stdout",
     "output_type": "stream",
     "text": [
      "     ┌─────────────┐                                                   ┌─┐   \n",
      "a_0: ┤ U3(π/2,0,π) ├──■────────────────────────────────────────────────┤M├───\n",
      "     └─────────────┘┌─┴─┐       ┌─────────────┐┌─┐                     └╥┘   \n",
      "b_0: ───────────────┤ X ├───■───┤ U3(π/2,0,π) ├┤M├──────────────────────╫────\n",
      "     ┌─────────────┐└───┘ ┌─┴─┐ └─────┬─┬─────┘└╥┘                      ║    \n",
      "b_1: ┤ U3(π/2,0,π) ├──■───┤ X ├───────┤M├───────╫───────────────────────╫────\n",
      "     └─────────────┘┌─┴─┐ ├───┤       └╥┘       ║  ┌───┐  ┌───┐  ┌───┐  ║ ┌─┐\n",
      "c_0: ───────────────┤ X ├─┤ X ├────────╫────────╫──┤ X ├──┤ Z ├──┤ Z ├──╫─┤M├\n",
      "                    └───┘ └─┬─┘        ║        ║  └─┬─┘  └─┬─┘  └─┬─┘  ║ └╥┘\n",
      "                         ┌──┴──┐       ║        ║ ┌──┴──┐┌──┴──┐┌──┴──┐ ║  ║ \n",
      "d: 2/════════════════════╡ = 2 ╞═══════╩════════╩═╡ = 3 ╞╡ = 1 ╞╡ = 3 ╞═╩══╩═\n",
      "                         └─────┘       1        0 └─────┘└─────┘└─────┘ 0  1 \n",
      "Counter({(0, 0): 1004, (1, 1): 996})\n"
     ]
    }
   ],
   "source": [
    "from pytket.backends.ibm import AerBackend\n",
    "\n",
    "# Connect to a simulator\n",
    "backend = AerBackend()\n",
    "\n",
    "# Make a ZZ measurement of the Bell pair\n",
    "bell_test = es.copy()\n",
    "bell_test.Measure(ava[0], data[0])\n",
    "bell_test.Measure(charlie[0], data[1])\n",
    "\n",
    "# Run the experiment\n",
    "\n",
    "backend.compile_circuit(bell_test)\n",
    "from pytket.extensions.qiskit import tk_to_qiskit\n",
    "print(tk_to_qiskit(bell_test))\n",
    "handle = backend.process_circuit(bell_test, n_shots=2000)\n",
    "counts = backend.get_result(handle).get_counts()\n",
    "\n",
    "print(counts)"
   ]
  },
  {
   "cell_type": "markdown",
   "metadata": {},
   "source": [
    "This is good, we have got roughly 50/50 measurement results of 00 and 11 under the ZZ operator. But there are many other states beyond the Bell state that also generate this distribution, so to gain more confidence in our claim about the state we should make more measurements that also characterise it, i.e. perform state tomography.\n",
    "\n",
    "Here, we will demonstrate a naive approach to tomography that makes 3^n measurement circuits for an n-qubit state. More elaborate methods also exist."
   ]
  },
  {
   "cell_type": "code",
   "execution_count": 4,
   "metadata": {
    "tags": []
   },
   "outputs": [
    {
     "name": "stdout",
     "output_type": "stream",
     "text": [
      "[[ 0.494+0.j    -0.001+0.003j -0.003-0.004j  0.494-0.022j]\n",
      " [-0.001-0.003j  0.004+0.j     0.   -0.005j -0.001-0.002j]\n",
      " [-0.003+0.004j  0.   +0.005j  0.005+0.j    -0.004+0.004j]\n",
      " [ 0.494+0.022j -0.001+0.002j -0.004-0.004j  0.496+0.j   ]]\n"
     ]
    }
   ],
   "source": [
    "from pytket.pauli import Pauli, QubitPauliString\n",
    "from pytket.utils import append_pauli_measurement, probs_from_counts\n",
    "from itertools import product\n",
    "from scipy.linalg import lstsq, eigh\n",
    "import numpy as np\n",
    "\n",
    "def gen_tomography_circuits(state, qubits, bits):\n",
    "    # Yields {X, Y, Z}^n measurements in lexicographical order\n",
    "    # Only measures qubits, storing the result in bits\n",
    "    # (since we don't care about the ancilla qubits)\n",
    "    assert len(qubits) == len(bits)\n",
    "    for paulis in product([Pauli.X, Pauli.Y, Pauli.Z], repeat=len(qubits)):\n",
    "        circ = state.copy()\n",
    "        for qb, b, p in zip(qubits, bits, paulis):\n",
    "            if p == Pauli.X:\n",
    "                circ.H(qb)\n",
    "            elif p == Pauli.Y:\n",
    "                circ.V(qb)\n",
    "            circ.Measure(qb, b)\n",
    "        yield circ\n",
    "\n",
    "def run_tomography_circuits(state, qubits, bits, backend):\n",
    "    circs = list(gen_tomography_circuits(state, qubits, bits))\n",
    "    # Compile and run each circuit\n",
    "    for c in circs:\n",
    "        backend.compile_circuit(c)\n",
    "    handles = backend.process_circuits(circs, n_shots=2000)\n",
    "    # Get the observed measurement probabilities\n",
    "    probs_list = []\n",
    "    for result in backend.get_results(handles):\n",
    "        counts = result.get_counts()\n",
    "        probs = probs_from_counts(counts)\n",
    "        probs_list.append(probs)\n",
    "    return probs_list\n",
    "\n",
    "def fit_tomography_outcomes(probs_list, n_qbs):\n",
    "    # Define the density matrices for the basis states\n",
    "    basis = dict()\n",
    "    basis[(Pauli.X, 0)] = np.asarray([[0.5, 0.5], [0.5, 0.5]])\n",
    "    basis[(Pauli.X, 1)] = np.asarray([[0.5, -0.5], [-0.5, 0.5]])\n",
    "    basis[(Pauli.Y, 0)] = np.asarray([[0.5, -0.5j], [0.5j, 0.5]])\n",
    "    basis[(Pauli.Y, 1)] = np.asarray([[0.5, 0.5j], [-0.5j, 0.5]])\n",
    "    basis[(Pauli.Z, 0)] = np.asarray([[1, 0], [0, 0]])\n",
    "    basis[(Pauli.Z, 1)] = np.asarray([[0, 0], [0, 1]])\n",
    "    dim = 2**n_qbs\n",
    "    # Define vector all_probs as a concatenation of probability vectors for each measurement (2**n x 3**n, 1)\n",
    "    # Define matrix all_ops mapping a (vectorised) density matrix to a vector of probabilities for each measurement\n",
    "    # (2**n x 3**n, 2**n x 2**n)\n",
    "    all_probs = []\n",
    "    all_ops = []\n",
    "    for paulis, probs in zip(product([Pauli.X, Pauli.Y, Pauli.Z], repeat=n_qbs), probs_list):\n",
    "        prob_vec = []\n",
    "        meas_ops = []\n",
    "        for outcome in product([0, 1], repeat=n_qbs):\n",
    "            prob_vec.append(probs.get(outcome, 0))\n",
    "            op = np.eye(1, dtype=complex)\n",
    "            for p, o in zip(paulis, outcome):\n",
    "                op = np.kron(op, basis[(p, o)])\n",
    "            meas_ops.append(op.reshape(1, dim*dim).conj())\n",
    "        all_probs.append(np.vstack(prob_vec))\n",
    "        all_ops.append(np.vstack(meas_ops))\n",
    "    # Solve for density matrix by minimising || all_ops * dm - all_probs ||\n",
    "    dm, _, _, _ = lstsq(np.vstack(all_ops), np.vstack(all_probs))\n",
    "    dm = dm.reshape(dim, dim)\n",
    "    # Make density matrix positive semi-definite\n",
    "    v, w = eigh(dm)\n",
    "    for i in range(dim):\n",
    "        if v[i] < 0:\n",
    "            for j in range(i+1, dim):\n",
    "                v[j] += v[i] / (dim - (i+1))\n",
    "            v[i] = 0\n",
    "    dm = np.zeros([dim, dim], dtype=complex)\n",
    "    for j in range(dim):\n",
    "        dm += v[j] * np.outer(w[:, j], np.conj(w[:, j]))\n",
    "    # Normalise trace of density matrix\n",
    "    dm /= np.trace(dm)\n",
    "    return dm\n",
    "\n",
    "probs_list = run_tomography_circuits(es, [ava[0], charlie[0]], [data[0], data[1]], backend)\n",
    "dm = fit_tomography_outcomes(probs_list, 2)\n",
    "print(dm.round(3))"
   ]
  },
  {
   "cell_type": "markdown",
   "metadata": {},
   "source": [
    "This is very close to the true density matrix for a pure Bell state. We can attribute the error here to the sampling error since we only take 2000 samples of each measurement circuit.\n",
    "\n",
    "To quantify exactly how similar it is to the correct density matrix, we can calculate the fidelity."
   ]
  },
  {
   "cell_type": "code",
   "execution_count": 5,
   "metadata": {
    "tags": []
   },
   "outputs": [
    {
     "name": "stdout",
     "output_type": "stream",
     "text": [
      "0.989429844172225\n"
     ]
    }
   ],
   "source": [
    "from scipy.linalg import sqrtm\n",
    "\n",
    "def fidelity(dm0, dm1):\n",
    "    # Calculate the fidelity between two density matrices\n",
    "    sq0 = sqrtm(dm0)\n",
    "    sq1 = sqrtm(dm1)\n",
    "    return np.linalg.norm(sq0.dot(sq1))**2\n",
    "\n",
    "bell_state = np.asarray([\n",
    "    [0.5, 0, 0, 0.5],\n",
    "    [0, 0, 0, 0],\n",
    "    [0, 0, 0, 0],\n",
    "    [0.5, 0, 0, 0.5],\n",
    "])\n",
    "print(fidelity(dm, bell_state))"
   ]
  },
  {
   "cell_type": "markdown",
   "metadata": {},
   "source": [
    "This high fidelity is unsurprising since we have a completely noiseless simulation. So the next step is to add some noise to the simulation and observe how the overall fidelity is affected. The `AerBackend` wraps around the Qiskit Aer simulator and can pass on any `qiskit.providers.aer.noise.NoiseModel` to the simulator. Let's start by adding some uniform depolarising noise to each CX gate and some uniform measurement error."
   ]
  },
  {
   "cell_type": "code",
   "execution_count": 6,
   "metadata": {
    "tags": []
   },
   "outputs": [
    {
     "name": "stdout",
     "output_type": "stream",
     "text": [
      "[[ 0.412+0.j    -0.008+0.004j  0.002+0.006j  0.315+0.003j]\n",
      " [-0.008-0.004j  0.084+0.j     0.015+0.004j -0.003+0.006j]\n",
      " [ 0.002-0.006j  0.015-0.004j  0.088+0.j     0.001-0.001j]\n",
      " [ 0.315-0.003j -0.003-0.006j  0.001+0.001j  0.416+0.j   ]]\n",
      "0.7287500000000008\n"
     ]
    }
   ],
   "source": [
    "from qiskit.providers.aer.noise import NoiseModel, depolarizing_error, ReadoutError\n",
    "\n",
    "def make_noise_model(dep_err_rate, ro_err_rate, qubits):\n",
    "    # Define a noise model that applies uniformly to the given qubits\n",
    "    model = NoiseModel()\n",
    "    dep_err = depolarizing_error(dep_err_rate, 2)\n",
    "    ro_err = ReadoutError([[1-ro_err_rate, ro_err_rate], [ro_err_rate, 1-ro_err_rate]])\n",
    "    # Add depolarising error to CX gates between any qubits (implying full connectivity)\n",
    "    for i, j in product(qubits, repeat=2):\n",
    "        model.add_quantum_error(dep_err, ['cx'], [i, j])\n",
    "    # Add readout error for each qubit\n",
    "    for i in qubits:\n",
    "        model.add_readout_error(ro_err, qubits=[i])\n",
    "    return model\n",
    "\n",
    "test_model = make_noise_model(0.03, 0.05, range(4))\n",
    "backend = AerBackend(noise_model=test_model)\n",
    "probs_list = run_tomography_circuits(es, [ava[0], charlie[0]], [data[0], data[1]], backend)\n",
    "dm = fit_tomography_outcomes(probs_list, 2)\n",
    "print(dm.round(3))\n",
    "print(fidelity(dm, bell_state))"
   ]
  },
  {
   "cell_type": "markdown",
   "metadata": {},
   "source": [
    "Despite the very small circuit and the relatively small error rates, the fidelity of the final state has reduced considerably.\n",
    "\n",
    "As far as circuits go, the entanglement swapping protocol is little more than a toy example and is nothing close to the scale of circuits for most interesting quantum computational problems. However, it is possible to iterate the protocol many times to build up a larger computation, allowing us to see the impact of the noise at different scales."
   ]
  },
  {
   "cell_type": "code",
   "execution_count": 7,
   "metadata": {
    "tags": []
   },
   "outputs": [
    {
     "data": {
      "image/svg+xml": [
       "<svg class=\"main-svg\" xmlns=\"http://www.w3.org/2000/svg\" xmlns:xlink=\"http://www.w3.org/1999/xlink\" width=\"700\" height=\"450\" style=\"\" viewBox=\"0 0 700 450\"><rect x=\"0\" y=\"0\" width=\"700\" height=\"450\" style=\"fill: rgb(255, 255, 255); fill-opacity: 1;\"/><defs id=\"defs-12cf3b\"><g class=\"clips\"><clipPath id=\"clip12cf3bxyplot\" class=\"plotclip\"><rect width=\"471\" height=\"270\"/></clipPath><clipPath class=\"axesclip\" id=\"clip12cf3bx\"><rect x=\"80\" y=\"0\" width=\"471\" height=\"450\"/></clipPath><clipPath class=\"axesclip\" id=\"clip12cf3by\"><rect x=\"0\" y=\"100\" width=\"700\" height=\"270\"/></clipPath><clipPath class=\"axesclip\" id=\"clip12cf3bxy\"><rect x=\"80\" y=\"100\" width=\"471\" height=\"270\"/></clipPath></g><g class=\"gradients\"/></defs><g class=\"bglayer\"><rect class=\"bg\" x=\"80\" y=\"100\" width=\"471\" height=\"270\" style=\"fill: rgb(229, 236, 246); fill-opacity: 1; stroke-width: 0;\"/></g><g class=\"layer-below\"><g class=\"imagelayer\"/><g class=\"shapelayer\"/></g><g class=\"cartesianlayer\"><g class=\"subplot xy\"><g class=\"layer-subplot\"><g class=\"shapelayer\"/><g class=\"imagelayer\"/></g><g class=\"gridlayer\"><g class=\"x\"><path class=\"xgrid crisp\" transform=\"translate(174.2,0)\" d=\"M0,100v270\" style=\"stroke: rgb(255, 255, 255); stroke-opacity: 1; stroke-width: 1px;\"/><path class=\"xgrid crisp\" transform=\"translate(268.4,0)\" d=\"M0,100v270\" style=\"stroke: rgb(255, 255, 255); stroke-opacity: 1; stroke-width: 1px;\"/><path class=\"xgrid crisp\" transform=\"translate(362.6,0)\" d=\"M0,100v270\" style=\"stroke: rgb(255, 255, 255); stroke-opacity: 1; stroke-width: 1px;\"/><path class=\"xgrid crisp\" transform=\"translate(456.8,0)\" d=\"M0,100v270\" style=\"stroke: rgb(255, 255, 255); stroke-opacity: 1; stroke-width: 1px;\"/></g><g class=\"y\"><path class=\"ygrid crisp\" transform=\"translate(0,364.97)\" d=\"M80,0h471\" style=\"stroke: rgb(255, 255, 255); stroke-opacity: 1; stroke-width: 1px;\"/><path class=\"ygrid crisp\" transform=\"translate(0,301.08000000000004)\" d=\"M80,0h471\" style=\"stroke: rgb(255, 255, 255); stroke-opacity: 1; stroke-width: 1px;\"/><path class=\"ygrid crisp\" transform=\"translate(0,237.19)\" d=\"M80,0h471\" style=\"stroke: rgb(255, 255, 255); stroke-opacity: 1; stroke-width: 1px;\"/><path class=\"ygrid crisp\" transform=\"translate(0,173.31)\" d=\"M80,0h471\" style=\"stroke: rgb(255, 255, 255); stroke-opacity: 1; stroke-width: 1px;\"/><path class=\"ygrid crisp\" transform=\"translate(0,109.42)\" d=\"M80,0h471\" style=\"stroke: rgb(255, 255, 255); stroke-opacity: 1; stroke-width: 1px;\"/></g></g><g class=\"zerolinelayer\"/><path class=\"xlines-below\"/><path class=\"ylines-below\"/><g class=\"overlines-below\"/><g class=\"xaxislayer-below\"/><g class=\"yaxislayer-below\"/><g class=\"overaxes-below\"/><g class=\"plot\" transform=\"translate(80, 100)\" clip-path=\"url('#clip12cf3bxyplot')\"><g class=\"scatterlayer mlayer\"><g class=\"trace scatter tracead3b9f\" style=\"stroke-miterlimit: 2; opacity: 1;\"><g class=\"fills\"/><g class=\"errorbars\"/><g class=\"lines\"><path class=\"js-line\" d=\"M0,17.25L94.2,42.64L141.3,55.42L188.4,67.8L235.5,78.5L282.6,86L329.7,98.94L376.8,106.45L423.9,112.92L471,124.34\" style=\"vector-effect: non-scaling-stroke; fill: none; stroke: rgb(99, 110, 250); stroke-opacity: 1; stroke-width: 2px; opacity: 1;\"/></g><g class=\"points\"><path class=\"point\" transform=\"translate(0,17.25)\" d=\"M3,0A3,3 0 1,1 0,-3A3,3 0 0,1 3,0Z\" style=\"opacity: 1; stroke-width: 0px; fill: rgb(99, 110, 250); fill-opacity: 1;\"/><path class=\"point\" transform=\"translate(47.1,29.62)\" d=\"M3,0A3,3 0 1,1 0,-3A3,3 0 0,1 3,0Z\" style=\"opacity: 1; stroke-width: 0px; fill: rgb(99, 110, 250); fill-opacity: 1;\"/><path class=\"point\" transform=\"translate(94.2,42.64)\" d=\"M3,0A3,3 0 1,1 0,-3A3,3 0 0,1 3,0Z\" style=\"opacity: 1; stroke-width: 0px; fill: rgb(99, 110, 250); fill-opacity: 1;\"/><path class=\"point\" transform=\"translate(141.3,55.42)\" d=\"M3,0A3,3 0 1,1 0,-3A3,3 0 0,1 3,0Z\" style=\"opacity: 1; stroke-width: 0px; fill: rgb(99, 110, 250); fill-opacity: 1;\"/><path class=\"point\" transform=\"translate(188.4,67.8)\" d=\"M3,0A3,3 0 1,1 0,-3A3,3 0 0,1 3,0Z\" style=\"opacity: 1; stroke-width: 0px; fill: rgb(99, 110, 250); fill-opacity: 1;\"/><path class=\"point\" transform=\"translate(235.5,78.5)\" d=\"M3,0A3,3 0 1,1 0,-3A3,3 0 0,1 3,0Z\" style=\"opacity: 1; stroke-width: 0px; fill: rgb(99, 110, 250); fill-opacity: 1;\"/><path class=\"point\" transform=\"translate(282.6,86)\" d=\"M3,0A3,3 0 1,1 0,-3A3,3 0 0,1 3,0Z\" style=\"opacity: 1; stroke-width: 0px; fill: rgb(99, 110, 250); fill-opacity: 1;\"/><path class=\"point\" transform=\"translate(329.7,98.94)\" d=\"M3,0A3,3 0 1,1 0,-3A3,3 0 0,1 3,0Z\" style=\"opacity: 1; stroke-width: 0px; fill: rgb(99, 110, 250); fill-opacity: 1;\"/><path class=\"point\" transform=\"translate(376.8,106.45)\" d=\"M3,0A3,3 0 1,1 0,-3A3,3 0 0,1 3,0Z\" style=\"opacity: 1; stroke-width: 0px; fill: rgb(99, 110, 250); fill-opacity: 1;\"/><path class=\"point\" transform=\"translate(423.9,112.92)\" d=\"M3,0A3,3 0 1,1 0,-3A3,3 0 0,1 3,0Z\" style=\"opacity: 1; stroke-width: 0px; fill: rgb(99, 110, 250); fill-opacity: 1;\"/><path class=\"point\" transform=\"translate(471,124.34)\" d=\"M3,0A3,3 0 1,1 0,-3A3,3 0 0,1 3,0Z\" style=\"opacity: 1; stroke-width: 0px; fill: rgb(99, 110, 250); fill-opacity: 1;\"/></g><g class=\"text\"/></g><g class=\"trace scatter trace1e6c80\" style=\"stroke-miterlimit: 2; opacity: 1;\"><g class=\"fills\"/><g class=\"errorbars\"/><g class=\"lines\"><path class=\"js-line\" d=\"M0,38.25L47.1,62.61L94.2,85.69L141.3,104.85L188.4,120.34L235.5,134.32L282.6,150.37L329.7,161.63L376.8,177.12L423.9,181.04L471,186.95\" style=\"vector-effect: non-scaling-stroke; fill: none; stroke: rgb(239, 85, 59); stroke-opacity: 1; stroke-width: 2px; opacity: 1;\"/></g><g class=\"points\"><path class=\"point\" transform=\"translate(0,38.25)\" d=\"M3,0A3,3 0 1,1 0,-3A3,3 0 0,1 3,0Z\" style=\"opacity: 1; stroke-width: 0px; fill: rgb(239, 85, 59); fill-opacity: 1;\"/><path class=\"point\" transform=\"translate(47.1,62.61)\" d=\"M3,0A3,3 0 1,1 0,-3A3,3 0 0,1 3,0Z\" style=\"opacity: 1; stroke-width: 0px; fill: rgb(239, 85, 59); fill-opacity: 1;\"/><path class=\"point\" transform=\"translate(94.2,85.69)\" d=\"M3,0A3,3 0 1,1 0,-3A3,3 0 0,1 3,0Z\" style=\"opacity: 1; stroke-width: 0px; fill: rgb(239, 85, 59); fill-opacity: 1;\"/><path class=\"point\" transform=\"translate(141.3,104.85)\" d=\"M3,0A3,3 0 1,1 0,-3A3,3 0 0,1 3,0Z\" style=\"opacity: 1; stroke-width: 0px; fill: rgb(239, 85, 59); fill-opacity: 1;\"/><path class=\"point\" transform=\"translate(188.4,120.34)\" d=\"M3,0A3,3 0 1,1 0,-3A3,3 0 0,1 3,0Z\" style=\"opacity: 1; stroke-width: 0px; fill: rgb(239, 85, 59); fill-opacity: 1;\"/><path class=\"point\" transform=\"translate(235.5,134.32)\" d=\"M3,0A3,3 0 1,1 0,-3A3,3 0 0,1 3,0Z\" style=\"opacity: 1; stroke-width: 0px; fill: rgb(239, 85, 59); fill-opacity: 1;\"/><path class=\"point\" transform=\"translate(282.6,150.37)\" d=\"M3,0A3,3 0 1,1 0,-3A3,3 0 0,1 3,0Z\" style=\"opacity: 1; stroke-width: 0px; fill: rgb(239, 85, 59); fill-opacity: 1;\"/><path class=\"point\" transform=\"translate(329.7,161.63)\" d=\"M3,0A3,3 0 1,1 0,-3A3,3 0 0,1 3,0Z\" style=\"opacity: 1; stroke-width: 0px; fill: rgb(239, 85, 59); fill-opacity: 1;\"/><path class=\"point\" transform=\"translate(376.8,177.12)\" d=\"M3,0A3,3 0 1,1 0,-3A3,3 0 0,1 3,0Z\" style=\"opacity: 1; stroke-width: 0px; fill: rgb(239, 85, 59); fill-opacity: 1;\"/><path class=\"point\" transform=\"translate(423.9,181.04)\" d=\"M3,0A3,3 0 1,1 0,-3A3,3 0 0,1 3,0Z\" style=\"opacity: 1; stroke-width: 0px; fill: rgb(239, 85, 59); fill-opacity: 1;\"/><path class=\"point\" transform=\"translate(471,186.95)\" d=\"M3,0A3,3 0 1,1 0,-3A3,3 0 0,1 3,0Z\" style=\"opacity: 1; stroke-width: 0px; fill: rgb(239, 85, 59); fill-opacity: 1;\"/></g><g class=\"text\"/></g><g class=\"trace scatter trace84ab0a\" style=\"stroke-miterlimit: 2; opacity: 1;\"><g class=\"fills\"/><g class=\"errorbars\"/><g class=\"lines\"><path class=\"js-line\" d=\"M0,61.65L47.1,97.11L94.2,122.18L141.3,150.93L188.4,164.11L235.5,181.36L282.6,190.38L329.7,196.61L376.8,209.55L423.9,212.18L471,222.8\" style=\"vector-effect: non-scaling-stroke; fill: none; stroke: rgb(0, 204, 150); stroke-opacity: 1; stroke-width: 2px; opacity: 1;\"/></g><g class=\"points\"><path class=\"point\" transform=\"translate(0,61.65)\" d=\"M3,0A3,3 0 1,1 0,-3A3,3 0 0,1 3,0Z\" style=\"opacity: 1; stroke-width: 0px; fill: rgb(0, 204, 150); fill-opacity: 1;\"/><path class=\"point\" transform=\"translate(47.1,97.11)\" d=\"M3,0A3,3 0 1,1 0,-3A3,3 0 0,1 3,0Z\" style=\"opacity: 1; stroke-width: 0px; fill: rgb(0, 204, 150); fill-opacity: 1;\"/><path class=\"point\" transform=\"translate(94.2,122.18)\" d=\"M3,0A3,3 0 1,1 0,-3A3,3 0 0,1 3,0Z\" style=\"opacity: 1; stroke-width: 0px; fill: rgb(0, 204, 150); fill-opacity: 1;\"/><path class=\"point\" transform=\"translate(141.3,150.93)\" d=\"M3,0A3,3 0 1,1 0,-3A3,3 0 0,1 3,0Z\" style=\"opacity: 1; stroke-width: 0px; fill: rgb(0, 204, 150); fill-opacity: 1;\"/><path class=\"point\" transform=\"translate(188.4,164.11)\" d=\"M3,0A3,3 0 1,1 0,-3A3,3 0 0,1 3,0Z\" style=\"opacity: 1; stroke-width: 0px; fill: rgb(0, 204, 150); fill-opacity: 1;\"/><path class=\"point\" transform=\"translate(235.5,181.36)\" d=\"M3,0A3,3 0 1,1 0,-3A3,3 0 0,1 3,0Z\" style=\"opacity: 1; stroke-width: 0px; fill: rgb(0, 204, 150); fill-opacity: 1;\"/><path class=\"point\" transform=\"translate(282.6,190.38)\" d=\"M3,0A3,3 0 1,1 0,-3A3,3 0 0,1 3,0Z\" style=\"opacity: 1; stroke-width: 0px; fill: rgb(0, 204, 150); fill-opacity: 1;\"/><path class=\"point\" transform=\"translate(329.7,196.61)\" d=\"M3,0A3,3 0 1,1 0,-3A3,3 0 0,1 3,0Z\" style=\"opacity: 1; stroke-width: 0px; fill: rgb(0, 204, 150); fill-opacity: 1;\"/><path class=\"point\" transform=\"translate(376.8,209.55)\" d=\"M3,0A3,3 0 1,1 0,-3A3,3 0 0,1 3,0Z\" style=\"opacity: 1; stroke-width: 0px; fill: rgb(0, 204, 150); fill-opacity: 1;\"/><path class=\"point\" transform=\"translate(423.9,212.18)\" d=\"M3,0A3,3 0 1,1 0,-3A3,3 0 0,1 3,0Z\" style=\"opacity: 1; stroke-width: 0px; fill: rgb(0, 204, 150); fill-opacity: 1;\"/><path class=\"point\" transform=\"translate(471,222.8)\" d=\"M3,0A3,3 0 1,1 0,-3A3,3 0 0,1 3,0Z\" style=\"opacity: 1; stroke-width: 0px; fill: rgb(0, 204, 150); fill-opacity: 1;\"/></g><g class=\"text\"/></g><g class=\"trace scatter trace44c64b\" style=\"stroke-miterlimit: 2; opacity: 1;\"><g class=\"fills\"/><g class=\"errorbars\"/><g class=\"lines\"><path class=\"js-line\" d=\"M0,80.57L47.1,123.46L94.2,153.09L141.3,175.61L188.4,193.89L282.6,218.49L329.7,223.28L376.8,223.12L423.9,233.1L471,233.02\" style=\"vector-effect: non-scaling-stroke; fill: none; stroke: rgb(171, 99, 250); stroke-opacity: 1; stroke-width: 2px; opacity: 1;\"/></g><g class=\"points\"><path class=\"point\" transform=\"translate(0,80.57)\" d=\"M3,0A3,3 0 1,1 0,-3A3,3 0 0,1 3,0Z\" style=\"opacity: 1; stroke-width: 0px; fill: rgb(171, 99, 250); fill-opacity: 1;\"/><path class=\"point\" transform=\"translate(47.1,123.46)\" d=\"M3,0A3,3 0 1,1 0,-3A3,3 0 0,1 3,0Z\" style=\"opacity: 1; stroke-width: 0px; fill: rgb(171, 99, 250); fill-opacity: 1;\"/><path class=\"point\" transform=\"translate(94.2,153.09)\" d=\"M3,0A3,3 0 1,1 0,-3A3,3 0 0,1 3,0Z\" style=\"opacity: 1; stroke-width: 0px; fill: rgb(171, 99, 250); fill-opacity: 1;\"/><path class=\"point\" transform=\"translate(141.3,175.61)\" d=\"M3,0A3,3 0 1,1 0,-3A3,3 0 0,1 3,0Z\" style=\"opacity: 1; stroke-width: 0px; fill: rgb(171, 99, 250); fill-opacity: 1;\"/><path class=\"point\" transform=\"translate(188.4,193.89)\" d=\"M3,0A3,3 0 1,1 0,-3A3,3 0 0,1 3,0Z\" style=\"opacity: 1; stroke-width: 0px; fill: rgb(171, 99, 250); fill-opacity: 1;\"/><path class=\"point\" transform=\"translate(235.5,206.19)\" d=\"M3,0A3,3 0 1,1 0,-3A3,3 0 0,1 3,0Z\" style=\"opacity: 1; stroke-width: 0px; fill: rgb(171, 99, 250); fill-opacity: 1;\"/><path class=\"point\" transform=\"translate(282.6,218.49)\" d=\"M3,0A3,3 0 1,1 0,-3A3,3 0 0,1 3,0Z\" style=\"opacity: 1; stroke-width: 0px; fill: rgb(171, 99, 250); fill-opacity: 1;\"/><path class=\"point\" transform=\"translate(329.7,223.28)\" d=\"M3,0A3,3 0 1,1 0,-3A3,3 0 0,1 3,0Z\" style=\"opacity: 1; stroke-width: 0px; fill: rgb(171, 99, 250); fill-opacity: 1;\"/><path class=\"point\" transform=\"translate(376.8,223.12)\" d=\"M3,0A3,3 0 1,1 0,-3A3,3 0 0,1 3,0Z\" style=\"opacity: 1; stroke-width: 0px; fill: rgb(171, 99, 250); fill-opacity: 1;\"/><path class=\"point\" transform=\"translate(423.9,233.1)\" d=\"M3,0A3,3 0 1,1 0,-3A3,3 0 0,1 3,0Z\" style=\"opacity: 1; stroke-width: 0px; fill: rgb(171, 99, 250); fill-opacity: 1;\"/><path class=\"point\" transform=\"translate(471,233.02)\" d=\"M3,0A3,3 0 1,1 0,-3A3,3 0 0,1 3,0Z\" style=\"opacity: 1; stroke-width: 0px; fill: rgb(171, 99, 250); fill-opacity: 1;\"/></g><g class=\"text\"/></g><g class=\"trace scatter trace4755a2\" style=\"stroke-miterlimit: 2; opacity: 1;\"><g class=\"fills\"/><g class=\"errorbars\"/><g class=\"lines\"><path class=\"js-line\" d=\"M0,100.46L47.1,146.54L94.2,173.45L188.4,211.78L235.5,223.2L282.6,224.96L329.7,232.07L423.9,245.64L471,242.21\" style=\"vector-effect: non-scaling-stroke; fill: none; stroke: rgb(255, 161, 90); stroke-opacity: 1; stroke-width: 2px; opacity: 1;\"/></g><g class=\"points\"><path class=\"point\" transform=\"translate(0,100.46)\" d=\"M3,0A3,3 0 1,1 0,-3A3,3 0 0,1 3,0Z\" style=\"opacity: 1; stroke-width: 0px; fill: rgb(255, 161, 90); fill-opacity: 1;\"/><path class=\"point\" transform=\"translate(47.1,146.54)\" d=\"M3,0A3,3 0 1,1 0,-3A3,3 0 0,1 3,0Z\" style=\"opacity: 1; stroke-width: 0px; fill: rgb(255, 161, 90); fill-opacity: 1;\"/><path class=\"point\" transform=\"translate(94.2,173.45)\" d=\"M3,0A3,3 0 1,1 0,-3A3,3 0 0,1 3,0Z\" style=\"opacity: 1; stroke-width: 0px; fill: rgb(255, 161, 90); fill-opacity: 1;\"/><path class=\"point\" transform=\"translate(141.3,192.62)\" d=\"M3,0A3,3 0 1,1 0,-3A3,3 0 0,1 3,0Z\" style=\"opacity: 1; stroke-width: 0px; fill: rgb(255, 161, 90); fill-opacity: 1;\"/><path class=\"point\" transform=\"translate(188.4,211.78)\" d=\"M3,0A3,3 0 1,1 0,-3A3,3 0 0,1 3,0Z\" style=\"opacity: 1; stroke-width: 0px; fill: rgb(255, 161, 90); fill-opacity: 1;\"/><path class=\"point\" transform=\"translate(235.5,223.2)\" d=\"M3,0A3,3 0 1,1 0,-3A3,3 0 0,1 3,0Z\" style=\"opacity: 1; stroke-width: 0px; fill: rgb(255, 161, 90); fill-opacity: 1;\"/><path class=\"point\" transform=\"translate(282.6,224.96)\" d=\"M3,0A3,3 0 1,1 0,-3A3,3 0 0,1 3,0Z\" style=\"opacity: 1; stroke-width: 0px; fill: rgb(255, 161, 90); fill-opacity: 1;\"/><path class=\"point\" transform=\"translate(329.7,232.07)\" d=\"M3,0A3,3 0 1,1 0,-3A3,3 0 0,1 3,0Z\" style=\"opacity: 1; stroke-width: 0px; fill: rgb(255, 161, 90); fill-opacity: 1;\"/><path class=\"point\" transform=\"translate(376.8,238.62)\" d=\"M3,0A3,3 0 1,1 0,-3A3,3 0 0,1 3,0Z\" style=\"opacity: 1; stroke-width: 0px; fill: rgb(255, 161, 90); fill-opacity: 1;\"/><path class=\"point\" transform=\"translate(423.9,245.64)\" d=\"M3,0A3,3 0 1,1 0,-3A3,3 0 0,1 3,0Z\" style=\"opacity: 1; stroke-width: 0px; fill: rgb(255, 161, 90); fill-opacity: 1;\"/><path class=\"point\" transform=\"translate(471,242.21)\" d=\"M3,0A3,3 0 1,1 0,-3A3,3 0 0,1 3,0Z\" style=\"opacity: 1; stroke-width: 0px; fill: rgb(255, 161, 90); fill-opacity: 1;\"/></g><g class=\"text\"/></g><g class=\"trace scatter traced8d57e\" style=\"stroke-miterlimit: 2; opacity: 1;\"><g class=\"fills\"/><g class=\"errorbars\"/><g class=\"lines\"><path class=\"js-line\" d=\"M0,113.56L47.1,163.07L94.2,189.5L141.3,212.58L188.4,225.6L235.5,236.3L282.6,236.38L329.7,239.73L376.8,249.16L423.9,243.25L471,242.05\" style=\"vector-effect: non-scaling-stroke; fill: none; stroke: rgb(25, 211, 243); stroke-opacity: 1; stroke-width: 2px; opacity: 1;\"/></g><g class=\"points\"><path class=\"point\" transform=\"translate(0,113.56)\" d=\"M3,0A3,3 0 1,1 0,-3A3,3 0 0,1 3,0Z\" style=\"opacity: 1; stroke-width: 0px; fill: rgb(25, 211, 243); fill-opacity: 1;\"/><path class=\"point\" transform=\"translate(47.1,163.07)\" d=\"M3,0A3,3 0 1,1 0,-3A3,3 0 0,1 3,0Z\" style=\"opacity: 1; stroke-width: 0px; fill: rgb(25, 211, 243); fill-opacity: 1;\"/><path class=\"point\" transform=\"translate(94.2,189.5)\" d=\"M3,0A3,3 0 1,1 0,-3A3,3 0 0,1 3,0Z\" style=\"opacity: 1; stroke-width: 0px; fill: rgb(25, 211, 243); fill-opacity: 1;\"/><path class=\"point\" transform=\"translate(141.3,212.58)\" d=\"M3,0A3,3 0 1,1 0,-3A3,3 0 0,1 3,0Z\" style=\"opacity: 1; stroke-width: 0px; fill: rgb(25, 211, 243); fill-opacity: 1;\"/><path class=\"point\" transform=\"translate(188.4,225.6)\" d=\"M3,0A3,3 0 1,1 0,-3A3,3 0 0,1 3,0Z\" style=\"opacity: 1; stroke-width: 0px; fill: rgb(25, 211, 243); fill-opacity: 1;\"/><path class=\"point\" transform=\"translate(235.5,236.3)\" d=\"M3,0A3,3 0 1,1 0,-3A3,3 0 0,1 3,0Z\" style=\"opacity: 1; stroke-width: 0px; fill: rgb(25, 211, 243); fill-opacity: 1;\"/><path class=\"point\" transform=\"translate(282.6,236.38)\" d=\"M3,0A3,3 0 1,1 0,-3A3,3 0 0,1 3,0Z\" style=\"opacity: 1; stroke-width: 0px; fill: rgb(25, 211, 243); fill-opacity: 1;\"/><path class=\"point\" transform=\"translate(329.7,239.73)\" d=\"M3,0A3,3 0 1,1 0,-3A3,3 0 0,1 3,0Z\" style=\"opacity: 1; stroke-width: 0px; fill: rgb(25, 211, 243); fill-opacity: 1;\"/><path class=\"point\" transform=\"translate(376.8,249.16)\" d=\"M3,0A3,3 0 1,1 0,-3A3,3 0 0,1 3,0Z\" style=\"opacity: 1; stroke-width: 0px; fill: rgb(25, 211, 243); fill-opacity: 1;\"/><path class=\"point\" transform=\"translate(423.9,243.25)\" d=\"M3,0A3,3 0 1,1 0,-3A3,3 0 0,1 3,0Z\" style=\"opacity: 1; stroke-width: 0px; fill: rgb(25, 211, 243); fill-opacity: 1;\"/><path class=\"point\" transform=\"translate(471,242.05)\" d=\"M3,0A3,3 0 1,1 0,-3A3,3 0 0,1 3,0Z\" style=\"opacity: 1; stroke-width: 0px; fill: rgb(25, 211, 243); fill-opacity: 1;\"/></g><g class=\"text\"/></g><g class=\"trace scatter traceee9eed\" style=\"stroke-miterlimit: 2; opacity: 1;\"><g class=\"fills\"/><g class=\"errorbars\"/><g class=\"lines\"><path class=\"js-line\" d=\"M0,139.19L47.1,184.55L94.2,204.44L141.3,221.76L188.4,233.34L235.5,236.54L282.6,246.36L329.7,252.75L376.8,244.21L471,244.84\" style=\"vector-effect: non-scaling-stroke; fill: none; stroke: rgb(255, 102, 146); stroke-opacity: 1; stroke-width: 2px; opacity: 1;\"/></g><g class=\"points\"><path class=\"point\" transform=\"translate(0,139.19)\" d=\"M3,0A3,3 0 1,1 0,-3A3,3 0 0,1 3,0Z\" style=\"opacity: 1; stroke-width: 0px; fill: rgb(255, 102, 146); fill-opacity: 1;\"/><path class=\"point\" transform=\"translate(47.1,184.55)\" d=\"M3,0A3,3 0 1,1 0,-3A3,3 0 0,1 3,0Z\" style=\"opacity: 1; stroke-width: 0px; fill: rgb(255, 102, 146); fill-opacity: 1;\"/><path class=\"point\" transform=\"translate(94.2,204.44)\" d=\"M3,0A3,3 0 1,1 0,-3A3,3 0 0,1 3,0Z\" style=\"opacity: 1; stroke-width: 0px; fill: rgb(255, 102, 146); fill-opacity: 1;\"/><path class=\"point\" transform=\"translate(141.3,221.76)\" d=\"M3,0A3,3 0 1,1 0,-3A3,3 0 0,1 3,0Z\" style=\"opacity: 1; stroke-width: 0px; fill: rgb(255, 102, 146); fill-opacity: 1;\"/><path class=\"point\" transform=\"translate(188.4,233.34)\" d=\"M3,0A3,3 0 1,1 0,-3A3,3 0 0,1 3,0Z\" style=\"opacity: 1; stroke-width: 0px; fill: rgb(255, 102, 146); fill-opacity: 1;\"/><path class=\"point\" transform=\"translate(235.5,236.54)\" d=\"M3,0A3,3 0 1,1 0,-3A3,3 0 0,1 3,0Z\" style=\"opacity: 1; stroke-width: 0px; fill: rgb(255, 102, 146); fill-opacity: 1;\"/><path class=\"point\" transform=\"translate(282.6,246.36)\" d=\"M3,0A3,3 0 1,1 0,-3A3,3 0 0,1 3,0Z\" style=\"opacity: 1; stroke-width: 0px; fill: rgb(255, 102, 146); fill-opacity: 1;\"/><path class=\"point\" transform=\"translate(329.7,252.75)\" d=\"M3,0A3,3 0 1,1 0,-3A3,3 0 0,1 3,0Z\" style=\"opacity: 1; stroke-width: 0px; fill: rgb(255, 102, 146); fill-opacity: 1;\"/><path class=\"point\" transform=\"translate(376.8,244.21)\" d=\"M3,0A3,3 0 1,1 0,-3A3,3 0 0,1 3,0Z\" style=\"opacity: 1; stroke-width: 0px; fill: rgb(255, 102, 146); fill-opacity: 1;\"/><path class=\"point\" transform=\"translate(423.9,244.44)\" d=\"M3,0A3,3 0 1,1 0,-3A3,3 0 0,1 3,0Z\" style=\"opacity: 1; stroke-width: 0px; fill: rgb(255, 102, 146); fill-opacity: 1;\"/><path class=\"point\" transform=\"translate(471,244.84)\" d=\"M3,0A3,3 0 1,1 0,-3A3,3 0 0,1 3,0Z\" style=\"opacity: 1; stroke-width: 0px; fill: rgb(255, 102, 146); fill-opacity: 1;\"/></g><g class=\"text\"/></g></g></g><g class=\"overplot\"/><path class=\"xlines-above crisp\" style=\"fill: none; stroke-width: 1px; stroke: rgb(255, 255, 255); stroke-opacity: 1;\" d=\"M79,370.5H551\"/><path class=\"ylines-above crisp\" style=\"fill: none; stroke-width: 1px; stroke: rgb(255, 255, 255); stroke-opacity: 1;\" d=\"M79.5,100V370\"/><g class=\"overlines-above\"/><g class=\"xaxislayer-above\"><g class=\"xtick\"><text text-anchor=\"middle\" x=\"0\" y=\"385.4\" transform=\"translate(80,0)\" style=\"font-family: 'Open Sans', verdana, arial, sans-serif; font-size: 12px; fill: rgb(42, 63, 95); fill-opacity: 1; white-space: pre;\">0</text></g><g class=\"xtick\"><text text-anchor=\"middle\" x=\"0\" y=\"385.4\" transform=\"translate(174.2,0)\" style=\"font-family: 'Open Sans', verdana, arial, sans-serif; font-size: 12px; fill: rgb(42, 63, 95); fill-opacity: 1; white-space: pre;\">2</text></g><g class=\"xtick\"><text text-anchor=\"middle\" x=\"0\" y=\"385.4\" transform=\"translate(268.4,0)\" style=\"font-family: 'Open Sans', verdana, arial, sans-serif; font-size: 12px; fill: rgb(42, 63, 95); fill-opacity: 1; white-space: pre;\">4</text></g><g class=\"xtick\"><text text-anchor=\"middle\" x=\"0\" y=\"385.4\" transform=\"translate(362.6,0)\" style=\"font-family: 'Open Sans', verdana, arial, sans-serif; font-size: 12px; fill: rgb(42, 63, 95); fill-opacity: 1; white-space: pre;\">6</text></g><g class=\"xtick\"><text text-anchor=\"middle\" x=\"0\" y=\"385.4\" transform=\"translate(456.8,0)\" style=\"font-family: 'Open Sans', verdana, arial, sans-serif; font-size: 12px; fill: rgb(42, 63, 95); fill-opacity: 1; white-space: pre;\">8</text></g><g class=\"xtick\"><text text-anchor=\"middle\" x=\"0\" y=\"385.4\" transform=\"translate(551,0)\" style=\"font-family: 'Open Sans', verdana, arial, sans-serif; font-size: 12px; fill: rgb(42, 63, 95); fill-opacity: 1; white-space: pre;\">10</text></g></g><g class=\"yaxislayer-above\"><g class=\"ytick\"><text text-anchor=\"end\" x=\"76.6\" y=\"4.199999999999999\" transform=\"translate(0,364.97)\" style=\"font-family: 'Open Sans', verdana, arial, sans-serif; font-size: 12px; fill: rgb(42, 63, 95); fill-opacity: 1; white-space: pre;\">0.2</text></g><g class=\"ytick\"><text text-anchor=\"end\" x=\"76.6\" y=\"4.199999999999999\" transform=\"translate(0,301.08000000000004)\" style=\"font-family: 'Open Sans', verdana, arial, sans-serif; font-size: 12px; fill: rgb(42, 63, 95); fill-opacity: 1; white-space: pre;\">0.4</text></g><g class=\"ytick\"><text text-anchor=\"end\" x=\"76.6\" y=\"4.199999999999999\" transform=\"translate(0,237.19)\" style=\"font-family: 'Open Sans', verdana, arial, sans-serif; font-size: 12px; fill: rgb(42, 63, 95); fill-opacity: 1; white-space: pre;\">0.6</text></g><g class=\"ytick\"><text text-anchor=\"end\" x=\"76.6\" y=\"4.199999999999999\" transform=\"translate(0,173.31)\" style=\"font-family: 'Open Sans', verdana, arial, sans-serif; font-size: 12px; fill: rgb(42, 63, 95); fill-opacity: 1; white-space: pre;\">0.8</text></g><g class=\"ytick\"><text text-anchor=\"end\" x=\"76.6\" y=\"4.199999999999999\" transform=\"translate(0,109.42)\" style=\"font-family: 'Open Sans', verdana, arial, sans-serif; font-size: 12px; fill: rgb(42, 63, 95); fill-opacity: 1; white-space: pre;\">1</text></g></g><g class=\"overaxes-above\"/></g></g><g class=\"polarlayer\"/><g class=\"ternarylayer\"/><g class=\"geolayer\"/><g class=\"funnelarealayer\"/><g class=\"pielayer\"/><g class=\"treemaplayer\"/><g class=\"sunburstlayer\"/><g class=\"glimages\"/><defs id=\"topdefs-12cf3b\"><g class=\"clips\"/><clipPath id=\"legend12cf3b\"><rect width=\"128\" height=\"143\" x=\"0\" y=\"0\"/></clipPath></defs><g class=\"layer-above\"><g class=\"imagelayer\"/><g class=\"shapelayer\"/></g><g class=\"infolayer\"><g class=\"legend\" pointer-events=\"all\" transform=\"translate(560.4200000000001, 100)\"><rect class=\"bg\" shape-rendering=\"crispEdges\" style=\"stroke: rgb(68, 68, 68); stroke-opacity: 1; fill: rgb(255, 255, 255); fill-opacity: 1; stroke-width: 0px;\" width=\"128\" height=\"143\" x=\"0\" y=\"0\"/><g class=\"scrollbox\" transform=\"translate(0, 0)\" clip-path=\"url('#legend12cf3b')\"><g class=\"groups\"><g class=\"traces\" style=\"opacity: 1;\" transform=\"translate(0, 14.5)\"><text class=\"legendtext user-select-none\" text-anchor=\"start\" x=\"40\" y=\"4.680000000000001\" style=\"font-family: 'Open Sans', verdana, arial, sans-serif; font-size: 12px; fill: rgb(42, 63, 95); fill-opacity: 1; white-space: pre;\">ro_err=0.0</text><g class=\"layers\" style=\"opacity: 1;\"><g class=\"legendfill\"/><g class=\"legendlines\"><path class=\"js-line\" d=\"M5,0h30\" style=\"fill: none; stroke: rgb(99, 110, 250); stroke-opacity: 1; stroke-width: 2px;\"/></g><g class=\"legendsymbols\"><g class=\"legendpoints\"><path class=\"scatterpts\" transform=\"translate(20,0)\" d=\"M3,0A3,3 0 1,1 0,-3A3,3 0 0,1 3,0Z\" style=\"opacity: 1; stroke-width: 0px; fill: rgb(99, 110, 250); fill-opacity: 1;\"/></g></g></g><rect class=\"legendtoggle\" pointer-events=\"all\" x=\"0\" y=\"-9.5\" width=\"122.125\" height=\"19\" style=\"cursor: pointer; fill: rgb(0, 0, 0); fill-opacity: 0;\"/></g><g class=\"traces\" style=\"opacity: 1;\" transform=\"translate(0, 33.5)\"><text class=\"legendtext user-select-none\" text-anchor=\"start\" x=\"40\" y=\"4.680000000000001\" style=\"font-family: 'Open Sans', verdana, arial, sans-serif; font-size: 12px; fill: rgb(42, 63, 95); fill-opacity: 1; white-space: pre;\">ro_err=0.025</text><g class=\"layers\" style=\"opacity: 1;\"><g class=\"legendfill\"/><g class=\"legendlines\"><path class=\"js-line\" d=\"M5,0h30\" style=\"fill: none; stroke: rgb(239, 85, 59); stroke-opacity: 1; stroke-width: 2px;\"/></g><g class=\"legendsymbols\"><g class=\"legendpoints\"><path class=\"scatterpts\" transform=\"translate(20,0)\" d=\"M3,0A3,3 0 1,1 0,-3A3,3 0 0,1 3,0Z\" style=\"opacity: 1; stroke-width: 0px; fill: rgb(239, 85, 59); fill-opacity: 1;\"/></g></g></g><rect class=\"legendtoggle\" pointer-events=\"all\" x=\"0\" y=\"-9.5\" width=\"122.125\" height=\"19\" style=\"cursor: pointer; fill: rgb(0, 0, 0); fill-opacity: 0;\"/></g><g class=\"traces\" style=\"opacity: 1;\" transform=\"translate(0, 52.5)\"><text class=\"legendtext user-select-none\" text-anchor=\"start\" x=\"40\" y=\"4.680000000000001\" style=\"font-family: 'Open Sans', verdana, arial, sans-serif; font-size: 12px; fill: rgb(42, 63, 95); fill-opacity: 1; white-space: pre;\">ro_err=0.05</text><g class=\"layers\" style=\"opacity: 1;\"><g class=\"legendfill\"/><g class=\"legendlines\"><path class=\"js-line\" d=\"M5,0h30\" style=\"fill: none; stroke: rgb(0, 204, 150); stroke-opacity: 1; stroke-width: 2px;\"/></g><g class=\"legendsymbols\"><g class=\"legendpoints\"><path class=\"scatterpts\" transform=\"translate(20,0)\" d=\"M3,0A3,3 0 1,1 0,-3A3,3 0 0,1 3,0Z\" style=\"opacity: 1; stroke-width: 0px; fill: rgb(0, 204, 150); fill-opacity: 1;\"/></g></g></g><rect class=\"legendtoggle\" pointer-events=\"all\" x=\"0\" y=\"-9.5\" width=\"122.125\" height=\"19\" style=\"cursor: pointer; fill: rgb(0, 0, 0); fill-opacity: 0;\"/></g><g class=\"traces\" style=\"opacity: 1;\" transform=\"translate(0, 71.5)\"><text class=\"legendtext user-select-none\" text-anchor=\"start\" x=\"40\" y=\"4.680000000000001\" style=\"font-family: 'Open Sans', verdana, arial, sans-serif; font-size: 12px; fill: rgb(42, 63, 95); fill-opacity: 1; white-space: pre;\">ro_err=0.075</text><g class=\"layers\" style=\"opacity: 1;\"><g class=\"legendfill\"/><g class=\"legendlines\"><path class=\"js-line\" d=\"M5,0h30\" style=\"fill: none; stroke: rgb(171, 99, 250); stroke-opacity: 1; stroke-width: 2px;\"/></g><g class=\"legendsymbols\"><g class=\"legendpoints\"><path class=\"scatterpts\" transform=\"translate(20,0)\" d=\"M3,0A3,3 0 1,1 0,-3A3,3 0 0,1 3,0Z\" style=\"opacity: 1; stroke-width: 0px; fill: rgb(171, 99, 250); fill-opacity: 1;\"/></g></g></g><rect class=\"legendtoggle\" pointer-events=\"all\" x=\"0\" y=\"-9.5\" width=\"122.125\" height=\"19\" style=\"cursor: pointer; fill: rgb(0, 0, 0); fill-opacity: 0;\"/></g><g class=\"traces\" style=\"opacity: 1;\" transform=\"translate(0, 90.5)\"><text class=\"legendtext user-select-none\" text-anchor=\"start\" x=\"40\" y=\"4.680000000000001\" style=\"font-family: 'Open Sans', verdana, arial, sans-serif; font-size: 12px; fill: rgb(42, 63, 95); fill-opacity: 1; white-space: pre;\">ro_err=0.1</text><g class=\"layers\" style=\"opacity: 1;\"><g class=\"legendfill\"/><g class=\"legendlines\"><path class=\"js-line\" d=\"M5,0h30\" style=\"fill: none; stroke: rgb(255, 161, 90); stroke-opacity: 1; stroke-width: 2px;\"/></g><g class=\"legendsymbols\"><g class=\"legendpoints\"><path class=\"scatterpts\" transform=\"translate(20,0)\" d=\"M3,0A3,3 0 1,1 0,-3A3,3 0 0,1 3,0Z\" style=\"opacity: 1; stroke-width: 0px; fill: rgb(255, 161, 90); fill-opacity: 1;\"/></g></g></g><rect class=\"legendtoggle\" pointer-events=\"all\" x=\"0\" y=\"-9.5\" width=\"122.125\" height=\"19\" style=\"cursor: pointer; fill: rgb(0, 0, 0); fill-opacity: 0;\"/></g><g class=\"traces\" style=\"opacity: 1;\" transform=\"translate(0, 109.5)\"><text class=\"legendtext user-select-none\" text-anchor=\"start\" x=\"40\" y=\"4.680000000000001\" style=\"font-family: 'Open Sans', verdana, arial, sans-serif; font-size: 12px; fill: rgb(42, 63, 95); fill-opacity: 1; white-space: pre;\">ro_err=0.125</text><g class=\"layers\" style=\"opacity: 1;\"><g class=\"legendfill\"/><g class=\"legendlines\"><path class=\"js-line\" d=\"M5,0h30\" style=\"fill: none; stroke: rgb(25, 211, 243); stroke-opacity: 1; stroke-width: 2px;\"/></g><g class=\"legendsymbols\"><g class=\"legendpoints\"><path class=\"scatterpts\" transform=\"translate(20,0)\" d=\"M3,0A3,3 0 1,1 0,-3A3,3 0 0,1 3,0Z\" style=\"opacity: 1; stroke-width: 0px; fill: rgb(25, 211, 243); fill-opacity: 1;\"/></g></g></g><rect class=\"legendtoggle\" pointer-events=\"all\" x=\"0\" y=\"-9.5\" width=\"122.125\" height=\"19\" style=\"cursor: pointer; fill: rgb(0, 0, 0); fill-opacity: 0;\"/></g><g class=\"traces\" style=\"opacity: 1;\" transform=\"translate(0, 128.5)\"><text class=\"legendtext user-select-none\" text-anchor=\"start\" x=\"40\" y=\"4.680000000000001\" style=\"font-family: 'Open Sans', verdana, arial, sans-serif; font-size: 12px; fill: rgb(42, 63, 95); fill-opacity: 1; white-space: pre;\">ro_err=0.15</text><g class=\"layers\" style=\"opacity: 1;\"><g class=\"legendfill\"/><g class=\"legendlines\"><path class=\"js-line\" d=\"M5,0h30\" style=\"fill: none; stroke: rgb(255, 102, 146); stroke-opacity: 1; stroke-width: 2px;\"/></g><g class=\"legendsymbols\"><g class=\"legendpoints\"><path class=\"scatterpts\" transform=\"translate(20,0)\" d=\"M3,0A3,3 0 1,1 0,-3A3,3 0 0,1 3,0Z\" style=\"opacity: 1; stroke-width: 0px; fill: rgb(255, 102, 146); fill-opacity: 1;\"/></g></g></g><rect class=\"legendtoggle\" pointer-events=\"all\" x=\"0\" y=\"-9.5\" width=\"122.125\" height=\"19\" style=\"cursor: pointer; fill: rgb(0, 0, 0); fill-opacity: 0;\"/></g></g></g><rect class=\"scrollbar\" rx=\"20\" ry=\"3\" width=\"0\" height=\"0\" style=\"fill: rgb(128, 139, 164); fill-opacity: 1;\" x=\"0\" y=\"0\"/></g><g class=\"g-gtitle\"><text class=\"gtitle\" x=\"35\" y=\"50\" text-anchor=\"start\" dy=\"0em\" style=\"font-family: 'Open Sans', verdana, arial, sans-serif; font-size: 17px; fill: rgb(42, 63, 95); opacity: 1; font-weight: normal; white-space: pre;\">Iterated Entanglement Swapping under Noise (dep_err = 0.03)</text></g><g class=\"g-xtitle\"><text class=\"xtitle\" x=\"315.5\" y=\"412.70625\" text-anchor=\"middle\" style=\"font-family: 'Open Sans', verdana, arial, sans-serif; font-size: 14px; fill: rgb(42, 63, 95); opacity: 1; font-weight: normal; white-space: pre;\">Iterations</text></g><g class=\"g-ytitle\"><text class=\"ytitle\" transform=\"rotate(-90,32.16875,235)\" x=\"32.16875\" y=\"235\" text-anchor=\"middle\" style=\"font-family: 'Open Sans', verdana, arial, sans-serif; font-size: 14px; fill: rgb(42, 63, 95); opacity: 1; font-weight: normal; white-space: pre;\">Fidelity</text></g></g></svg>"
      ]
     },
     "metadata": {},
     "output_type": "display_data"
    },
    {
     "data": {
      "image/svg+xml": [
       "<svg class=\"main-svg\" xmlns=\"http://www.w3.org/2000/svg\" xmlns:xlink=\"http://www.w3.org/1999/xlink\" width=\"700\" height=\"450\" style=\"\" viewBox=\"0 0 700 450\"><rect x=\"0\" y=\"0\" width=\"700\" height=\"450\" style=\"fill: rgb(255, 255, 255); fill-opacity: 1;\"/><defs id=\"defs-bf745d\"><g class=\"clips\"><clipPath id=\"clipbf745dxyplot\" class=\"plotclip\"><rect width=\"469\" height=\"270\"/></clipPath><clipPath class=\"axesclip\" id=\"clipbf745dx\"><rect x=\"80\" y=\"0\" width=\"469\" height=\"450\"/></clipPath><clipPath class=\"axesclip\" id=\"clipbf745dy\"><rect x=\"0\" y=\"100\" width=\"700\" height=\"270\"/></clipPath><clipPath class=\"axesclip\" id=\"clipbf745dxy\"><rect x=\"80\" y=\"100\" width=\"469\" height=\"270\"/></clipPath></g><g class=\"gradients\"/></defs><g class=\"bglayer\"><rect class=\"bg\" x=\"80\" y=\"100\" width=\"469\" height=\"270\" style=\"fill: rgb(229, 236, 246); fill-opacity: 1; stroke-width: 0;\"/></g><g class=\"layer-below\"><g class=\"imagelayer\"/><g class=\"shapelayer\"/></g><g class=\"cartesianlayer\"><g class=\"subplot xy\"><g class=\"layer-subplot\"><g class=\"shapelayer\"/><g class=\"imagelayer\"/></g><g class=\"gridlayer\"><g class=\"x\"><path class=\"xgrid crisp\" transform=\"translate(173.8,0)\" d=\"M0,100v270\" style=\"stroke: rgb(255, 255, 255); stroke-opacity: 1; stroke-width: 1px;\"/><path class=\"xgrid crisp\" transform=\"translate(267.6,0)\" d=\"M0,100v270\" style=\"stroke: rgb(255, 255, 255); stroke-opacity: 1; stroke-width: 1px;\"/><path class=\"xgrid crisp\" transform=\"translate(361.4,0)\" d=\"M0,100v270\" style=\"stroke: rgb(255, 255, 255); stroke-opacity: 1; stroke-width: 1px;\"/><path class=\"xgrid crisp\" transform=\"translate(455.2,0)\" d=\"M0,100v270\" style=\"stroke: rgb(255, 255, 255); stroke-opacity: 1; stroke-width: 1px;\"/></g><g class=\"y\"><path class=\"ygrid crisp\" transform=\"translate(0,343.62)\" d=\"M80,0h469\" style=\"stroke: rgb(255, 255, 255); stroke-opacity: 1; stroke-width: 1px;\"/><path class=\"ygrid crisp\" transform=\"translate(0,303.03)\" d=\"M80,0h469\" style=\"stroke: rgb(255, 255, 255); stroke-opacity: 1; stroke-width: 1px;\"/><path class=\"ygrid crisp\" transform=\"translate(0,262.45)\" d=\"M80,0h469\" style=\"stroke: rgb(255, 255, 255); stroke-opacity: 1; stroke-width: 1px;\"/><path class=\"ygrid crisp\" transform=\"translate(0,221.86)\" d=\"M80,0h469\" style=\"stroke: rgb(255, 255, 255); stroke-opacity: 1; stroke-width: 1px;\"/><path class=\"ygrid crisp\" transform=\"translate(0,181.26999999999998)\" d=\"M80,0h469\" style=\"stroke: rgb(255, 255, 255); stroke-opacity: 1; stroke-width: 1px;\"/><path class=\"ygrid crisp\" transform=\"translate(0,140.69)\" d=\"M80,0h469\" style=\"stroke: rgb(255, 255, 255); stroke-opacity: 1; stroke-width: 1px;\"/></g></g><g class=\"zerolinelayer\"/><path class=\"xlines-below\"/><path class=\"ylines-below\"/><g class=\"overlines-below\"/><g class=\"xaxislayer-below\"/><g class=\"yaxislayer-below\"/><g class=\"overaxes-below\"/><g class=\"plot\" transform=\"translate(80, 100)\" clip-path=\"url('#clipbf745dxyplot')\"><g class=\"scatterlayer mlayer\"><g class=\"trace scatter trace1b88a9\" style=\"stroke-miterlimit: 2; opacity: 1;\"><g class=\"fills\"/><g class=\"errorbars\"/><g class=\"lines\"><path class=\"js-line\" d=\"M0,17.25L46.9,54.49L93.8,79.96L140.7,101.26L187.6,117.29L234.5,137.28L281.4,151.08L328.3,167.52L375.2,177.36L422.1,188.73L469,196.54\" style=\"vector-effect: non-scaling-stroke; fill: none; stroke: rgb(99, 110, 250); stroke-opacity: 1; stroke-width: 2px; opacity: 1;\"/></g><g class=\"points\"><path class=\"point\" transform=\"translate(0,17.25)\" d=\"M3,0A3,3 0 1,1 0,-3A3,3 0 0,1 3,0Z\" style=\"opacity: 1; stroke-width: 0px; fill: rgb(99, 110, 250); fill-opacity: 1;\"/><path class=\"point\" transform=\"translate(46.9,54.49)\" d=\"M3,0A3,3 0 1,1 0,-3A3,3 0 0,1 3,0Z\" style=\"opacity: 1; stroke-width: 0px; fill: rgb(99, 110, 250); fill-opacity: 1;\"/><path class=\"point\" transform=\"translate(93.8,79.96)\" d=\"M3,0A3,3 0 1,1 0,-3A3,3 0 0,1 3,0Z\" style=\"opacity: 1; stroke-width: 0px; fill: rgb(99, 110, 250); fill-opacity: 1;\"/><path class=\"point\" transform=\"translate(140.7,101.26)\" d=\"M3,0A3,3 0 1,1 0,-3A3,3 0 0,1 3,0Z\" style=\"opacity: 1; stroke-width: 0px; fill: rgb(99, 110, 250); fill-opacity: 1;\"/><path class=\"point\" transform=\"translate(187.6,117.29)\" d=\"M3,0A3,3 0 1,1 0,-3A3,3 0 0,1 3,0Z\" style=\"opacity: 1; stroke-width: 0px; fill: rgb(99, 110, 250); fill-opacity: 1;\"/><path class=\"point\" transform=\"translate(234.5,137.28)\" d=\"M3,0A3,3 0 1,1 0,-3A3,3 0 0,1 3,0Z\" style=\"opacity: 1; stroke-width: 0px; fill: rgb(99, 110, 250); fill-opacity: 1;\"/><path class=\"point\" transform=\"translate(281.4,151.08)\" d=\"M3,0A3,3 0 1,1 0,-3A3,3 0 0,1 3,0Z\" style=\"opacity: 1; stroke-width: 0px; fill: rgb(99, 110, 250); fill-opacity: 1;\"/><path class=\"point\" transform=\"translate(328.3,167.52)\" d=\"M3,0A3,3 0 1,1 0,-3A3,3 0 0,1 3,0Z\" style=\"opacity: 1; stroke-width: 0px; fill: rgb(99, 110, 250); fill-opacity: 1;\"/><path class=\"point\" transform=\"translate(375.2,177.36)\" d=\"M3,0A3,3 0 1,1 0,-3A3,3 0 0,1 3,0Z\" style=\"opacity: 1; stroke-width: 0px; fill: rgb(99, 110, 250); fill-opacity: 1;\"/><path class=\"point\" transform=\"translate(422.1,188.73)\" d=\"M3,0A3,3 0 1,1 0,-3A3,3 0 0,1 3,0Z\" style=\"opacity: 1; stroke-width: 0px; fill: rgb(99, 110, 250); fill-opacity: 1;\"/><path class=\"point\" transform=\"translate(469,196.54)\" d=\"M3,0A3,3 0 1,1 0,-3A3,3 0 0,1 3,0Z\" style=\"opacity: 1; stroke-width: 0px; fill: rgb(99, 110, 250); fill-opacity: 1;\"/></g><g class=\"text\"/></g><g class=\"trace scatter trace472053\" style=\"stroke-miterlimit: 2; opacity: 1;\"><g class=\"fills\"/><g class=\"errorbars\"/><g class=\"lines\"><path class=\"js-line\" d=\"M0,18.06L46.9,54.18L93.8,88.48L140.7,113.13L187.6,136.88L234.5,151.59L281.4,162.55L328.3,175.13L375.2,189.94L422.1,205.67L469,211.15\" style=\"vector-effect: non-scaling-stroke; fill: none; stroke: rgb(239, 85, 59); stroke-opacity: 1; stroke-width: 2px; opacity: 1;\"/></g><g class=\"points\"><path class=\"point\" transform=\"translate(0,18.06)\" d=\"M3,0A3,3 0 1,1 0,-3A3,3 0 0,1 3,0Z\" style=\"opacity: 1; stroke-width: 0px; fill: rgb(239, 85, 59); fill-opacity: 1;\"/><path class=\"point\" transform=\"translate(46.9,54.18)\" d=\"M3,0A3,3 0 1,1 0,-3A3,3 0 0,1 3,0Z\" style=\"opacity: 1; stroke-width: 0px; fill: rgb(239, 85, 59); fill-opacity: 1;\"/><path class=\"point\" transform=\"translate(93.8,88.48)\" d=\"M3,0A3,3 0 1,1 0,-3A3,3 0 0,1 3,0Z\" style=\"opacity: 1; stroke-width: 0px; fill: rgb(239, 85, 59); fill-opacity: 1;\"/><path class=\"point\" transform=\"translate(140.7,113.13)\" d=\"M3,0A3,3 0 1,1 0,-3A3,3 0 0,1 3,0Z\" style=\"opacity: 1; stroke-width: 0px; fill: rgb(239, 85, 59); fill-opacity: 1;\"/><path class=\"point\" transform=\"translate(187.6,136.88)\" d=\"M3,0A3,3 0 1,1 0,-3A3,3 0 0,1 3,0Z\" style=\"opacity: 1; stroke-width: 0px; fill: rgb(239, 85, 59); fill-opacity: 1;\"/><path class=\"point\" transform=\"translate(234.5,151.59)\" d=\"M3,0A3,3 0 1,1 0,-3A3,3 0 0,1 3,0Z\" style=\"opacity: 1; stroke-width: 0px; fill: rgb(239, 85, 59); fill-opacity: 1;\"/><path class=\"point\" transform=\"translate(281.4,162.55)\" d=\"M3,0A3,3 0 1,1 0,-3A3,3 0 0,1 3,0Z\" style=\"opacity: 1; stroke-width: 0px; fill: rgb(239, 85, 59); fill-opacity: 1;\"/><path class=\"point\" transform=\"translate(328.3,175.13)\" d=\"M3,0A3,3 0 1,1 0,-3A3,3 0 0,1 3,0Z\" style=\"opacity: 1; stroke-width: 0px; fill: rgb(239, 85, 59); fill-opacity: 1;\"/><path class=\"point\" transform=\"translate(375.2,189.94)\" d=\"M3,0A3,3 0 1,1 0,-3A3,3 0 0,1 3,0Z\" style=\"opacity: 1; stroke-width: 0px; fill: rgb(239, 85, 59); fill-opacity: 1;\"/><path class=\"point\" transform=\"translate(422.1,205.67)\" d=\"M3,0A3,3 0 1,1 0,-3A3,3 0 0,1 3,0Z\" style=\"opacity: 1; stroke-width: 0px; fill: rgb(239, 85, 59); fill-opacity: 1;\"/><path class=\"point\" transform=\"translate(469,211.15)\" d=\"M3,0A3,3 0 1,1 0,-3A3,3 0 0,1 3,0Z\" style=\"opacity: 1; stroke-width: 0px; fill: rgb(239, 85, 59); fill-opacity: 1;\"/></g><g class=\"text\"/></g><g class=\"trace scatter trace0a55d7\" style=\"stroke-miterlimit: 2; opacity: 1;\"><g class=\"fills\"/><g class=\"errorbars\"/><g class=\"lines\"><path class=\"js-line\" d=\"M0,22.22L46.9,60.27L93.8,91.73L140.7,126.63L187.6,146.72L234.5,159.1L281.4,182.64L328.3,195.63L375.2,201.21L422.1,213.18L469,217.03\" style=\"vector-effect: non-scaling-stroke; fill: none; stroke: rgb(0, 204, 150); stroke-opacity: 1; stroke-width: 2px; opacity: 1;\"/></g><g class=\"points\"><path class=\"point\" transform=\"translate(0,22.22)\" d=\"M3,0A3,3 0 1,1 0,-3A3,3 0 0,1 3,0Z\" style=\"opacity: 1; stroke-width: 0px; fill: rgb(0, 204, 150); fill-opacity: 1;\"/><path class=\"point\" transform=\"translate(46.9,60.27)\" d=\"M3,0A3,3 0 1,1 0,-3A3,3 0 0,1 3,0Z\" style=\"opacity: 1; stroke-width: 0px; fill: rgb(0, 204, 150); fill-opacity: 1;\"/><path class=\"point\" transform=\"translate(93.8,91.73)\" d=\"M3,0A3,3 0 1,1 0,-3A3,3 0 0,1 3,0Z\" style=\"opacity: 1; stroke-width: 0px; fill: rgb(0, 204, 150); fill-opacity: 1;\"/><path class=\"point\" transform=\"translate(140.7,126.63)\" d=\"M3,0A3,3 0 1,1 0,-3A3,3 0 0,1 3,0Z\" style=\"opacity: 1; stroke-width: 0px; fill: rgb(0, 204, 150); fill-opacity: 1;\"/><path class=\"point\" transform=\"translate(187.6,146.72)\" d=\"M3,0A3,3 0 1,1 0,-3A3,3 0 0,1 3,0Z\" style=\"opacity: 1; stroke-width: 0px; fill: rgb(0, 204, 150); fill-opacity: 1;\"/><path class=\"point\" transform=\"translate(234.5,159.1)\" d=\"M3,0A3,3 0 1,1 0,-3A3,3 0 0,1 3,0Z\" style=\"opacity: 1; stroke-width: 0px; fill: rgb(0, 204, 150); fill-opacity: 1;\"/><path class=\"point\" transform=\"translate(281.4,182.64)\" d=\"M3,0A3,3 0 1,1 0,-3A3,3 0 0,1 3,0Z\" style=\"opacity: 1; stroke-width: 0px; fill: rgb(0, 204, 150); fill-opacity: 1;\"/><path class=\"point\" transform=\"translate(328.3,195.63)\" d=\"M3,0A3,3 0 1,1 0,-3A3,3 0 0,1 3,0Z\" style=\"opacity: 1; stroke-width: 0px; fill: rgb(0, 204, 150); fill-opacity: 1;\"/><path class=\"point\" transform=\"translate(375.2,201.21)\" d=\"M3,0A3,3 0 1,1 0,-3A3,3 0 0,1 3,0Z\" style=\"opacity: 1; stroke-width: 0px; fill: rgb(0, 204, 150); fill-opacity: 1;\"/><path class=\"point\" transform=\"translate(422.1,213.18)\" d=\"M3,0A3,3 0 1,1 0,-3A3,3 0 0,1 3,0Z\" style=\"opacity: 1; stroke-width: 0px; fill: rgb(0, 204, 150); fill-opacity: 1;\"/><path class=\"point\" transform=\"translate(469,217.03)\" d=\"M3,0A3,3 0 1,1 0,-3A3,3 0 0,1 3,0Z\" style=\"opacity: 1; stroke-width: 0px; fill: rgb(0, 204, 150); fill-opacity: 1;\"/></g><g class=\"text\"/></g><g class=\"trace scatter trace4788c2\" style=\"stroke-miterlimit: 2; opacity: 1;\"><g class=\"fills\"/><g class=\"errorbars\"/><g class=\"lines\"><path class=\"js-line\" d=\"M0,24.45L46.9,68.59L93.8,97.51L140.7,134.34L187.6,154.23L234.5,174.22L281.4,198.06L328.3,208.82L375.2,209.22L422.1,217.03L469,229.11\" style=\"vector-effect: non-scaling-stroke; fill: none; stroke: rgb(171, 99, 250); stroke-opacity: 1; stroke-width: 2px; opacity: 1;\"/></g><g class=\"points\"><path class=\"point\" transform=\"translate(0,24.45)\" d=\"M3,0A3,3 0 1,1 0,-3A3,3 0 0,1 3,0Z\" style=\"opacity: 1; stroke-width: 0px; fill: rgb(171, 99, 250); fill-opacity: 1;\"/><path class=\"point\" transform=\"translate(46.9,68.59)\" d=\"M3,0A3,3 0 1,1 0,-3A3,3 0 0,1 3,0Z\" style=\"opacity: 1; stroke-width: 0px; fill: rgb(171, 99, 250); fill-opacity: 1;\"/><path class=\"point\" transform=\"translate(93.8,97.51)\" d=\"M3,0A3,3 0 1,1 0,-3A3,3 0 0,1 3,0Z\" style=\"opacity: 1; stroke-width: 0px; fill: rgb(171, 99, 250); fill-opacity: 1;\"/><path class=\"point\" transform=\"translate(140.7,134.34)\" d=\"M3,0A3,3 0 1,1 0,-3A3,3 0 0,1 3,0Z\" style=\"opacity: 1; stroke-width: 0px; fill: rgb(171, 99, 250); fill-opacity: 1;\"/><path class=\"point\" transform=\"translate(187.6,154.23)\" d=\"M3,0A3,3 0 1,1 0,-3A3,3 0 0,1 3,0Z\" style=\"opacity: 1; stroke-width: 0px; fill: rgb(171, 99, 250); fill-opacity: 1;\"/><path class=\"point\" transform=\"translate(234.5,174.22)\" d=\"M3,0A3,3 0 1,1 0,-3A3,3 0 0,1 3,0Z\" style=\"opacity: 1; stroke-width: 0px; fill: rgb(171, 99, 250); fill-opacity: 1;\"/><path class=\"point\" transform=\"translate(281.4,198.06)\" d=\"M3,0A3,3 0 1,1 0,-3A3,3 0 0,1 3,0Z\" style=\"opacity: 1; stroke-width: 0px; fill: rgb(171, 99, 250); fill-opacity: 1;\"/><path class=\"point\" transform=\"translate(328.3,208.82)\" d=\"M3,0A3,3 0 1,1 0,-3A3,3 0 0,1 3,0Z\" style=\"opacity: 1; stroke-width: 0px; fill: rgb(171, 99, 250); fill-opacity: 1;\"/><path class=\"point\" transform=\"translate(375.2,209.22)\" d=\"M3,0A3,3 0 1,1 0,-3A3,3 0 0,1 3,0Z\" style=\"opacity: 1; stroke-width: 0px; fill: rgb(171, 99, 250); fill-opacity: 1;\"/><path class=\"point\" transform=\"translate(422.1,217.03)\" d=\"M3,0A3,3 0 1,1 0,-3A3,3 0 0,1 3,0Z\" style=\"opacity: 1; stroke-width: 0px; fill: rgb(171, 99, 250); fill-opacity: 1;\"/><path class=\"point\" transform=\"translate(469,229.11)\" d=\"M3,0A3,3 0 1,1 0,-3A3,3 0 0,1 3,0Z\" style=\"opacity: 1; stroke-width: 0px; fill: rgb(171, 99, 250); fill-opacity: 1;\"/></g><g class=\"text\"/></g><g class=\"trace scatter trace5e24f8\" style=\"stroke-miterlimit: 2; opacity: 1;\"><g class=\"fills\"/><g class=\"errorbars\"/><g class=\"lines\"><path class=\"js-line\" d=\"M0,25.98L46.9,75.19L93.8,100.86L140.7,148.04L187.6,162.55L234.5,186.29L281.4,200.5L328.3,211.15L375.2,220.48L422.1,227.69L469,233.88\" style=\"vector-effect: non-scaling-stroke; fill: none; stroke: rgb(255, 161, 90); stroke-opacity: 1; stroke-width: 2px; opacity: 1;\"/></g><g class=\"points\"><path class=\"point\" transform=\"translate(0,25.98)\" d=\"M3,0A3,3 0 1,1 0,-3A3,3 0 0,1 3,0Z\" style=\"opacity: 1; stroke-width: 0px; fill: rgb(255, 161, 90); fill-opacity: 1;\"/><path class=\"point\" transform=\"translate(46.9,75.19)\" d=\"M3,0A3,3 0 1,1 0,-3A3,3 0 0,1 3,0Z\" style=\"opacity: 1; stroke-width: 0px; fill: rgb(255, 161, 90); fill-opacity: 1;\"/><path class=\"point\" transform=\"translate(93.8,100.86)\" d=\"M3,0A3,3 0 1,1 0,-3A3,3 0 0,1 3,0Z\" style=\"opacity: 1; stroke-width: 0px; fill: rgb(255, 161, 90); fill-opacity: 1;\"/><path class=\"point\" transform=\"translate(140.7,148.04)\" d=\"M3,0A3,3 0 1,1 0,-3A3,3 0 0,1 3,0Z\" style=\"opacity: 1; stroke-width: 0px; fill: rgb(255, 161, 90); fill-opacity: 1;\"/><path class=\"point\" transform=\"translate(187.6,162.55)\" d=\"M3,0A3,3 0 1,1 0,-3A3,3 0 0,1 3,0Z\" style=\"opacity: 1; stroke-width: 0px; fill: rgb(255, 161, 90); fill-opacity: 1;\"/><path class=\"point\" transform=\"translate(234.5,186.29)\" d=\"M3,0A3,3 0 1,1 0,-3A3,3 0 0,1 3,0Z\" style=\"opacity: 1; stroke-width: 0px; fill: rgb(255, 161, 90); fill-opacity: 1;\"/><path class=\"point\" transform=\"translate(281.4,200.5)\" d=\"M3,0A3,3 0 1,1 0,-3A3,3 0 0,1 3,0Z\" style=\"opacity: 1; stroke-width: 0px; fill: rgb(255, 161, 90); fill-opacity: 1;\"/><path class=\"point\" transform=\"translate(328.3,211.15)\" d=\"M3,0A3,3 0 1,1 0,-3A3,3 0 0,1 3,0Z\" style=\"opacity: 1; stroke-width: 0px; fill: rgb(255, 161, 90); fill-opacity: 1;\"/><path class=\"point\" transform=\"translate(375.2,220.48)\" d=\"M3,0A3,3 0 1,1 0,-3A3,3 0 0,1 3,0Z\" style=\"opacity: 1; stroke-width: 0px; fill: rgb(255, 161, 90); fill-opacity: 1;\"/><path class=\"point\" transform=\"translate(422.1,227.69)\" d=\"M3,0A3,3 0 1,1 0,-3A3,3 0 0,1 3,0Z\" style=\"opacity: 1; stroke-width: 0px; fill: rgb(255, 161, 90); fill-opacity: 1;\"/><path class=\"point\" transform=\"translate(469,233.88)\" d=\"M3,0A3,3 0 1,1 0,-3A3,3 0 0,1 3,0Z\" style=\"opacity: 1; stroke-width: 0px; fill: rgb(255, 161, 90); fill-opacity: 1;\"/></g><g class=\"text\"/></g><g class=\"trace scatter trace99e2a9\" style=\"stroke-miterlimit: 2; opacity: 1;\"><g class=\"fills\"/><g class=\"errorbars\"/><g class=\"lines\"><path class=\"js-line\" d=\"M0,32.37L46.9,79.55L93.8,118L140.7,153.01L187.6,178.99L234.5,190.25L281.4,211.96L328.3,222.72L375.2,226.98L422.1,233.88L469,241.69\" style=\"vector-effect: non-scaling-stroke; fill: none; stroke: rgb(25, 211, 243); stroke-opacity: 1; stroke-width: 2px; opacity: 1;\"/></g><g class=\"points\"><path class=\"point\" transform=\"translate(0,32.37)\" d=\"M3,0A3,3 0 1,1 0,-3A3,3 0 0,1 3,0Z\" style=\"opacity: 1; stroke-width: 0px; fill: rgb(25, 211, 243); fill-opacity: 1;\"/><path class=\"point\" transform=\"translate(46.9,79.55)\" d=\"M3,0A3,3 0 1,1 0,-3A3,3 0 0,1 3,0Z\" style=\"opacity: 1; stroke-width: 0px; fill: rgb(25, 211, 243); fill-opacity: 1;\"/><path class=\"point\" transform=\"translate(93.8,118)\" d=\"M3,0A3,3 0 1,1 0,-3A3,3 0 0,1 3,0Z\" style=\"opacity: 1; stroke-width: 0px; fill: rgb(25, 211, 243); fill-opacity: 1;\"/><path class=\"point\" transform=\"translate(140.7,153.01)\" d=\"M3,0A3,3 0 1,1 0,-3A3,3 0 0,1 3,0Z\" style=\"opacity: 1; stroke-width: 0px; fill: rgb(25, 211, 243); fill-opacity: 1;\"/><path class=\"point\" transform=\"translate(187.6,178.99)\" d=\"M3,0A3,3 0 1,1 0,-3A3,3 0 0,1 3,0Z\" style=\"opacity: 1; stroke-width: 0px; fill: rgb(25, 211, 243); fill-opacity: 1;\"/><path class=\"point\" transform=\"translate(234.5,190.25)\" d=\"M3,0A3,3 0 1,1 0,-3A3,3 0 0,1 3,0Z\" style=\"opacity: 1; stroke-width: 0px; fill: rgb(25, 211, 243); fill-opacity: 1;\"/><path class=\"point\" transform=\"translate(281.4,211.96)\" d=\"M3,0A3,3 0 1,1 0,-3A3,3 0 0,1 3,0Z\" style=\"opacity: 1; stroke-width: 0px; fill: rgb(25, 211, 243); fill-opacity: 1;\"/><path class=\"point\" transform=\"translate(328.3,222.72)\" d=\"M3,0A3,3 0 1,1 0,-3A3,3 0 0,1 3,0Z\" style=\"opacity: 1; stroke-width: 0px; fill: rgb(25, 211, 243); fill-opacity: 1;\"/><path class=\"point\" transform=\"translate(375.2,226.98)\" d=\"M3,0A3,3 0 1,1 0,-3A3,3 0 0,1 3,0Z\" style=\"opacity: 1; stroke-width: 0px; fill: rgb(25, 211, 243); fill-opacity: 1;\"/><path class=\"point\" transform=\"translate(422.1,233.88)\" d=\"M3,0A3,3 0 1,1 0,-3A3,3 0 0,1 3,0Z\" style=\"opacity: 1; stroke-width: 0px; fill: rgb(25, 211, 243); fill-opacity: 1;\"/><path class=\"point\" transform=\"translate(469,241.69)\" d=\"M3,0A3,3 0 1,1 0,-3A3,3 0 0,1 3,0Z\" style=\"opacity: 1; stroke-width: 0px; fill: rgb(25, 211, 243); fill-opacity: 1;\"/></g><g class=\"text\"/></g><g class=\"trace scatter trace1b76a0\" style=\"stroke-miterlimit: 2; opacity: 1;\"><g class=\"fills\"/><g class=\"errorbars\"/><g class=\"lines\"><path class=\"js-line\" d=\"M0,33.28L46.9,86.25L93.8,130.48L140.7,165.59L187.6,183.86L281.4,209.53L328.3,223.43L375.2,226.98L422.1,236.52L469,243.11\" style=\"vector-effect: non-scaling-stroke; fill: none; stroke: rgb(255, 102, 146); stroke-opacity: 1; stroke-width: 2px; opacity: 1;\"/></g><g class=\"points\"><path class=\"point\" transform=\"translate(0,33.28)\" d=\"M3,0A3,3 0 1,1 0,-3A3,3 0 0,1 3,0Z\" style=\"opacity: 1; stroke-width: 0px; fill: rgb(255, 102, 146); fill-opacity: 1;\"/><path class=\"point\" transform=\"translate(46.9,86.25)\" d=\"M3,0A3,3 0 1,1 0,-3A3,3 0 0,1 3,0Z\" style=\"opacity: 1; stroke-width: 0px; fill: rgb(255, 102, 146); fill-opacity: 1;\"/><path class=\"point\" transform=\"translate(93.8,130.48)\" d=\"M3,0A3,3 0 1,1 0,-3A3,3 0 0,1 3,0Z\" style=\"opacity: 1; stroke-width: 0px; fill: rgb(255, 102, 146); fill-opacity: 1;\"/><path class=\"point\" transform=\"translate(140.7,165.59)\" d=\"M3,0A3,3 0 1,1 0,-3A3,3 0 0,1 3,0Z\" style=\"opacity: 1; stroke-width: 0px; fill: rgb(255, 102, 146); fill-opacity: 1;\"/><path class=\"point\" transform=\"translate(187.6,183.86)\" d=\"M3,0A3,3 0 1,1 0,-3A3,3 0 0,1 3,0Z\" style=\"opacity: 1; stroke-width: 0px; fill: rgb(255, 102, 146); fill-opacity: 1;\"/><path class=\"point\" transform=\"translate(234.5,196.94)\" d=\"M3,0A3,3 0 1,1 0,-3A3,3 0 0,1 3,0Z\" style=\"opacity: 1; stroke-width: 0px; fill: rgb(255, 102, 146); fill-opacity: 1;\"/><path class=\"point\" transform=\"translate(281.4,209.53)\" d=\"M3,0A3,3 0 1,1 0,-3A3,3 0 0,1 3,0Z\" style=\"opacity: 1; stroke-width: 0px; fill: rgb(255, 102, 146); fill-opacity: 1;\"/><path class=\"point\" transform=\"translate(328.3,223.43)\" d=\"M3,0A3,3 0 1,1 0,-3A3,3 0 0,1 3,0Z\" style=\"opacity: 1; stroke-width: 0px; fill: rgb(255, 102, 146); fill-opacity: 1;\"/><path class=\"point\" transform=\"translate(375.2,226.98)\" d=\"M3,0A3,3 0 1,1 0,-3A3,3 0 0,1 3,0Z\" style=\"opacity: 1; stroke-width: 0px; fill: rgb(255, 102, 146); fill-opacity: 1;\"/><path class=\"point\" transform=\"translate(422.1,236.52)\" d=\"M3,0A3,3 0 1,1 0,-3A3,3 0 0,1 3,0Z\" style=\"opacity: 1; stroke-width: 0px; fill: rgb(255, 102, 146); fill-opacity: 1;\"/><path class=\"point\" transform=\"translate(469,243.11)\" d=\"M3,0A3,3 0 1,1 0,-3A3,3 0 0,1 3,0Z\" style=\"opacity: 1; stroke-width: 0px; fill: rgb(255, 102, 146); fill-opacity: 1;\"/></g><g class=\"text\"/></g><g class=\"trace scatter trace9fb962\" style=\"stroke-miterlimit: 2; opacity: 1;\"><g class=\"fills\"/><g class=\"errorbars\"/><g class=\"lines\"><path class=\"js-line\" d=\"M0,36.83L46.9,91.32L93.8,136.57L140.7,170.87L187.6,195.22L234.5,212.77L281.4,221.9L328.3,225.46L375.2,245.34L422.1,251.13L469,252.75\" style=\"vector-effect: non-scaling-stroke; fill: none; stroke: rgb(182, 232, 128); stroke-opacity: 1; stroke-width: 2px; opacity: 1;\"/></g><g class=\"points\"><path class=\"point\" transform=\"translate(0,36.83)\" d=\"M3,0A3,3 0 1,1 0,-3A3,3 0 0,1 3,0Z\" style=\"opacity: 1; stroke-width: 0px; fill: rgb(182, 232, 128); fill-opacity: 1;\"/><path class=\"point\" transform=\"translate(46.9,91.32)\" d=\"M3,0A3,3 0 1,1 0,-3A3,3 0 0,1 3,0Z\" style=\"opacity: 1; stroke-width: 0px; fill: rgb(182, 232, 128); fill-opacity: 1;\"/><path class=\"point\" transform=\"translate(93.8,136.57)\" d=\"M3,0A3,3 0 1,1 0,-3A3,3 0 0,1 3,0Z\" style=\"opacity: 1; stroke-width: 0px; fill: rgb(182, 232, 128); fill-opacity: 1;\"/><path class=\"point\" transform=\"translate(140.7,170.87)\" d=\"M3,0A3,3 0 1,1 0,-3A3,3 0 0,1 3,0Z\" style=\"opacity: 1; stroke-width: 0px; fill: rgb(182, 232, 128); fill-opacity: 1;\"/><path class=\"point\" transform=\"translate(187.6,195.22)\" d=\"M3,0A3,3 0 1,1 0,-3A3,3 0 0,1 3,0Z\" style=\"opacity: 1; stroke-width: 0px; fill: rgb(182, 232, 128); fill-opacity: 1;\"/><path class=\"point\" transform=\"translate(234.5,212.77)\" d=\"M3,0A3,3 0 1,1 0,-3A3,3 0 0,1 3,0Z\" style=\"opacity: 1; stroke-width: 0px; fill: rgb(182, 232, 128); fill-opacity: 1;\"/><path class=\"point\" transform=\"translate(281.4,221.9)\" d=\"M3,0A3,3 0 1,1 0,-3A3,3 0 0,1 3,0Z\" style=\"opacity: 1; stroke-width: 0px; fill: rgb(182, 232, 128); fill-opacity: 1;\"/><path class=\"point\" transform=\"translate(328.3,225.46)\" d=\"M3,0A3,3 0 1,1 0,-3A3,3 0 0,1 3,0Z\" style=\"opacity: 1; stroke-width: 0px; fill: rgb(182, 232, 128); fill-opacity: 1;\"/><path class=\"point\" transform=\"translate(375.2,245.34)\" d=\"M3,0A3,3 0 1,1 0,-3A3,3 0 0,1 3,0Z\" style=\"opacity: 1; stroke-width: 0px; fill: rgb(182, 232, 128); fill-opacity: 1;\"/><path class=\"point\" transform=\"translate(422.1,251.13)\" d=\"M3,0A3,3 0 1,1 0,-3A3,3 0 0,1 3,0Z\" style=\"opacity: 1; stroke-width: 0px; fill: rgb(182, 232, 128); fill-opacity: 1;\"/><path class=\"point\" transform=\"translate(469,252.75)\" d=\"M3,0A3,3 0 1,1 0,-3A3,3 0 0,1 3,0Z\" style=\"opacity: 1; stroke-width: 0px; fill: rgb(182, 232, 128); fill-opacity: 1;\"/></g><g class=\"text\"/></g><g class=\"trace scatter trace1da625\" style=\"stroke-miterlimit: 2; opacity: 1;\"><g class=\"fills\"/><g class=\"errorbars\"/><g class=\"lines\"><path class=\"js-line\" d=\"M0,34.4L46.9,103.19L93.8,145.81L140.7,173.91L187.6,198.36L234.5,215.82L281.4,223.02L328.3,238.95L375.2,242.4L422.1,247.07L469,250.01\" style=\"vector-effect: non-scaling-stroke; fill: none; stroke: rgb(255, 151, 255); stroke-opacity: 1; stroke-width: 2px; opacity: 1;\"/></g><g class=\"points\"><path class=\"point\" transform=\"translate(0,34.4)\" d=\"M3,0A3,3 0 1,1 0,-3A3,3 0 0,1 3,0Z\" style=\"opacity: 1; stroke-width: 0px; fill: rgb(255, 151, 255); fill-opacity: 1;\"/><path class=\"point\" transform=\"translate(46.9,103.19)\" d=\"M3,0A3,3 0 1,1 0,-3A3,3 0 0,1 3,0Z\" style=\"opacity: 1; stroke-width: 0px; fill: rgb(255, 151, 255); fill-opacity: 1;\"/><path class=\"point\" transform=\"translate(93.8,145.81)\" d=\"M3,0A3,3 0 1,1 0,-3A3,3 0 0,1 3,0Z\" style=\"opacity: 1; stroke-width: 0px; fill: rgb(255, 151, 255); fill-opacity: 1;\"/><path class=\"point\" transform=\"translate(140.7,173.91)\" d=\"M3,0A3,3 0 1,1 0,-3A3,3 0 0,1 3,0Z\" style=\"opacity: 1; stroke-width: 0px; fill: rgb(255, 151, 255); fill-opacity: 1;\"/><path class=\"point\" transform=\"translate(187.6,198.36)\" d=\"M3,0A3,3 0 1,1 0,-3A3,3 0 0,1 3,0Z\" style=\"opacity: 1; stroke-width: 0px; fill: rgb(255, 151, 255); fill-opacity: 1;\"/><path class=\"point\" transform=\"translate(234.5,215.82)\" d=\"M3,0A3,3 0 1,1 0,-3A3,3 0 0,1 3,0Z\" style=\"opacity: 1; stroke-width: 0px; fill: rgb(255, 151, 255); fill-opacity: 1;\"/><path class=\"point\" transform=\"translate(281.4,223.02)\" d=\"M3,0A3,3 0 1,1 0,-3A3,3 0 0,1 3,0Z\" style=\"opacity: 1; stroke-width: 0px; fill: rgb(255, 151, 255); fill-opacity: 1;\"/><path class=\"point\" transform=\"translate(328.3,238.95)\" d=\"M3,0A3,3 0 1,1 0,-3A3,3 0 0,1 3,0Z\" style=\"opacity: 1; stroke-width: 0px; fill: rgb(255, 151, 255); fill-opacity: 1;\"/><path class=\"point\" transform=\"translate(375.2,242.4)\" d=\"M3,0A3,3 0 1,1 0,-3A3,3 0 0,1 3,0Z\" style=\"opacity: 1; stroke-width: 0px; fill: rgb(255, 151, 255); fill-opacity: 1;\"/><path class=\"point\" transform=\"translate(422.1,247.07)\" d=\"M3,0A3,3 0 1,1 0,-3A3,3 0 0,1 3,0Z\" style=\"opacity: 1; stroke-width: 0px; fill: rgb(255, 151, 255); fill-opacity: 1;\"/><path class=\"point\" transform=\"translate(469,250.01)\" d=\"M3,0A3,3 0 1,1 0,-3A3,3 0 0,1 3,0Z\" style=\"opacity: 1; stroke-width: 0px; fill: rgb(255, 151, 255); fill-opacity: 1;\"/></g><g class=\"text\"/></g></g></g><g class=\"overplot\"/><path class=\"xlines-above crisp\" style=\"fill: none; stroke-width: 1px; stroke: rgb(255, 255, 255); stroke-opacity: 1;\" d=\"M79,370.5H549\"/><path class=\"ylines-above crisp\" style=\"fill: none; stroke-width: 1px; stroke: rgb(255, 255, 255); stroke-opacity: 1;\" d=\"M79.5,100V370\"/><g class=\"overlines-above\"/><g class=\"xaxislayer-above\"><g class=\"xtick\"><text text-anchor=\"middle\" x=\"0\" y=\"385.4\" transform=\"translate(80,0)\" style=\"font-family: 'Open Sans', verdana, arial, sans-serif; font-size: 12px; fill: rgb(42, 63, 95); fill-opacity: 1; white-space: pre;\">0</text></g><g class=\"xtick\"><text text-anchor=\"middle\" x=\"0\" y=\"385.4\" transform=\"translate(173.8,0)\" style=\"font-family: 'Open Sans', verdana, arial, sans-serif; font-size: 12px; fill: rgb(42, 63, 95); fill-opacity: 1; white-space: pre;\">2</text></g><g class=\"xtick\"><text text-anchor=\"middle\" x=\"0\" y=\"385.4\" transform=\"translate(267.6,0)\" style=\"font-family: 'Open Sans', verdana, arial, sans-serif; font-size: 12px; fill: rgb(42, 63, 95); fill-opacity: 1; white-space: pre;\">4</text></g><g class=\"xtick\"><text text-anchor=\"middle\" x=\"0\" y=\"385.4\" transform=\"translate(361.4,0)\" style=\"font-family: 'Open Sans', verdana, arial, sans-serif; font-size: 12px; fill: rgb(42, 63, 95); fill-opacity: 1; white-space: pre;\">6</text></g><g class=\"xtick\"><text text-anchor=\"middle\" x=\"0\" y=\"385.4\" transform=\"translate(455.2,0)\" style=\"font-family: 'Open Sans', verdana, arial, sans-serif; font-size: 12px; fill: rgb(42, 63, 95); fill-opacity: 1; white-space: pre;\">8</text></g><g class=\"xtick\"><text text-anchor=\"middle\" x=\"0\" y=\"385.4\" transform=\"translate(549,0)\" style=\"font-family: 'Open Sans', verdana, arial, sans-serif; font-size: 12px; fill: rgb(42, 63, 95); fill-opacity: 1; white-space: pre;\">10</text></g></g><g class=\"yaxislayer-above\"><g class=\"ytick\"><text text-anchor=\"end\" x=\"76.6\" y=\"4.199999999999999\" transform=\"translate(0,343.62)\" style=\"font-family: 'Open Sans', verdana, arial, sans-serif; font-size: 12px; fill: rgb(42, 63, 95); fill-opacity: 1; white-space: pre;\">0.3</text></g><g class=\"ytick\"><text text-anchor=\"end\" x=\"76.6\" y=\"4.199999999999999\" transform=\"translate(0,303.03)\" style=\"font-family: 'Open Sans', verdana, arial, sans-serif; font-size: 12px; fill: rgb(42, 63, 95); fill-opacity: 1; white-space: pre;\">0.4</text></g><g class=\"ytick\"><text text-anchor=\"end\" x=\"76.6\" y=\"4.199999999999999\" transform=\"translate(0,262.45)\" style=\"font-family: 'Open Sans', verdana, arial, sans-serif; font-size: 12px; fill: rgb(42, 63, 95); fill-opacity: 1; white-space: pre;\">0.5</text></g><g class=\"ytick\"><text text-anchor=\"end\" x=\"76.6\" y=\"4.199999999999999\" transform=\"translate(0,221.86)\" style=\"font-family: 'Open Sans', verdana, arial, sans-serif; font-size: 12px; fill: rgb(42, 63, 95); fill-opacity: 1; white-space: pre;\">0.6</text></g><g class=\"ytick\"><text text-anchor=\"end\" x=\"76.6\" y=\"4.199999999999999\" transform=\"translate(0,181.26999999999998)\" style=\"font-family: 'Open Sans', verdana, arial, sans-serif; font-size: 12px; fill: rgb(42, 63, 95); fill-opacity: 1; white-space: pre;\">0.7</text></g><g class=\"ytick\"><text text-anchor=\"end\" x=\"76.6\" y=\"4.199999999999999\" transform=\"translate(0,140.69)\" style=\"font-family: 'Open Sans', verdana, arial, sans-serif; font-size: 12px; fill: rgb(42, 63, 95); fill-opacity: 1; white-space: pre;\">0.8</text></g><g class=\"ytick\"><text text-anchor=\"end\" x=\"76.6\" y=\"4.199999999999999\" transform=\"translate(0,100.1)\" style=\"font-family: 'Open Sans', verdana, arial, sans-serif; font-size: 12px; fill: rgb(42, 63, 95); fill-opacity: 1; white-space: pre;\">0.9</text></g></g><g class=\"overaxes-above\"/></g></g><g class=\"polarlayer\"/><g class=\"ternarylayer\"/><g class=\"geolayer\"/><g class=\"funnelarealayer\"/><g class=\"pielayer\"/><g class=\"treemaplayer\"/><g class=\"sunburstlayer\"/><g class=\"glimages\"/><defs id=\"topdefs-bf745d\"><g class=\"clips\"/><clipPath id=\"legendbf745d\"><rect width=\"130\" height=\"181\" x=\"0\" y=\"0\"/></clipPath></defs><g class=\"layer-above\"><g class=\"imagelayer\"/><g class=\"shapelayer\"/></g><g class=\"infolayer\"><g class=\"legend\" pointer-events=\"all\" transform=\"translate(558.38, 100)\"><rect class=\"bg\" shape-rendering=\"crispEdges\" style=\"stroke: rgb(68, 68, 68); stroke-opacity: 1; fill: rgb(255, 255, 255); fill-opacity: 1; stroke-width: 0px;\" width=\"130\" height=\"181\" x=\"0\" y=\"0\"/><g class=\"scrollbox\" transform=\"translate(0, 0)\" clip-path=\"url('#legendbf745d')\"><g class=\"groups\"><g class=\"traces\" style=\"opacity: 1;\" transform=\"translate(0, 14.5)\"><text class=\"legendtext user-select-none\" text-anchor=\"start\" x=\"40\" y=\"4.680000000000001\" style=\"font-family: 'Open Sans', verdana, arial, sans-serif; font-size: 12px; fill: rgb(42, 63, 95); fill-opacity: 1; white-space: pre;\">dep_err=0.0</text><g class=\"layers\" style=\"opacity: 1;\"><g class=\"legendfill\"/><g class=\"legendlines\"><path class=\"js-line\" d=\"M5,0h30\" style=\"fill: none; stroke: rgb(99, 110, 250); stroke-opacity: 1; stroke-width: 2px;\"/></g><g class=\"legendsymbols\"><g class=\"legendpoints\"><path class=\"scatterpts\" transform=\"translate(20,0)\" d=\"M3,0A3,3 0 1,1 0,-3A3,3 0 0,1 3,0Z\" style=\"opacity: 1; stroke-width: 0px; fill: rgb(99, 110, 250); fill-opacity: 1;\"/></g></g></g><rect class=\"legendtoggle\" pointer-events=\"all\" x=\"0\" y=\"-9.5\" width=\"124.203125\" height=\"19\" style=\"cursor: pointer; fill: rgb(0, 0, 0); fill-opacity: 0;\"/></g><g class=\"traces\" style=\"opacity: 1;\" transform=\"translate(0, 33.5)\"><text class=\"legendtext user-select-none\" text-anchor=\"start\" x=\"40\" y=\"4.680000000000001\" style=\"font-family: 'Open Sans', verdana, arial, sans-serif; font-size: 12px; fill: rgb(42, 63, 95); fill-opacity: 1; white-space: pre;\">dep_err=0.01</text><g class=\"layers\" style=\"opacity: 1;\"><g class=\"legendfill\"/><g class=\"legendlines\"><path class=\"js-line\" d=\"M5,0h30\" style=\"fill: none; stroke: rgb(239, 85, 59); stroke-opacity: 1; stroke-width: 2px;\"/></g><g class=\"legendsymbols\"><g class=\"legendpoints\"><path class=\"scatterpts\" transform=\"translate(20,0)\" d=\"M3,0A3,3 0 1,1 0,-3A3,3 0 0,1 3,0Z\" style=\"opacity: 1; stroke-width: 0px; fill: rgb(239, 85, 59); fill-opacity: 1;\"/></g></g></g><rect class=\"legendtoggle\" pointer-events=\"all\" x=\"0\" y=\"-9.5\" width=\"124.203125\" height=\"19\" style=\"cursor: pointer; fill: rgb(0, 0, 0); fill-opacity: 0;\"/></g><g class=\"traces\" style=\"opacity: 1;\" transform=\"translate(0, 52.5)\"><text class=\"legendtext user-select-none\" text-anchor=\"start\" x=\"40\" y=\"4.680000000000001\" style=\"font-family: 'Open Sans', verdana, arial, sans-serif; font-size: 12px; fill: rgb(42, 63, 95); fill-opacity: 1; white-space: pre;\">dep_err=0.02</text><g class=\"layers\" style=\"opacity: 1;\"><g class=\"legendfill\"/><g class=\"legendlines\"><path class=\"js-line\" d=\"M5,0h30\" style=\"fill: none; stroke: rgb(0, 204, 150); stroke-opacity: 1; stroke-width: 2px;\"/></g><g class=\"legendsymbols\"><g class=\"legendpoints\"><path class=\"scatterpts\" transform=\"translate(20,0)\" d=\"M3,0A3,3 0 1,1 0,-3A3,3 0 0,1 3,0Z\" style=\"opacity: 1; stroke-width: 0px; fill: rgb(0, 204, 150); fill-opacity: 1;\"/></g></g></g><rect class=\"legendtoggle\" pointer-events=\"all\" x=\"0\" y=\"-9.5\" width=\"124.203125\" height=\"19\" style=\"cursor: pointer; fill: rgb(0, 0, 0); fill-opacity: 0;\"/></g><g class=\"traces\" style=\"opacity: 1;\" transform=\"translate(0, 71.5)\"><text class=\"legendtext user-select-none\" text-anchor=\"start\" x=\"40\" y=\"4.680000000000001\" style=\"font-family: 'Open Sans', verdana, arial, sans-serif; font-size: 12px; fill: rgb(42, 63, 95); fill-opacity: 1; white-space: pre;\">dep_err=0.03</text><g class=\"layers\" style=\"opacity: 1;\"><g class=\"legendfill\"/><g class=\"legendlines\"><path class=\"js-line\" d=\"M5,0h30\" style=\"fill: none; stroke: rgb(171, 99, 250); stroke-opacity: 1; stroke-width: 2px;\"/></g><g class=\"legendsymbols\"><g class=\"legendpoints\"><path class=\"scatterpts\" transform=\"translate(20,0)\" d=\"M3,0A3,3 0 1,1 0,-3A3,3 0 0,1 3,0Z\" style=\"opacity: 1; stroke-width: 0px; fill: rgb(171, 99, 250); fill-opacity: 1;\"/></g></g></g><rect class=\"legendtoggle\" pointer-events=\"all\" x=\"0\" y=\"-9.5\" width=\"124.203125\" height=\"19\" style=\"cursor: pointer; fill: rgb(0, 0, 0); fill-opacity: 0;\"/></g><g class=\"traces\" style=\"opacity: 1;\" transform=\"translate(0, 90.5)\"><text class=\"legendtext user-select-none\" text-anchor=\"start\" x=\"40\" y=\"4.680000000000001\" style=\"font-family: 'Open Sans', verdana, arial, sans-serif; font-size: 12px; fill: rgb(42, 63, 95); fill-opacity: 1; white-space: pre;\">dep_err=0.04</text><g class=\"layers\" style=\"opacity: 1;\"><g class=\"legendfill\"/><g class=\"legendlines\"><path class=\"js-line\" d=\"M5,0h30\" style=\"fill: none; stroke: rgb(255, 161, 90); stroke-opacity: 1; stroke-width: 2px;\"/></g><g class=\"legendsymbols\"><g class=\"legendpoints\"><path class=\"scatterpts\" transform=\"translate(20,0)\" d=\"M3,0A3,3 0 1,1 0,-3A3,3 0 0,1 3,0Z\" style=\"opacity: 1; stroke-width: 0px; fill: rgb(255, 161, 90); fill-opacity: 1;\"/></g></g></g><rect class=\"legendtoggle\" pointer-events=\"all\" x=\"0\" y=\"-9.5\" width=\"124.203125\" height=\"19\" style=\"cursor: pointer; fill: rgb(0, 0, 0); fill-opacity: 0;\"/></g><g class=\"traces\" style=\"opacity: 1;\" transform=\"translate(0, 109.5)\"><text class=\"legendtext user-select-none\" text-anchor=\"start\" x=\"40\" y=\"4.680000000000001\" style=\"font-family: 'Open Sans', verdana, arial, sans-serif; font-size: 12px; fill: rgb(42, 63, 95); fill-opacity: 1; white-space: pre;\">dep_err=0.05</text><g class=\"layers\" style=\"opacity: 1;\"><g class=\"legendfill\"/><g class=\"legendlines\"><path class=\"js-line\" d=\"M5,0h30\" style=\"fill: none; stroke: rgb(25, 211, 243); stroke-opacity: 1; stroke-width: 2px;\"/></g><g class=\"legendsymbols\"><g class=\"legendpoints\"><path class=\"scatterpts\" transform=\"translate(20,0)\" d=\"M3,0A3,3 0 1,1 0,-3A3,3 0 0,1 3,0Z\" style=\"opacity: 1; stroke-width: 0px; fill: rgb(25, 211, 243); fill-opacity: 1;\"/></g></g></g><rect class=\"legendtoggle\" pointer-events=\"all\" x=\"0\" y=\"-9.5\" width=\"124.203125\" height=\"19\" style=\"cursor: pointer; fill: rgb(0, 0, 0); fill-opacity: 0;\"/></g><g class=\"traces\" style=\"opacity: 1;\" transform=\"translate(0, 128.5)\"><text class=\"legendtext user-select-none\" text-anchor=\"start\" x=\"40\" y=\"4.680000000000001\" style=\"font-family: 'Open Sans', verdana, arial, sans-serif; font-size: 12px; fill: rgb(42, 63, 95); fill-opacity: 1; white-space: pre;\">dep_err=0.06</text><g class=\"layers\" style=\"opacity: 1;\"><g class=\"legendfill\"/><g class=\"legendlines\"><path class=\"js-line\" d=\"M5,0h30\" style=\"fill: none; stroke: rgb(255, 102, 146); stroke-opacity: 1; stroke-width: 2px;\"/></g><g class=\"legendsymbols\"><g class=\"legendpoints\"><path class=\"scatterpts\" transform=\"translate(20,0)\" d=\"M3,0A3,3 0 1,1 0,-3A3,3 0 0,1 3,0Z\" style=\"opacity: 1; stroke-width: 0px; fill: rgb(255, 102, 146); fill-opacity: 1;\"/></g></g></g><rect class=\"legendtoggle\" pointer-events=\"all\" x=\"0\" y=\"-9.5\" width=\"124.203125\" height=\"19\" style=\"cursor: pointer; fill: rgb(0, 0, 0); fill-opacity: 0;\"/></g><g class=\"traces\" style=\"opacity: 1;\" transform=\"translate(0, 147.5)\"><text class=\"legendtext user-select-none\" text-anchor=\"start\" x=\"40\" y=\"4.680000000000001\" style=\"font-family: 'Open Sans', verdana, arial, sans-serif; font-size: 12px; fill: rgb(42, 63, 95); fill-opacity: 1; white-space: pre;\">dep_err=0.07</text><g class=\"layers\" style=\"opacity: 1;\"><g class=\"legendfill\"/><g class=\"legendlines\"><path class=\"js-line\" d=\"M5,0h30\" style=\"fill: none; stroke: rgb(182, 232, 128); stroke-opacity: 1; stroke-width: 2px;\"/></g><g class=\"legendsymbols\"><g class=\"legendpoints\"><path class=\"scatterpts\" transform=\"translate(20,0)\" d=\"M3,0A3,3 0 1,1 0,-3A3,3 0 0,1 3,0Z\" style=\"opacity: 1; stroke-width: 0px; fill: rgb(182, 232, 128); fill-opacity: 1;\"/></g></g></g><rect class=\"legendtoggle\" pointer-events=\"all\" x=\"0\" y=\"-9.5\" width=\"124.203125\" height=\"19\" style=\"cursor: pointer; fill: rgb(0, 0, 0); fill-opacity: 0;\"/></g><g class=\"traces\" style=\"opacity: 1;\" transform=\"translate(0, 166.5)\"><text class=\"legendtext user-select-none\" text-anchor=\"start\" x=\"40\" y=\"4.680000000000001\" style=\"font-family: 'Open Sans', verdana, arial, sans-serif; font-size: 12px; fill: rgb(42, 63, 95); fill-opacity: 1; white-space: pre;\">dep_err=0.08</text><g class=\"layers\" style=\"opacity: 1;\"><g class=\"legendfill\"/><g class=\"legendlines\"><path class=\"js-line\" d=\"M5,0h30\" style=\"fill: none; stroke: rgb(255, 151, 255); stroke-opacity: 1; stroke-width: 2px;\"/></g><g class=\"legendsymbols\"><g class=\"legendpoints\"><path class=\"scatterpts\" transform=\"translate(20,0)\" d=\"M3,0A3,3 0 1,1 0,-3A3,3 0 0,1 3,0Z\" style=\"opacity: 1; stroke-width: 0px; fill: rgb(255, 151, 255); fill-opacity: 1;\"/></g></g></g><rect class=\"legendtoggle\" pointer-events=\"all\" x=\"0\" y=\"-9.5\" width=\"124.203125\" height=\"19\" style=\"cursor: pointer; fill: rgb(0, 0, 0); fill-opacity: 0;\"/></g></g></g><rect class=\"scrollbar\" rx=\"20\" ry=\"3\" width=\"0\" height=\"0\" style=\"fill: rgb(128, 139, 164); fill-opacity: 1;\" x=\"0\" y=\"0\"/></g><g class=\"g-gtitle\"><text class=\"gtitle\" x=\"35\" y=\"50\" text-anchor=\"start\" dy=\"0em\" style=\"font-family: 'Open Sans', verdana, arial, sans-serif; font-size: 17px; fill: rgb(42, 63, 95); opacity: 1; font-weight: normal; white-space: pre;\">Iterated Entanglement Swapping under Noise (ro_err = 0.05)</text></g><g class=\"g-xtitle\"><text class=\"xtitle\" x=\"314.5\" y=\"412.70625\" text-anchor=\"middle\" style=\"font-family: 'Open Sans', verdana, arial, sans-serif; font-size: 14px; fill: rgb(42, 63, 95); opacity: 1; font-weight: normal; white-space: pre;\">Iterations</text></g><g class=\"g-ytitle\"><text class=\"ytitle\" transform=\"rotate(-90,32.16875,235)\" x=\"32.16875\" y=\"235\" text-anchor=\"middle\" style=\"font-family: 'Open Sans', verdana, arial, sans-serif; font-size: 14px; fill: rgb(42, 63, 95); opacity: 1; font-weight: normal; white-space: pre;\">Fidelity</text></g></g></svg>"
      ]
     },
     "metadata": {},
     "output_type": "display_data"
    }
   ],
   "source": [
    "from pytket import OpType\n",
    "from plotly.graph_objects import Scatter, Figure\n",
    "\n",
    "def iterated_entanglement_swap(n_iter):\n",
    "    # Iterate the entanglement swapping protocol n_iter times\n",
    "    it_es = Circuit()\n",
    "    ava = it_es.add_q_register(\"a\", 1)\n",
    "    bella = it_es.add_q_register(\"b\", 2)\n",
    "    charlie = it_es.add_q_register(\"c\", 1)\n",
    "    data = it_es.add_c_register(\"d\", 2)\n",
    "\n",
    "    # Start with an initial Bell state\n",
    "    it_es.H(ava[0])\n",
    "    it_es.CX(ava[0], bella[0])\n",
    "\n",
    "    for i in range(n_iter):\n",
    "        if i % 2 == 0:\n",
    "            # Teleport bella[0] to charlie[0] to give a Bell pair between ava[0] and charlier[0]\n",
    "            tel_to_c = qtel.copy()\n",
    "            tel_to_c.rename_units({alice[0] : bella[0], alice[1] : bella[1], bob[0] : charlie[0]})\n",
    "            it_es.append(tel_to_c)\n",
    "            it_es.add_gate(OpType.Reset, [bella[0]])\n",
    "            it_es.add_gate(OpType.Reset, [bella[1]])\n",
    "        else:\n",
    "            # Teleport charlie[0] to bella[0] to give a Bell pair between ava[0] and bella[0]\n",
    "            tel_to_b = qtel.copy()\n",
    "            tel_to_b.rename_units({alice[0] : charlie[0], alice[1] : bella[1], bob[0] : bella[0]})\n",
    "            it_es.append(tel_to_b)\n",
    "            it_es.add_gate(OpType.Reset, [bella[1]])\n",
    "            it_es.add_gate(OpType.Reset, [charlie[0]])\n",
    "    # Return the circuit and the qubits expected to share a Bell pair\n",
    "    if n_iter % 2 == 0:\n",
    "        return it_es, [ava[0], bella[0]]\n",
    "    else:\n",
    "        return it_es, [ava[0], charlie[0]]\n",
    "\n",
    "def iterated_noisy_experiment(dep_err_rate, ro_err_rate, max_iter):\n",
    "    # Set up the noisy simulator with the given error rates\n",
    "    test_model = make_noise_model(dep_err_rate, ro_err_rate, range(4))\n",
    "    backend = AerBackend(noise_model=test_model)\n",
    "    # Estimate the fidelity after n iterations, from 0 to max_iter (inclusive)\n",
    "    fid_list = []\n",
    "    for i in range(max_iter+1):\n",
    "        it_es, qubits = iterated_entanglement_swap(i)\n",
    "        probs_list = run_tomography_circuits(it_es, qubits, [data[0], data[1]], backend)\n",
    "        dm = fit_tomography_outcomes(probs_list, 2)\n",
    "        fid = fidelity(dm, bell_state)\n",
    "        fid_list.append(fid)\n",
    "    return fid_list\n",
    "\n",
    "fig = Figure()\n",
    "fig.update_layout(title='Iterated Entanglement Swapping under Noise (dep_err = 0.03)',\n",
    "                   xaxis_title='Iterations',\n",
    "                   xaxis=dict(range=[0, 10]),\n",
    "                   yaxis_title='Fidelity')\n",
    "iter_range = np.arange(11)\n",
    "for i in range(7):\n",
    "    fids = iterated_noisy_experiment(0.03, 0.025*i, 10)\n",
    "    plot_data = Scatter(x=iter_range, y=fids, name=\"ro_err=\"+str(np.round(0.025*i, 3)))\n",
    "    fig.add_trace(plot_data)\n",
    "fig.show(renderer=\"svg\")\n",
    "\n",
    "fig = Figure()\n",
    "fig.update_layout(title='Iterated Entanglement Swapping under Noise (ro_err = 0.05)',\n",
    "                   xaxis_title='Iterations',\n",
    "                   xaxis=dict(range=[0, 10]),\n",
    "                   yaxis_title='Fidelity')\n",
    "iter_range = np.arange(11)\n",
    "for i in range(9):\n",
    "    fids = iterated_noisy_experiment(0.01*i, 0.05, 10)\n",
    "    plot_data = Scatter(x=iter_range, y=fids, name=\"dep_err=\"+str(np.round(0.01*i, 3)))\n",
    "    fig.add_trace(plot_data)\n",
    "fig.show(renderer=\"svg\")"
   ]
  },
  {
   "cell_type": "markdown",
   "metadata": {},
   "source": [
    "These graphs are not very surprising, but are still important for seeing that the current error rates of typical NISQ devices become crippling for fidelities very quickly after repeated mid-circuit measurements and corrections (even with this overly-simplified model with uniform noise and no crosstalk or higher error modes). This provides good motivation for the adoption of error mitigation techniques, and for the development of new techniques that are robust to errors in mid-circuit measurements."
   ]
  },
  {
   "cell_type": "markdown",
   "metadata": {},
   "source": [
    "Exercises:\n",
    "\n",
    "- Vary the fixed noise levels to compare how impactful the depolarising and measurement errors are.\n",
    "- Add extra noise characteristics to the noise model to obtain something that more resembles a real device. Possible options include adding error during the reset operations, extending the errors to be non-local, or constructing the noise model from a device's calibration data.\n",
    "- Change the circuit from iterated entanglement swapping to iterated applications of a correction circuit from a simple error-correcting code. Do you expect this to be more sensitive to depolarising errors from unitary gates or measurement errors?"
   ]
  }
 ],
 "metadata": {
  "kernelspec": {
   "display_name": "Python 3",
   "language": "python",
   "name": "python3"
  },
  "language_info": {
   "codemirror_mode": {
    "name": "ipython",
    "version": 3
   },
   "file_extension": ".py",
   "mimetype": "text/x-python",
   "name": "python",
   "nbconvert_exporter": "python",
   "pygments_lexer": "ipython3",
   "version": "3.7.7"
  }
 },
 "nbformat": 4,
 "nbformat_minor": 2
}
