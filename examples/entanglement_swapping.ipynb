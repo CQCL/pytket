{
 "cells": [
  {
   "cell_type": "markdown",
   "metadata": {},
   "source": [
    "### Iterated Entanglement Swapping using t|ket>\n",
    "\n",
    "In this tutorial, we will focus on:\n",
    "- designing circuits with mid-circuit measurement and conditional gates;\n",
    "- utilising noise models in supported simulators.\n",
    "\n",
    "This example assumes the reader is familiar with the Qubit Teleportation and Entanglement Swapping protocols, and basic models of noise in quantum devices.\n",
    "\n",
    "To run this example, you will need `pytket`, `pytket-qiskit`, and `plotly`.\n",
    "\n",
    "Current quantum hardware fits into the NISQ (Noisy, Intermediate-Scale Quantum) regime. This noise cannot realistically be combatted using conventional error correcting codes, because of the lack of available qubits, noise levels exceeding the code thresholds, and very few devices available that can perform measurements and corrections mid-circuit. Analysis of how quantum algorithms perform under noisy conditions is a very active research area, as is finding ways to cope with it. Here, we will look at how well we can perform the Entanglement Swapping protocol with different noise levels.\n",
    "\n",
    "The Entanglement Swapping protocol requires two parties to share Bell pairs with a third party, who applies the Qubit Teleportation protocol to generate a Bell pair between the two parties. The Qubit Teleportation step requires us to be able to measure some qubits and make subsequent corrections to the remaining qubits. There are only a handful of simulators and devices that currently support this, with others restricted to only measuring the qubits at the end of the circuit.\n",
    "\n",
    "The most popular circuit model with conditional gates at the moment is that provided by the OpenQASM language. This permits a very restricted model of classical logic, where we can apply a gate conditionally on the exact value of a classical register. There is no facility in the current spec for Boolean logic or classical operations to apply any function to the value prior to the equality check. For example, Qubit Teleportation can be performed by the following QASM:\n",
    "\n",
    "```OPENQASM 2.0;\n",
    "include \"qelib1.inc\";\n",
    "qreg a[2];\n",
    "qreg b[1];\n",
    "creg c[2];\n",
    "// Bell state between Alice and Bob\n",
    "h a[1];\n",
    "cx a[1],b[0];\n",
    "// Bell measurement of Alice's qubits\n",
    "cx a[0],a[1];\n",
    "h a[0];\n",
    "measure a[0] -> c[0];\n",
    "measure a[1] -> c[1];\n",
    "// Correction of Bob's qubit\n",
    "if(c==1) z b[0];\n",
    "if(c==3) z b[0];\n",
    "if(c==2) x b[0];\n",
    "if(c==3) x b[0];\n",
    "```\n",
    "\n",
    "This corresponds to the following `pytket` code:"
   ]
  },
  {
   "cell_type": "code",
   "execution_count": 14,
   "metadata": {
    "tags": []
   },
   "outputs": [
    {
     "output_type": "execute_result",
     "data": {
      "text/plain": "[H a[1]; CX a[1], b[0]; CX a[0], a[1]; H a[0]; Measure a[1] --> d[1]; Measure a[0] --> d[0]; IF ([d[0], d[1]] == 2) THEN X b[0]; IF ([d[0], d[1]] == 3) THEN X b[0]; IF ([d[0], d[1]] == 1) THEN Z b[0]; IF ([d[0], d[1]] == 3) THEN Z b[0]; ]"
     },
     "metadata": {},
     "execution_count": 14
    }
   ],
   "source": [
    "from pytket import Circuit\n",
    "\n",
    "qtel = Circuit()\n",
    "alice = qtel.add_q_register(\"a\", 2)\n",
    "bob = qtel.add_q_register(\"b\", 1)\n",
    "data = qtel.add_c_register(\"d\", 2)\n",
    "\n",
    "# Bell state between Alice and Bob\n",
    "qtel.H(alice[1])\n",
    "qtel.CX(alice[1], bob[0])\n",
    "\n",
    "# Bell measurement of Alice's qubits\n",
    "qtel.CX(alice[0], alice[1])\n",
    "qtel.H(alice[0])\n",
    "qtel.Measure(alice[0], data[0])\n",
    "qtel.Measure(alice[1], data[1])\n",
    "\n",
    "# Correction of Bob's qubit\n",
    "qtel.X(bob[0], condition_bits=[data[0], data[1]], condition_value=2)\n",
    "qtel.X(bob[0], condition_bits=[data[0], data[1]], condition_value=3)\n",
    "qtel.Z(bob[0], condition_bits=[data[0], data[1]], condition_value=1)\n",
    "qtel.Z(bob[0], condition_bits=[data[0], data[1]], condition_value=3)"
   ]
  },
  {
   "cell_type": "markdown",
   "metadata": {},
   "source": [
    "So to demonstrate the Entanglement Swapping protocol, we just need to run this on one side of a Bell pair."
   ]
  },
  {
   "cell_type": "code",
   "execution_count": 15,
   "metadata": {
    "tags": []
   },
   "outputs": [
    {
     "output_type": "stream",
     "name": "stdout",
     "text": "[H a[0];, H b[1];, CX a[0], b[0];, CX b[1], c[0];, CX b[0], b[1];, H b[0];, Measure b[1] --> d[1];, Measure b[0] --> d[0];, IF ([d[0], d[1]] == 2) THEN X c[0];, IF ([d[0], d[1]] == 3) THEN X c[0];, IF ([d[0], d[1]] == 1) THEN Z c[0];, IF ([d[0], d[1]] == 3) THEN Z c[0];]\n"
    }
   ],
   "source": [
    "es = Circuit()\n",
    "ava = es.add_q_register(\"a\", 1)\n",
    "bella = es.add_q_register(\"b\", 2)\n",
    "charlie = es.add_q_register(\"c\", 1)\n",
    "data = es.add_c_register(\"d\", 2)\n",
    "\n",
    "# Bell state between Ava and Bella\n",
    "es.H(ava[0])\n",
    "es.CX(ava[0], bella[0])\n",
    "\n",
    "# Teleport bella[0] to charlie[0]\n",
    "tel_to_c = qtel.copy()\n",
    "tel_to_c.rename_units({alice[0] : bella[0], alice[1] : bella[1], bob[0] : charlie[0]})\n",
    "es.append(tel_to_c)\n",
    "\n",
    "print(es.get_commands())"
   ]
  },
  {
   "cell_type": "markdown",
   "metadata": {},
   "source": [
    "Let's start by running a noiseless simulation of this to verify that what we get looks like a Bell pair."
   ]
  },
  {
   "cell_type": "code",
   "execution_count": 16,
   "metadata": {
    "tags": []
   },
   "outputs": [
    {
     "output_type": "stream",
     "name": "stdout",
     "text": "┌───────────────┐                                                     ┌─┐»\na_0: ┤ U3(pi/2,0,pi) ├──■──────────────────────────────────────────────────┤M├»\n     └───────────────┘┌─┴─┐       ┌───────────────┐┌─┐                     └╥┘»\nb_0: ─────────────────┤ X ├───■───┤ U3(pi/2,0,pi) ├┤M├──────────────────────╫─»\n     ┌───────────────┐└───┘ ┌─┴─┐ └──────┬─┬──────┘└╥┘                      ║ »\nb_1: ┤ U3(pi/2,0,pi) ├──■───┤ X ├────────┤M├────────╫───────────────────────╫─»\n     └───────────────┘┌─┴─┐ ├───┤        └╥┘        ║  ┌───┐  ┌───┐  ┌───┐  ║ »\nc_0: ─────────────────┤ X ├─┤ X ├─────────╫─────────╫──┤ X ├──┤ Z ├──┤ Z ├──╫─»\n                      └───┘ └─┬─┘         ║         ║  └─┬─┘  └─┬─┘  └─┬─┘  ║ »\n                           ┌──┴──┐        ║         ║ ┌──┴──┐┌──┴──┐┌──┴──┐ ║ »\nd: 2/══════════════════════╡ = 2 ╞════════╩═════════╩═╡ = 3 ╞╡ = 1 ╞╡ = 3 ╞═╩═»\n                           └─────┘        1         0 └─────┘└─────┘└─────┘ 0 »\n«        \n«a_0: ───\n«        \n«b_0: ───\n«        \n«b_1: ───\n«     ┌─┐\n«c_0: ┤M├\n«     └╥┘\n«d: 2/═╩═\n«      1 \nCounter({(0, 0): 1009, (1, 1): 991})\n"
    }
   ],
   "source": [
    "from pytket.backends.ibm import AerBackend\n",
    "\n",
    "# Connect to a simulator\n",
    "backend = AerBackend()\n",
    "\n",
    "# Make a ZZ measurement of the Bell pair\n",
    "bell_test = es.copy()\n",
    "bell_test.Measure(ava[0], data[0])\n",
    "bell_test.Measure(charlie[0], data[1])\n",
    "\n",
    "# Run the experiment\n",
    "\n",
    "backend.compile_circuit(bell_test)\n",
    "from pytket.qiskit import tk_to_qiskit\n",
    "print(tk_to_qiskit(bell_test))\n",
    "handle = backend.process_circuit(bell_test, n_shots=2000)\n",
    "counts = backend.get_result(handle).get_counts()\n",
    "\n",
    "print(counts)"
   ]
  },
  {
   "cell_type": "markdown",
   "metadata": {},
   "source": [
    "This is good, we have got roughly 50/50 measurement results of 00 and 11 under the ZZ operator. But there are many other states beyond the Bell state that also generate this distribution, so to gain more confidence in our claim about the state we should make more measurements that also characterise it, i.e. perform state tomography.\n",
    "\n",
    "Here, we will demonstrate a naive approach to tomography that makes 3^n measurement circuits for an n-qubit state. More elaborate methods also exist."
   ]
  },
  {
   "cell_type": "code",
   "execution_count": 17,
   "metadata": {
    "tags": []
   },
   "outputs": [
    {
     "output_type": "stream",
     "name": "stdout",
     "text": "[[ 0.496+0.j    -0.001+0.j    -0.002-0.002j  0.496-0.005j]\n [-0.001-0.j     0.002+0.j    -0.001-0.j    -0.002+0.003j]\n [-0.002+0.002j -0.001+0.j     0.   +0.j    -0.002+0.j   ]\n [ 0.496+0.005j -0.002-0.003j -0.002-0.j     0.501+0.j   ]]\n"
    }
   ],
   "source": [
    "from pytket.pauli import Pauli, QubitPauliString\n",
    "from pytket.utils import append_pauli_measurement, probs_from_counts\n",
    "from itertools import product\n",
    "from scipy.linalg import lstsq, eigh\n",
    "import numpy as np\n",
    "\n",
    "def gen_tomography_circuits(state, qubits, bits):\n",
    "    # Yields {X, Y, Z}^n measurements in lexicographical order\n",
    "    # Only measures qubits, storing the result in bits\n",
    "    # (since we don't care about the ancilla qubits)\n",
    "    assert len(qubits) == len(bits)\n",
    "    for paulis in product([Pauli.X, Pauli.Y, Pauli.Z], repeat=len(qubits)):\n",
    "        circ = state.copy()\n",
    "        for qb, b, p in zip(qubits, bits, paulis):\n",
    "            if p == Pauli.X:\n",
    "                circ.H(qb)\n",
    "            elif p == Pauli.Y:\n",
    "                circ.V(qb)\n",
    "            circ.Measure(qb, b)\n",
    "        yield circ\n",
    "\n",
    "def run_tomography_circuits(state, qubits, bits, backend):\n",
    "    circs = list(gen_tomography_circuits(state, qubits, bits))\n",
    "    # Compile and run each circuit\n",
    "    for c in circs:\n",
    "        backend.compile_circuit(c)\n",
    "    handles = backend.process_circuits(circs, n_shots=2000)\n",
    "    # Get the observed measurement probabilities\n",
    "    probs_list = []\n",
    "    for result in backend.get_results(handles):\n",
    "        counts = result.get_counts()\n",
    "        probs = probs_from_counts(counts)\n",
    "        probs_list.append(probs)\n",
    "    return probs_list\n",
    "\n",
    "def fit_tomography_outcomes(probs_list, n_qbs):\n",
    "    # Define the density matrices for the basis states\n",
    "    basis = dict()\n",
    "    basis[(Pauli.X, 0)] = np.asarray([[0.5, 0.5], [0.5, 0.5]])\n",
    "    basis[(Pauli.X, 1)] = np.asarray([[0.5, -0.5], [-0.5, 0.5]])\n",
    "    basis[(Pauli.Y, 0)] = np.asarray([[0.5, -0.5j], [0.5j, 0.5]])\n",
    "    basis[(Pauli.Y, 1)] = np.asarray([[0.5, 0.5j], [-0.5j, 0.5]])\n",
    "    basis[(Pauli.Z, 0)] = np.asarray([[1, 0], [0, 0]])\n",
    "    basis[(Pauli.Z, 1)] = np.asarray([[0, 0], [0, 1]])\n",
    "    dim = 2**n_qbs\n",
    "    # Define vector all_probs as a concatenation of probability vectors for each measurement (2**n x 3**n, 1)\n",
    "    # Define matrix all_ops mapping a (vectorised) density matrix to a vector of probabilities for each measurement\n",
    "    # (2**n x 3**n, 2**n x 2**n)\n",
    "    all_probs = []\n",
    "    all_ops = []\n",
    "    for paulis, probs in zip(product([Pauli.X, Pauli.Y, Pauli.Z], repeat=n_qbs), probs_list):\n",
    "        prob_vec = []\n",
    "        meas_ops = []\n",
    "        for outcome in product([0, 1], repeat=n_qbs):\n",
    "            prob_vec.append(probs.get(outcome, 0))\n",
    "            op = np.eye(1, dtype=complex)\n",
    "            for p, o in zip(paulis, outcome):\n",
    "                op = np.kron(op, basis[(p, o)])\n",
    "            meas_ops.append(op.reshape(1, dim*dim).conj())\n",
    "        all_probs.append(np.vstack(prob_vec))\n",
    "        all_ops.append(np.vstack(meas_ops))\n",
    "    # Solve for density matrix by minimising || all_ops * dm - all_probs ||\n",
    "    dm, _, _, _ = lstsq(np.vstack(all_ops), np.vstack(all_probs))\n",
    "    dm = dm.reshape(dim, dim)\n",
    "    # Make density matrix positive semi-definite\n",
    "    v, w = eigh(dm)\n",
    "    for i in range(dim):\n",
    "        if v[i] < 0:\n",
    "            for j in range(i+1, dim):\n",
    "                v[j] += v[i] / (dim - (i+1))\n",
    "            v[i] = 0\n",
    "    dm = np.zeros([dim, dim], dtype=complex)\n",
    "    for j in range(dim):\n",
    "        dm += v[j] * np.outer(w[:, j], np.conj(w[:, j]))\n",
    "    # Normalise trace of density matrix\n",
    "    dm /= np.trace(dm)\n",
    "    return dm\n",
    "\n",
    "probs_list = run_tomography_circuits(es, [ava[0], charlie[0]], [data[0], data[1]], backend)\n",
    "dm = fit_tomography_outcomes(probs_list, 2)\n",
    "print(dm.round(3))"
   ]
  },
  {
   "cell_type": "markdown",
   "metadata": {},
   "source": [
    "This is very close to the true density matrix for a pure Bell state. We can attribute the error here to the sampling error since we only take 2000 samples of each measurement circuit.\n",
    "\n",
    "To quantify exactly how similar it is to the correct density matrix, we can calculate the fidelity."
   ]
  },
  {
   "cell_type": "code",
   "execution_count": 18,
   "metadata": {
    "tags": []
   },
   "outputs": [
    {
     "output_type": "stream",
     "name": "stdout",
     "text": "0.9948987557093879\n"
    }
   ],
   "source": [
    "from scipy.linalg import sqrtm\n",
    "\n",
    "def fidelity(dm0, dm1):\n",
    "    # Calculate the fidelity between two density matrices\n",
    "    sq0 = sqrtm(dm0)\n",
    "    sq1 = sqrtm(dm1)\n",
    "    return np.linalg.norm(sq0.dot(sq1))**2\n",
    "\n",
    "bell_state = np.asarray([\n",
    "    [0.5, 0, 0, 0.5],\n",
    "    [0, 0, 0, 0],\n",
    "    [0, 0, 0, 0],\n",
    "    [0.5, 0, 0, 0.5],\n",
    "])\n",
    "print(fidelity(dm, bell_state))"
   ]
  },
  {
   "cell_type": "markdown",
   "metadata": {},
   "source": [
    "This high fidelity is unsurprising since we have a completely noiseless simulation. So the next step is to add some noise to the simulation and observe how the overall fidelity is affected. The `AerBackend` wraps around the Qiskit Aer simulator and can pass on any `qiskit.providers.aer.noise.NoiseModel` to the simulator. Let's start by adding some uniform depolarising noise to each CX gate and some uniform measurement error."
   ]
  },
  {
   "cell_type": "code",
   "execution_count": 19,
   "metadata": {
    "tags": []
   },
   "outputs": [
    {
     "output_type": "stream",
     "name": "stdout",
     "text": "[[ 0.425+0.j    -0.013-0.001j  0.008-0.005j  0.321-0.007j]\n [-0.013+0.001j  0.072+0.j     0.019-0.007j -0.001-0.001j]\n [ 0.008+0.005j  0.019+0.007j  0.075+0.j     0.022+0.002j]\n [ 0.321+0.007j -0.001+0.001j  0.022-0.002j  0.427+0.j   ]]\n0.7467500000000006\n"
    }
   ],
   "source": [
    "from qiskit.providers.aer.noise import NoiseModel, depolarizing_error, ReadoutError\n",
    "\n",
    "def make_noise_model(dep_err_rate, ro_err_rate, qubits):\n",
    "    # Define a noise model that applies uniformly to the given qubits\n",
    "    model = NoiseModel()\n",
    "    dep_err = depolarizing_error(dep_err_rate, 2)\n",
    "    ro_err = ReadoutError([[1-ro_err_rate, ro_err_rate], [ro_err_rate, 1-ro_err_rate]])\n",
    "    # Add depolarising error to CX gates between any qubits (implying full connectivity)\n",
    "    for i, j in product(qubits, repeat=2):\n",
    "        model.add_quantum_error(dep_err, ['cx'], [i, j])\n",
    "    # Add readout error for each qubit\n",
    "    for i in qubits:\n",
    "        model.add_readout_error(ro_err, qubits=[i])\n",
    "    return model\n",
    "\n",
    "test_model = make_noise_model(0.03, 0.05, range(4))\n",
    "backend = AerBackend(noise_model=test_model)\n",
    "probs_list = run_tomography_circuits(es, [ava[0], charlie[0]], [data[0], data[1]], backend)\n",
    "dm = fit_tomography_outcomes(probs_list, 2)\n",
    "print(dm.round(3))\n",
    "print(fidelity(dm, bell_state))"
   ]
  },
  {
   "cell_type": "markdown",
   "metadata": {},
   "source": [
    "Despite the very small circuit and the relatively small error rates, the fidelity of the final state has reduced considerably.\n",
    "\n",
    "As far as circuits go, the entanglement swapping protocol is little more than a toy example and is nothing close to the scale of circuits for most interesting quantum computational problems. However, it is possible to iterate the protocol many times to build up a larger computation, allowing us to see the impact of the noise at different scales."
   ]
  },
  {
   "cell_type": "code",
   "execution_count": 20,
   "metadata": {
    "tags": []
   },
   "outputs": [
    {
     "output_type": "display_data",
     "data": {
      "text/html": "        <script type=\"text/javascript\">\n        window.PlotlyConfig = {MathJaxConfig: 'local'};\n        if (window.MathJax) {MathJax.Hub.Config({SVG: {font: \"STIX-Web\"}});}\n        if (typeof require !== 'undefined') {\n        require.undef(\"plotly\");\n        requirejs.config({\n            paths: {\n                'plotly': ['https://cdn.plot.ly/plotly-latest.min']\n            }\n        });\n        require(['plotly'], function(Plotly) {\n            window._Plotly = Plotly;\n        });\n        }\n        </script>\n        "
     },
     "metadata": {}
    },
    {
     "output_type": "display_data",
     "data": {
      "text/html": "<div>                            <div id=\"3c2702dc-4b83-437b-ab7b-86d88cb580a1\" class=\"plotly-graph-div\" style=\"height:525px; width:100%;\"></div>            <script type=\"text/javascript\">                require([\"plotly\"], function(Plotly) {                    window.PLOTLYENV=window.PLOTLYENV || {};                                    if (document.getElementById(\"3c2702dc-4b83-437b-ab7b-86d88cb580a1\")) {                    Plotly.newPlot(                        \"3c2702dc-4b83-437b-ab7b-86d88cb580a1\",                        [{\"name\": \"ro_err=0.0\", \"type\": \"scatter\", \"x\": [0, 1, 2, 3, 4, 5, 6, 7, 8, 9, 10], \"y\": [0.9753506631386757, 0.9404999999999998, 0.8944999999999996, 0.8585000000000008, 0.8112500000000019, 0.7850000000000019, 0.7592500000000014, 0.7185000000000008, 0.6922500000000015, 0.6682499999999999, 0.6505000000000001]}, {\"name\": \"ro_err=0.025\", \"type\": \"scatter\", \"x\": [0, 1, 2, 3, 4, 5, 6, 7, 8, 9, 10], \"y\": [0.9105000000000021, 0.8167499999999994, 0.7535000000000017, 0.7102500000000022, 0.6355000000000037, 0.5862500000000016, 0.5482500000000029, 0.5377499999999996, 0.5052500000000014, 0.46899999999999903, 0.44674999999999976]}, {\"name\": \"ro_err=0.05\", \"type\": \"scatter\", \"x\": [0, 1, 2, 3, 4, 5, 6, 7, 8, 9, 10], \"y\": [0.846250000000005, 0.7367500000000009, 0.6445000000000024, 0.572250000000002, 0.5252500000000012, 0.4762500000000015, 0.4377499999999992, 0.39625000000000016, 0.37425000000000047, 0.3572500000000012, 0.3412499999999995]}, {\"name\": \"ro_err=0.075\", \"type\": \"scatter\", \"x\": [0, 1, 2, 3, 4, 5, 6, 7, 8, 9, 10], \"y\": [0.7670000000000012, 0.6549999999999999, 0.5535000000000011, 0.4777500000000008, 0.43200000000000177, 0.40950000000000064, 0.34200000000000025, 0.332999999999999, 0.31825000000000003, 0.30249999999999994, 0.28400000000000003]}, {\"name\": \"ro_err=0.1\", \"type\": \"scatter\", \"x\": [0, 1, 2, 3, 4, 5, 6, 7, 8, 9, 10], \"y\": [0.7230000000000018, 0.5880000000000019, 0.4815, 0.42000000000000093, 0.38024999999999953, 0.3279999999999995, 0.3094999999999994, 0.2977499999999989, 0.2972500000000008, 0.2795, 0.2674999999999993]}, {\"name\": \"ro_err=0.125\", \"type\": \"scatter\", \"x\": [0, 1, 2, 3, 4, 5, 6, 7, 8, 9, 10], \"y\": [0.6495000000000001, 0.5164999999999983, 0.42725000000000074, 0.3620000000000004, 0.3210000000000001, 0.29949999999999977, 0.28800000000000064, 0.2785000000000003, 0.26774999999999904, 0.25549999999999967, 0.2565000000000005]}, {\"name\": \"ro_err=0.15\", \"type\": \"scatter\", \"x\": [0, 1, 2, 3, 4, 5, 6, 7, 8, 9, 10], \"y\": [0.6102500000000015, 0.46149999999999924, 0.38900000000000107, 0.33550000000000046, 0.2799999999999998, 0.27600000000000013, 0.2644999999999997, 0.2592499999999997, 0.2639999999999995, 0.23650000000000004, 0.2515000000000008]}],                        {\"template\": {\"data\": {\"bar\": [{\"error_x\": {\"color\": \"#2a3f5f\"}, \"error_y\": {\"color\": \"#2a3f5f\"}, \"marker\": {\"line\": {\"color\": \"#E5ECF6\", \"width\": 0.5}}, \"type\": \"bar\"}], \"barpolar\": [{\"marker\": {\"line\": {\"color\": \"#E5ECF6\", \"width\": 0.5}}, \"type\": \"barpolar\"}], \"carpet\": [{\"aaxis\": {\"endlinecolor\": \"#2a3f5f\", \"gridcolor\": \"white\", \"linecolor\": \"white\", \"minorgridcolor\": \"white\", \"startlinecolor\": \"#2a3f5f\"}, \"baxis\": {\"endlinecolor\": \"#2a3f5f\", \"gridcolor\": \"white\", \"linecolor\": \"white\", \"minorgridcolor\": \"white\", \"startlinecolor\": \"#2a3f5f\"}, \"type\": \"carpet\"}], \"choropleth\": [{\"colorbar\": {\"outlinewidth\": 0, \"ticks\": \"\"}, \"type\": \"choropleth\"}], \"contour\": [{\"colorbar\": {\"outlinewidth\": 0, \"ticks\": \"\"}, \"colorscale\": [[0.0, \"#0d0887\"], [0.1111111111111111, \"#46039f\"], [0.2222222222222222, \"#7201a8\"], [0.3333333333333333, \"#9c179e\"], [0.4444444444444444, \"#bd3786\"], [0.5555555555555556, \"#d8576b\"], [0.6666666666666666, \"#ed7953\"], [0.7777777777777778, \"#fb9f3a\"], [0.8888888888888888, \"#fdca26\"], [1.0, \"#f0f921\"]], \"type\": \"contour\"}], \"contourcarpet\": [{\"colorbar\": {\"outlinewidth\": 0, \"ticks\": \"\"}, \"type\": \"contourcarpet\"}], \"heatmap\": [{\"colorbar\": {\"outlinewidth\": 0, \"ticks\": \"\"}, \"colorscale\": [[0.0, \"#0d0887\"], [0.1111111111111111, \"#46039f\"], [0.2222222222222222, \"#7201a8\"], [0.3333333333333333, \"#9c179e\"], [0.4444444444444444, \"#bd3786\"], [0.5555555555555556, \"#d8576b\"], [0.6666666666666666, \"#ed7953\"], [0.7777777777777778, \"#fb9f3a\"], [0.8888888888888888, \"#fdca26\"], [1.0, \"#f0f921\"]], \"type\": \"heatmap\"}], \"heatmapgl\": [{\"colorbar\": {\"outlinewidth\": 0, \"ticks\": \"\"}, \"colorscale\": [[0.0, \"#0d0887\"], [0.1111111111111111, \"#46039f\"], [0.2222222222222222, \"#7201a8\"], [0.3333333333333333, \"#9c179e\"], [0.4444444444444444, \"#bd3786\"], [0.5555555555555556, \"#d8576b\"], [0.6666666666666666, \"#ed7953\"], [0.7777777777777778, \"#fb9f3a\"], [0.8888888888888888, \"#fdca26\"], [1.0, \"#f0f921\"]], \"type\": \"heatmapgl\"}], \"histogram\": [{\"marker\": {\"colorbar\": {\"outlinewidth\": 0, \"ticks\": \"\"}}, \"type\": \"histogram\"}], \"histogram2d\": [{\"colorbar\": {\"outlinewidth\": 0, \"ticks\": \"\"}, \"colorscale\": [[0.0, \"#0d0887\"], [0.1111111111111111, \"#46039f\"], [0.2222222222222222, \"#7201a8\"], [0.3333333333333333, \"#9c179e\"], [0.4444444444444444, \"#bd3786\"], [0.5555555555555556, \"#d8576b\"], [0.6666666666666666, \"#ed7953\"], [0.7777777777777778, \"#fb9f3a\"], [0.8888888888888888, \"#fdca26\"], [1.0, \"#f0f921\"]], \"type\": \"histogram2d\"}], \"histogram2dcontour\": [{\"colorbar\": {\"outlinewidth\": 0, \"ticks\": \"\"}, \"colorscale\": [[0.0, \"#0d0887\"], [0.1111111111111111, \"#46039f\"], [0.2222222222222222, \"#7201a8\"], [0.3333333333333333, \"#9c179e\"], [0.4444444444444444, \"#bd3786\"], [0.5555555555555556, \"#d8576b\"], [0.6666666666666666, \"#ed7953\"], [0.7777777777777778, \"#fb9f3a\"], [0.8888888888888888, \"#fdca26\"], [1.0, \"#f0f921\"]], \"type\": \"histogram2dcontour\"}], \"mesh3d\": [{\"colorbar\": {\"outlinewidth\": 0, \"ticks\": \"\"}, \"type\": \"mesh3d\"}], \"parcoords\": [{\"line\": {\"colorbar\": {\"outlinewidth\": 0, \"ticks\": \"\"}}, \"type\": \"parcoords\"}], \"pie\": [{\"automargin\": true, \"type\": \"pie\"}], \"scatter\": [{\"marker\": {\"colorbar\": {\"outlinewidth\": 0, \"ticks\": \"\"}}, \"type\": \"scatter\"}], \"scatter3d\": [{\"line\": {\"colorbar\": {\"outlinewidth\": 0, \"ticks\": \"\"}}, \"marker\": {\"colorbar\": {\"outlinewidth\": 0, \"ticks\": \"\"}}, \"type\": \"scatter3d\"}], \"scattercarpet\": [{\"marker\": {\"colorbar\": {\"outlinewidth\": 0, \"ticks\": \"\"}}, \"type\": \"scattercarpet\"}], \"scattergeo\": [{\"marker\": {\"colorbar\": {\"outlinewidth\": 0, \"ticks\": \"\"}}, \"type\": \"scattergeo\"}], \"scattergl\": [{\"marker\": {\"colorbar\": {\"outlinewidth\": 0, \"ticks\": \"\"}}, \"type\": \"scattergl\"}], \"scattermapbox\": [{\"marker\": {\"colorbar\": {\"outlinewidth\": 0, \"ticks\": \"\"}}, \"type\": \"scattermapbox\"}], \"scatterpolar\": [{\"marker\": {\"colorbar\": {\"outlinewidth\": 0, \"ticks\": \"\"}}, \"type\": \"scatterpolar\"}], \"scatterpolargl\": [{\"marker\": {\"colorbar\": {\"outlinewidth\": 0, \"ticks\": \"\"}}, \"type\": \"scatterpolargl\"}], \"scatterternary\": [{\"marker\": {\"colorbar\": {\"outlinewidth\": 0, \"ticks\": \"\"}}, \"type\": \"scatterternary\"}], \"surface\": [{\"colorbar\": {\"outlinewidth\": 0, \"ticks\": \"\"}, \"colorscale\": [[0.0, \"#0d0887\"], [0.1111111111111111, \"#46039f\"], [0.2222222222222222, \"#7201a8\"], [0.3333333333333333, \"#9c179e\"], [0.4444444444444444, \"#bd3786\"], [0.5555555555555556, \"#d8576b\"], [0.6666666666666666, \"#ed7953\"], [0.7777777777777778, \"#fb9f3a\"], [0.8888888888888888, \"#fdca26\"], [1.0, \"#f0f921\"]], \"type\": \"surface\"}], \"table\": [{\"cells\": {\"fill\": {\"color\": \"#EBF0F8\"}, \"line\": {\"color\": \"white\"}}, \"header\": {\"fill\": {\"color\": \"#C8D4E3\"}, \"line\": {\"color\": \"white\"}}, \"type\": \"table\"}]}, \"layout\": {\"annotationdefaults\": {\"arrowcolor\": \"#2a3f5f\", \"arrowhead\": 0, \"arrowwidth\": 1}, \"coloraxis\": {\"colorbar\": {\"outlinewidth\": 0, \"ticks\": \"\"}}, \"colorscale\": {\"diverging\": [[0, \"#8e0152\"], [0.1, \"#c51b7d\"], [0.2, \"#de77ae\"], [0.3, \"#f1b6da\"], [0.4, \"#fde0ef\"], [0.5, \"#f7f7f7\"], [0.6, \"#e6f5d0\"], [0.7, \"#b8e186\"], [0.8, \"#7fbc41\"], [0.9, \"#4d9221\"], [1, \"#276419\"]], \"sequential\": [[0.0, \"#0d0887\"], [0.1111111111111111, \"#46039f\"], [0.2222222222222222, \"#7201a8\"], [0.3333333333333333, \"#9c179e\"], [0.4444444444444444, \"#bd3786\"], [0.5555555555555556, \"#d8576b\"], [0.6666666666666666, \"#ed7953\"], [0.7777777777777778, \"#fb9f3a\"], [0.8888888888888888, \"#fdca26\"], [1.0, \"#f0f921\"]], \"sequentialminus\": [[0.0, \"#0d0887\"], [0.1111111111111111, \"#46039f\"], [0.2222222222222222, \"#7201a8\"], [0.3333333333333333, \"#9c179e\"], [0.4444444444444444, \"#bd3786\"], [0.5555555555555556, \"#d8576b\"], [0.6666666666666666, \"#ed7953\"], [0.7777777777777778, \"#fb9f3a\"], [0.8888888888888888, \"#fdca26\"], [1.0, \"#f0f921\"]]}, \"colorway\": [\"#636efa\", \"#EF553B\", \"#00cc96\", \"#ab63fa\", \"#FFA15A\", \"#19d3f3\", \"#FF6692\", \"#B6E880\", \"#FF97FF\", \"#FECB52\"], \"font\": {\"color\": \"#2a3f5f\"}, \"geo\": {\"bgcolor\": \"white\", \"lakecolor\": \"white\", \"landcolor\": \"#E5ECF6\", \"showlakes\": true, \"showland\": true, \"subunitcolor\": \"white\"}, \"hoverlabel\": {\"align\": \"left\"}, \"hovermode\": \"closest\", \"mapbox\": {\"style\": \"light\"}, \"paper_bgcolor\": \"white\", \"plot_bgcolor\": \"#E5ECF6\", \"polar\": {\"angularaxis\": {\"gridcolor\": \"white\", \"linecolor\": \"white\", \"ticks\": \"\"}, \"bgcolor\": \"#E5ECF6\", \"radialaxis\": {\"gridcolor\": \"white\", \"linecolor\": \"white\", \"ticks\": \"\"}}, \"scene\": {\"xaxis\": {\"backgroundcolor\": \"#E5ECF6\", \"gridcolor\": \"white\", \"gridwidth\": 2, \"linecolor\": \"white\", \"showbackground\": true, \"ticks\": \"\", \"zerolinecolor\": \"white\"}, \"yaxis\": {\"backgroundcolor\": \"#E5ECF6\", \"gridcolor\": \"white\", \"gridwidth\": 2, \"linecolor\": \"white\", \"showbackground\": true, \"ticks\": \"\", \"zerolinecolor\": \"white\"}, \"zaxis\": {\"backgroundcolor\": \"#E5ECF6\", \"gridcolor\": \"white\", \"gridwidth\": 2, \"linecolor\": \"white\", \"showbackground\": true, \"ticks\": \"\", \"zerolinecolor\": \"white\"}}, \"shapedefaults\": {\"line\": {\"color\": \"#2a3f5f\"}}, \"ternary\": {\"aaxis\": {\"gridcolor\": \"white\", \"linecolor\": \"white\", \"ticks\": \"\"}, \"baxis\": {\"gridcolor\": \"white\", \"linecolor\": \"white\", \"ticks\": \"\"}, \"bgcolor\": \"#E5ECF6\", \"caxis\": {\"gridcolor\": \"white\", \"linecolor\": \"white\", \"ticks\": \"\"}}, \"title\": {\"x\": 0.05}, \"xaxis\": {\"automargin\": true, \"gridcolor\": \"white\", \"linecolor\": \"white\", \"ticks\": \"\", \"title\": {\"standoff\": 15}, \"zerolinecolor\": \"white\", \"zerolinewidth\": 2}, \"yaxis\": {\"automargin\": true, \"gridcolor\": \"white\", \"linecolor\": \"white\", \"ticks\": \"\", \"title\": {\"standoff\": 15}, \"zerolinecolor\": \"white\", \"zerolinewidth\": 2}}}, \"title\": {\"text\": \"Iterated Entanglement Swapping under Noise (dep_err = 0.03)\"}, \"xaxis\": {\"range\": [0, 10], \"title\": {\"text\": \"Iterations\"}}, \"yaxis\": {\"title\": {\"text\": \"Fidelity\"}}},                        {\"responsive\": true}                    ).then(function(){\n                            \nvar gd = document.getElementById('3c2702dc-4b83-437b-ab7b-86d88cb580a1');\nvar x = new MutationObserver(function (mutations, observer) {{\n        var display = window.getComputedStyle(gd).display;\n        if (!display || display === 'none') {{\n            console.log([gd, 'removed!']);\n            Plotly.purge(gd);\n            observer.disconnect();\n        }}\n}});\n\n// Listen for the removal of the full notebook cells\nvar notebookContainer = gd.closest('#notebook-container');\nif (notebookContainer) {{\n    x.observe(notebookContainer, {childList: true});\n}}\n\n// Listen for the clearing of the current output cell\nvar outputEl = gd.closest('.output');\nif (outputEl) {{\n    x.observe(outputEl, {childList: true});\n}}\n\n                        })                };                });            </script>        </div>"
     },
     "metadata": {}
    },
    {
     "output_type": "display_data",
     "data": {
      "text/html": "        <script type=\"text/javascript\">\n        window.PlotlyConfig = {MathJaxConfig: 'local'};\n        if (window.MathJax) {MathJax.Hub.Config({SVG: {font: \"STIX-Web\"}});}\n        if (typeof require !== 'undefined') {\n        require.undef(\"plotly\");\n        requirejs.config({\n            paths: {\n                'plotly': ['https://cdn.plot.ly/plotly-latest.min']\n            }\n        });\n        require(['plotly'], function(Plotly) {\n            window._Plotly = Plotly;\n        });\n        }\n        </script>\n        "
     },
     "metadata": {}
    },
    {
     "output_type": "display_data",
     "data": {
      "text/html": "<div>                            <div id=\"c7528b7c-068c-4a66-9c5a-62055d5fb329\" class=\"plotly-graph-div\" style=\"height:525px; width:100%;\"></div>            <script type=\"text/javascript\">                require([\"plotly\"], function(Plotly) {                    window.PLOTLYENV=window.PLOTLYENV || {};                                    if (document.getElementById(\"c7528b7c-068c-4a66-9c5a-62055d5fb329\")) {                    Plotly.newPlot(                        \"c7528b7c-068c-4a66-9c5a-62055d5fb329\",                        [{\"name\": \"dep_err=0.0\", \"type\": \"scatter\", \"x\": [0, 1, 2, 3, 4, 5, 6, 7, 8, 9, 10], \"y\": [0.8517500000000011, 0.7827500000000025, 0.7087500000000027, 0.6532500000000026, 0.6012499999999998, 0.5514999999999999, 0.5297500000000023, 0.4802500000000007, 0.45625000000000016, 0.43925000000000175, 0.4254999999999999]}, {\"name\": \"dep_err=0.01\", \"type\": \"scatter\", \"x\": [0, 1, 2, 3, 4, 5, 6, 7, 8, 9, 10], \"y\": [0.8510000000000015, 0.7680000000000033, 0.702750000000002, 0.6310000000000016, 0.5759999999999996, 0.527750000000002, 0.48100000000000065, 0.4567500000000001, 0.41900000000000076, 0.39375000000000127, 0.3742500000000003]}, {\"name\": \"dep_err=0.02\", \"type\": \"scatter\", \"x\": [0, 1, 2, 3, 4, 5, 6, 7, 8, 9, 10], \"y\": [0.8450000000000013, 0.7452500000000023, 0.6667500000000007, 0.5970000000000006, 0.5412500000000001, 0.4867500000000008, 0.4557500000000006, 0.4104999999999985, 0.3854999999999992, 0.36199999999999866, 0.35425000000000073]}, {\"name\": \"dep_err=0.03\", \"type\": \"scatter\", \"x\": [0, 1, 2, 3, 4, 5, 6, 7, 8, 9, 10], \"y\": [0.8349999999999984, 0.7355000000000043, 0.644500000000003, 0.5857500000000023, 0.5107499999999999, 0.47100000000000075, 0.43699999999999894, 0.40025000000000105, 0.3704999999999997, 0.36075000000000124, 0.34024999999999983]}, {\"name\": \"dep_err=0.04\", \"type\": \"scatter\", \"x\": [0, 1, 2, 3, 4, 5, 6, 7, 8, 9, 10], \"y\": [0.833750000000002, 0.7290000000000006, 0.623500000000002, 0.5507500000000026, 0.49675000000000075, 0.44075000000000053, 0.4022499999999997, 0.375499999999999, 0.35675000000000007, 0.33950000000000075, 0.32274999999999926]}, {\"name\": \"dep_err=0.05\", \"type\": \"scatter\", \"x\": [0, 1, 2, 3, 4, 5, 6, 7, 8, 9, 10], \"y\": [0.8267500000000011, 0.7114999999999982, 0.5982500000000031, 0.50375, 0.46474999999999866, 0.44125000000000075, 0.3744999999999999, 0.36649999999999955, 0.3304999999999995, 0.32275000000000076, 0.30625000000000024]}, {\"name\": \"dep_err=0.06\", \"type\": \"scatter\", \"x\": [0, 1, 2, 3, 4, 5, 6, 7, 8, 9, 10], \"y\": [0.8202500000000031, 0.6882500000000015, 0.5867500000000001, 0.5024999999999991, 0.44750000000000084, 0.4122500000000012, 0.38774999999999976, 0.3392500000000002, 0.33324999999999927, 0.3122500000000004, 0.28800000000000014]}, {\"name\": \"dep_err=0.07\", \"type\": \"scatter\", \"x\": [0, 1, 2, 3, 4, 5, 6, 7, 8, 9, 10], \"y\": [0.8132500000000026, 0.6827500000000011, 0.5712500000000026, 0.4935000000000011, 0.44125000000000003, 0.40125000000000005, 0.36275000000000085, 0.3465000000000008, 0.31474999999999925, 0.30849999999999866, 0.27125]}, {\"name\": \"dep_err=0.08\", \"type\": \"scatter\", \"x\": [0, 1, 2, 3, 4, 5, 6, 7, 8, 9, 10], \"y\": [0.8175000000000024, 0.6549999999999998, 0.5520000000000013, 0.4864999999999996, 0.4070000000000008, 0.35425000000000034, 0.3344999999999992, 0.29449999999999976, 0.2982499999999989, 0.3015000000000016, 0.28649999999999964]}],                        {\"template\": {\"data\": {\"bar\": [{\"error_x\": {\"color\": \"#2a3f5f\"}, \"error_y\": {\"color\": \"#2a3f5f\"}, \"marker\": {\"line\": {\"color\": \"#E5ECF6\", \"width\": 0.5}}, \"type\": \"bar\"}], \"barpolar\": [{\"marker\": {\"line\": {\"color\": \"#E5ECF6\", \"width\": 0.5}}, \"type\": \"barpolar\"}], \"carpet\": [{\"aaxis\": {\"endlinecolor\": \"#2a3f5f\", \"gridcolor\": \"white\", \"linecolor\": \"white\", \"minorgridcolor\": \"white\", \"startlinecolor\": \"#2a3f5f\"}, \"baxis\": {\"endlinecolor\": \"#2a3f5f\", \"gridcolor\": \"white\", \"linecolor\": \"white\", \"minorgridcolor\": \"white\", \"startlinecolor\": \"#2a3f5f\"}, \"type\": \"carpet\"}], \"choropleth\": [{\"colorbar\": {\"outlinewidth\": 0, \"ticks\": \"\"}, \"type\": \"choropleth\"}], \"contour\": [{\"colorbar\": {\"outlinewidth\": 0, \"ticks\": \"\"}, \"colorscale\": [[0.0, \"#0d0887\"], [0.1111111111111111, \"#46039f\"], [0.2222222222222222, \"#7201a8\"], [0.3333333333333333, \"#9c179e\"], [0.4444444444444444, \"#bd3786\"], [0.5555555555555556, \"#d8576b\"], [0.6666666666666666, \"#ed7953\"], [0.7777777777777778, \"#fb9f3a\"], [0.8888888888888888, \"#fdca26\"], [1.0, \"#f0f921\"]], \"type\": \"contour\"}], \"contourcarpet\": [{\"colorbar\": {\"outlinewidth\": 0, \"ticks\": \"\"}, \"type\": \"contourcarpet\"}], \"heatmap\": [{\"colorbar\": {\"outlinewidth\": 0, \"ticks\": \"\"}, \"colorscale\": [[0.0, \"#0d0887\"], [0.1111111111111111, \"#46039f\"], [0.2222222222222222, \"#7201a8\"], [0.3333333333333333, \"#9c179e\"], [0.4444444444444444, \"#bd3786\"], [0.5555555555555556, \"#d8576b\"], [0.6666666666666666, \"#ed7953\"], [0.7777777777777778, \"#fb9f3a\"], [0.8888888888888888, \"#fdca26\"], [1.0, \"#f0f921\"]], \"type\": \"heatmap\"}], \"heatmapgl\": [{\"colorbar\": {\"outlinewidth\": 0, \"ticks\": \"\"}, \"colorscale\": [[0.0, \"#0d0887\"], [0.1111111111111111, \"#46039f\"], [0.2222222222222222, \"#7201a8\"], [0.3333333333333333, \"#9c179e\"], [0.4444444444444444, \"#bd3786\"], [0.5555555555555556, \"#d8576b\"], [0.6666666666666666, \"#ed7953\"], [0.7777777777777778, \"#fb9f3a\"], [0.8888888888888888, \"#fdca26\"], [1.0, \"#f0f921\"]], \"type\": \"heatmapgl\"}], \"histogram\": [{\"marker\": {\"colorbar\": {\"outlinewidth\": 0, \"ticks\": \"\"}}, \"type\": \"histogram\"}], \"histogram2d\": [{\"colorbar\": {\"outlinewidth\": 0, \"ticks\": \"\"}, \"colorscale\": [[0.0, \"#0d0887\"], [0.1111111111111111, \"#46039f\"], [0.2222222222222222, \"#7201a8\"], [0.3333333333333333, \"#9c179e\"], [0.4444444444444444, \"#bd3786\"], [0.5555555555555556, \"#d8576b\"], [0.6666666666666666, \"#ed7953\"], [0.7777777777777778, \"#fb9f3a\"], [0.8888888888888888, \"#fdca26\"], [1.0, \"#f0f921\"]], \"type\": \"histogram2d\"}], \"histogram2dcontour\": [{\"colorbar\": {\"outlinewidth\": 0, \"ticks\": \"\"}, \"colorscale\": [[0.0, \"#0d0887\"], [0.1111111111111111, \"#46039f\"], [0.2222222222222222, \"#7201a8\"], [0.3333333333333333, \"#9c179e\"], [0.4444444444444444, \"#bd3786\"], [0.5555555555555556, \"#d8576b\"], [0.6666666666666666, \"#ed7953\"], [0.7777777777777778, \"#fb9f3a\"], [0.8888888888888888, \"#fdca26\"], [1.0, \"#f0f921\"]], \"type\": \"histogram2dcontour\"}], \"mesh3d\": [{\"colorbar\": {\"outlinewidth\": 0, \"ticks\": \"\"}, \"type\": \"mesh3d\"}], \"parcoords\": [{\"line\": {\"colorbar\": {\"outlinewidth\": 0, \"ticks\": \"\"}}, \"type\": \"parcoords\"}], \"pie\": [{\"automargin\": true, \"type\": \"pie\"}], \"scatter\": [{\"marker\": {\"colorbar\": {\"outlinewidth\": 0, \"ticks\": \"\"}}, \"type\": \"scatter\"}], \"scatter3d\": [{\"line\": {\"colorbar\": {\"outlinewidth\": 0, \"ticks\": \"\"}}, \"marker\": {\"colorbar\": {\"outlinewidth\": 0, \"ticks\": \"\"}}, \"type\": \"scatter3d\"}], \"scattercarpet\": [{\"marker\": {\"colorbar\": {\"outlinewidth\": 0, \"ticks\": \"\"}}, \"type\": \"scattercarpet\"}], \"scattergeo\": [{\"marker\": {\"colorbar\": {\"outlinewidth\": 0, \"ticks\": \"\"}}, \"type\": \"scattergeo\"}], \"scattergl\": [{\"marker\": {\"colorbar\": {\"outlinewidth\": 0, \"ticks\": \"\"}}, \"type\": \"scattergl\"}], \"scattermapbox\": [{\"marker\": {\"colorbar\": {\"outlinewidth\": 0, \"ticks\": \"\"}}, \"type\": \"scattermapbox\"}], \"scatterpolar\": [{\"marker\": {\"colorbar\": {\"outlinewidth\": 0, \"ticks\": \"\"}}, \"type\": \"scatterpolar\"}], \"scatterpolargl\": [{\"marker\": {\"colorbar\": {\"outlinewidth\": 0, \"ticks\": \"\"}}, \"type\": \"scatterpolargl\"}], \"scatterternary\": [{\"marker\": {\"colorbar\": {\"outlinewidth\": 0, \"ticks\": \"\"}}, \"type\": \"scatterternary\"}], \"surface\": [{\"colorbar\": {\"outlinewidth\": 0, \"ticks\": \"\"}, \"colorscale\": [[0.0, \"#0d0887\"], [0.1111111111111111, \"#46039f\"], [0.2222222222222222, \"#7201a8\"], [0.3333333333333333, \"#9c179e\"], [0.4444444444444444, \"#bd3786\"], [0.5555555555555556, \"#d8576b\"], [0.6666666666666666, \"#ed7953\"], [0.7777777777777778, \"#fb9f3a\"], [0.8888888888888888, \"#fdca26\"], [1.0, \"#f0f921\"]], \"type\": \"surface\"}], \"table\": [{\"cells\": {\"fill\": {\"color\": \"#EBF0F8\"}, \"line\": {\"color\": \"white\"}}, \"header\": {\"fill\": {\"color\": \"#C8D4E3\"}, \"line\": {\"color\": \"white\"}}, \"type\": \"table\"}]}, \"layout\": {\"annotationdefaults\": {\"arrowcolor\": \"#2a3f5f\", \"arrowhead\": 0, \"arrowwidth\": 1}, \"coloraxis\": {\"colorbar\": {\"outlinewidth\": 0, \"ticks\": \"\"}}, \"colorscale\": {\"diverging\": [[0, \"#8e0152\"], [0.1, \"#c51b7d\"], [0.2, \"#de77ae\"], [0.3, \"#f1b6da\"], [0.4, \"#fde0ef\"], [0.5, \"#f7f7f7\"], [0.6, \"#e6f5d0\"], [0.7, \"#b8e186\"], [0.8, \"#7fbc41\"], [0.9, \"#4d9221\"], [1, \"#276419\"]], \"sequential\": [[0.0, \"#0d0887\"], [0.1111111111111111, \"#46039f\"], [0.2222222222222222, \"#7201a8\"], [0.3333333333333333, \"#9c179e\"], [0.4444444444444444, \"#bd3786\"], [0.5555555555555556, \"#d8576b\"], [0.6666666666666666, \"#ed7953\"], [0.7777777777777778, \"#fb9f3a\"], [0.8888888888888888, \"#fdca26\"], [1.0, \"#f0f921\"]], \"sequentialminus\": [[0.0, \"#0d0887\"], [0.1111111111111111, \"#46039f\"], [0.2222222222222222, \"#7201a8\"], [0.3333333333333333, \"#9c179e\"], [0.4444444444444444, \"#bd3786\"], [0.5555555555555556, \"#d8576b\"], [0.6666666666666666, \"#ed7953\"], [0.7777777777777778, \"#fb9f3a\"], [0.8888888888888888, \"#fdca26\"], [1.0, \"#f0f921\"]]}, \"colorway\": [\"#636efa\", \"#EF553B\", \"#00cc96\", \"#ab63fa\", \"#FFA15A\", \"#19d3f3\", \"#FF6692\", \"#B6E880\", \"#FF97FF\", \"#FECB52\"], \"font\": {\"color\": \"#2a3f5f\"}, \"geo\": {\"bgcolor\": \"white\", \"lakecolor\": \"white\", \"landcolor\": \"#E5ECF6\", \"showlakes\": true, \"showland\": true, \"subunitcolor\": \"white\"}, \"hoverlabel\": {\"align\": \"left\"}, \"hovermode\": \"closest\", \"mapbox\": {\"style\": \"light\"}, \"paper_bgcolor\": \"white\", \"plot_bgcolor\": \"#E5ECF6\", \"polar\": {\"angularaxis\": {\"gridcolor\": \"white\", \"linecolor\": \"white\", \"ticks\": \"\"}, \"bgcolor\": \"#E5ECF6\", \"radialaxis\": {\"gridcolor\": \"white\", \"linecolor\": \"white\", \"ticks\": \"\"}}, \"scene\": {\"xaxis\": {\"backgroundcolor\": \"#E5ECF6\", \"gridcolor\": \"white\", \"gridwidth\": 2, \"linecolor\": \"white\", \"showbackground\": true, \"ticks\": \"\", \"zerolinecolor\": \"white\"}, \"yaxis\": {\"backgroundcolor\": \"#E5ECF6\", \"gridcolor\": \"white\", \"gridwidth\": 2, \"linecolor\": \"white\", \"showbackground\": true, \"ticks\": \"\", \"zerolinecolor\": \"white\"}, \"zaxis\": {\"backgroundcolor\": \"#E5ECF6\", \"gridcolor\": \"white\", \"gridwidth\": 2, \"linecolor\": \"white\", \"showbackground\": true, \"ticks\": \"\", \"zerolinecolor\": \"white\"}}, \"shapedefaults\": {\"line\": {\"color\": \"#2a3f5f\"}}, \"ternary\": {\"aaxis\": {\"gridcolor\": \"white\", \"linecolor\": \"white\", \"ticks\": \"\"}, \"baxis\": {\"gridcolor\": \"white\", \"linecolor\": \"white\", \"ticks\": \"\"}, \"bgcolor\": \"#E5ECF6\", \"caxis\": {\"gridcolor\": \"white\", \"linecolor\": \"white\", \"ticks\": \"\"}}, \"title\": {\"x\": 0.05}, \"xaxis\": {\"automargin\": true, \"gridcolor\": \"white\", \"linecolor\": \"white\", \"ticks\": \"\", \"title\": {\"standoff\": 15}, \"zerolinecolor\": \"white\", \"zerolinewidth\": 2}, \"yaxis\": {\"automargin\": true, \"gridcolor\": \"white\", \"linecolor\": \"white\", \"ticks\": \"\", \"title\": {\"standoff\": 15}, \"zerolinecolor\": \"white\", \"zerolinewidth\": 2}}}, \"title\": {\"text\": \"Iterated Entanglement Swapping under Noise (ro_err = 0.05)\"}, \"xaxis\": {\"range\": [0, 10], \"title\": {\"text\": \"Iterations\"}}, \"yaxis\": {\"title\": {\"text\": \"Fidelity\"}}},                        {\"responsive\": true}                    ).then(function(){\n                            \nvar gd = document.getElementById('c7528b7c-068c-4a66-9c5a-62055d5fb329');\nvar x = new MutationObserver(function (mutations, observer) {{\n        var display = window.getComputedStyle(gd).display;\n        if (!display || display === 'none') {{\n            console.log([gd, 'removed!']);\n            Plotly.purge(gd);\n            observer.disconnect();\n        }}\n}});\n\n// Listen for the removal of the full notebook cells\nvar notebookContainer = gd.closest('#notebook-container');\nif (notebookContainer) {{\n    x.observe(notebookContainer, {childList: true});\n}}\n\n// Listen for the clearing of the current output cell\nvar outputEl = gd.closest('.output');\nif (outputEl) {{\n    x.observe(outputEl, {childList: true});\n}}\n\n                        })                };                });            </script>        </div>"
     },
     "metadata": {}
    }
   ],
   "source": [
    "from pytket import OpType\n",
    "from plotly.graph_objects import Scatter, Figure\n",
    "\n",
    "def iterated_entanglement_swap(n_iter):\n",
    "    # Iterate the entanglement swapping protocol n_iter times\n",
    "    it_es = Circuit()\n",
    "    ava = it_es.add_q_register(\"a\", 1)\n",
    "    bella = it_es.add_q_register(\"b\", 2)\n",
    "    charlie = it_es.add_q_register(\"c\", 1)\n",
    "    data = it_es.add_c_register(\"d\", 2)\n",
    "\n",
    "    # Start with an initial Bell state\n",
    "    it_es.H(ava[0])\n",
    "    it_es.CX(ava[0], bella[0])\n",
    "\n",
    "    for i in range(n_iter):\n",
    "        if i % 2 == 0:\n",
    "            # Teleport bella[0] to charlie[0] to give a Bell pair between ava[0] and charlier[0]\n",
    "            tel_to_c = qtel.copy()\n",
    "            tel_to_c.rename_units({alice[0] : bella[0], alice[1] : bella[1], bob[0] : charlie[0]})\n",
    "            it_es.append(tel_to_c)\n",
    "            it_es.add_gate(OpType.Reset, [bella[0]])\n",
    "            it_es.add_gate(OpType.Reset, [bella[1]])\n",
    "        else:\n",
    "            # Teleport charlie[0] to bella[0] to give a Bell pair between ava[0] and bella[0]\n",
    "            tel_to_b = qtel.copy()\n",
    "            tel_to_b.rename_units({alice[0] : charlie[0], alice[1] : bella[1], bob[0] : bella[0]})\n",
    "            it_es.append(tel_to_b)\n",
    "            it_es.add_gate(OpType.Reset, [bella[1]])\n",
    "            it_es.add_gate(OpType.Reset, [charlie[0]])\n",
    "    # Return the circuit and the qubits expected to share a Bell pair\n",
    "    if n_iter % 2 == 0:\n",
    "        return it_es, [ava[0], bella[0]]\n",
    "    else:\n",
    "        return it_es, [ava[0], charlie[0]]\n",
    "\n",
    "def iterated_noisy_experiment(dep_err_rate, ro_err_rate, max_iter):\n",
    "    # Set up the noisy simulator with the given error rates\n",
    "    test_model = make_noise_model(dep_err_rate, ro_err_rate, range(4))\n",
    "    backend = AerBackend(noise_model=test_model)\n",
    "    # Estimate the fidelity after n iterations, from 0 to max_iter (inclusive)\n",
    "    fid_list = []\n",
    "    for i in range(max_iter+1):\n",
    "        it_es, qubits = iterated_entanglement_swap(i)\n",
    "        probs_list = run_tomography_circuits(it_es, qubits, [data[0], data[1]], backend)\n",
    "        dm = fit_tomography_outcomes(probs_list, 2)\n",
    "        fid = fidelity(dm, bell_state)\n",
    "        fid_list.append(fid)\n",
    "    return fid_list\n",
    "\n",
    "fig = Figure()\n",
    "fig.update_layout(title='Iterated Entanglement Swapping under Noise (dep_err = 0.03)',\n",
    "                   xaxis_title='Iterations',\n",
    "                   xaxis=dict(range=[0, 10]),\n",
    "                   yaxis_title='Fidelity')\n",
    "iter_range = np.arange(11)\n",
    "for i in range(7):\n",
    "    fids = iterated_noisy_experiment(0.03, 0.025*i, 10)\n",
    "    plot_data = Scatter(x=iter_range, y=fids, name=\"ro_err=\"+str(np.round(0.025*i, 3)))\n",
    "    fig.add_trace(plot_data)\n",
    "fig.show(renderer=\"notebook_connected\")\n",
    "\n",
    "fig = Figure()\n",
    "fig.update_layout(title='Iterated Entanglement Swapping under Noise (ro_err = 0.05)',\n",
    "                   xaxis_title='Iterations',\n",
    "                   xaxis=dict(range=[0, 10]),\n",
    "                   yaxis_title='Fidelity')\n",
    "iter_range = np.arange(11)\n",
    "for i in range(9):\n",
    "    fids = iterated_noisy_experiment(0.01*i, 0.05, 10)\n",
    "    plot_data = Scatter(x=iter_range, y=fids, name=\"dep_err=\"+str(np.round(0.01*i, 3)))\n",
    "    fig.add_trace(plot_data)\n",
    "fig.show(renderer=\"notebook_connected\")"
   ]
  },
  {
   "cell_type": "markdown",
   "metadata": {},
   "source": [
    "These graphs are not very surprising, but are still important for seeing that the current error rates of typical NISQ devices become crippling for fidelities very quickly after repeated mid-circuit measurements and corrections (even with this overly-simplified model with uniform noise and no crosstalk or higher error modes). This provides good motivation for the adoption of error mitigation techniques, and for the development of new techniques that are robust to errors in mid-circuit measurements."
   ]
  },
  {
   "cell_type": "markdown",
   "metadata": {},
   "source": [
    "Exercises:\n",
    "\n",
    "- Vary the fixed noise levels to compare how impactful the depolarising and measurement errors are.\n",
    "- Add extra noise characteristics to the noise model to obtain something that more resembles a real device. Possible options include adding error during the reset operations, extending the errors to be non-local, or constructing the noise model from a device's calibration data.\n",
    "- Change the circuit from iterated entanglement swapping to iterated applications of a correction circuit from a simple error-correcting code. Do you expect this to be more sensitive to depolarising errors from unitary gates or measurement errors?"
   ]
  }
 ],
 "metadata": {
  "kernelspec": {
   "display_name": "Python 3",
   "language": "python",
   "name": "python3"
  },
  "language_info": {
   "codemirror_mode": {
    "name": "ipython",
    "version": 3
   },
   "file_extension": ".py",
   "mimetype": "text/x-python",
   "name": "python",
   "nbconvert_exporter": "python",
   "pygments_lexer": "ipython3",
   "version": "3.7.4-final"
  }
 },
 "nbformat": 4,
 "nbformat_minor": 2
}