{
 "cells": [
  {
   "cell_type": "markdown",
   "metadata": {},
   "source": [
    "# Calibration and Correction of State Preparation and Measurement (SPAM)"
   ]
  },
  {
   "cell_type": "markdown",
   "metadata": {},
   "source": [
    "Quantum Computers available in the NISQ-era are limited by significant sources of device noise which cause errors in computation. One such noise source is errors in the preparation and measurement of quantum states, more commonly know as SPAM. <br>\n",
    "\n",
    "If device SPAM error can be characterised, then device results can be modified to mitigate the error. Characterisation proceeds by determining overlap between different prepared basis states when measured, and mitigation modifies the distribution over output states of the corrected circuit. No modification of the quantum circuit being corrected is required. The ``` pytket```  ```SpamCorrecter```  class supports characterisation and mitigation of device SPAM error. <br>\n",
    "\n",
    "In this tutorial we will show how the ```SpamCorrecter```  class can be used to modify real results and improve device performance when running experiments. <br>\n",
    "\n",
    "This tutorial will require installation of ```pytket```, ```pytket_qiskit``` and ```qiskit```, all available on pip.\n",
    "\n",
    "First, import the ```SpamCorrecter``` class. "
   ]
  },
  {
   "cell_type": "code",
   "execution_count": 1,
   "metadata": {},
   "outputs": [],
   "source": [
    "from pytket.utils.spam import SpamCorrecter"
   ]
  },
  {
   "cell_type": "markdown",
   "metadata": {},
   "source": [
    "The SpamCorrecter class has methods for generating State Preparation and Measurement (SPAM) calibration experiments for pytket backends and correcting counts generated from those same backends. <br>\n",
    "\n",
    "Let's first mitigate error from a noisy simulation, using a noise model straight from the 5-qubit IBMQ Santiago device. This will require a preloaded IBMQ account."
   ]
  },
  {
   "cell_type": "code",
   "execution_count": 2,
   "metadata": {},
   "outputs": [
    {
     "output_type": "execute_result",
     "data": {
      "text/plain": "<AccountProvider for IBMQ(hub='ibm-q', group='open', project='main')>"
     },
     "metadata": {},
     "execution_count": 3
    }
   ],
   "source": [
    "from qiskit import IBMQ\n",
    "IBMQ.load_account()"
   ]
  },
  {
   "cell_type": "code",
   "execution_count": 3,
   "metadata": {},
   "outputs": [],
   "source": [
    "from pytket.extensions.qiskit import process_characterisation\n",
    "from pytket.device import Device"
   ]
  },
  {
   "cell_type": "code",
   "execution_count": 4,
   "metadata": {},
   "outputs": [],
   "source": [
    "ibmq_santiago_backend = IBMQ.providers()[0].get_backend('ibmq_santiago')\n",
    "pytket_santiago_characterisation = process_characterisation(ibmq_santiago_backend)\n",
    "pytket_santiago_device = Device(pytket_santiago_characterisation[\"NodeErrors\"],\n",
    "                              pytket_santiago_characterisation[\"EdgeErrors\"],\n",
    "                              pytket_santiago_characterisation[\"Architecture\"])"
   ]
  },
  {
   "cell_type": "code",
   "execution_count": 5,
   "metadata": {},
   "outputs": [],
   "source": [
    "import networkx as nx\n",
    "import matplotlib.pyplot as plt"
   ]
  },
  {
   "cell_type": "code",
   "execution_count": 6,
   "metadata": {},
   "outputs": [
    {
     "data": {
      "image/png": "[encoded data removed]",
      "text/plain": [
       "<Figure size 432x288 with 1 Axes>"
      ]
     },
     "metadata": {},
     "output_type": "display_data"
    }
   ],
   "source": [
    "santiago_graph = nx.Graph(pytket_santiago_device.coupling)\n",
    "nx.draw(santiago_graph, labels = {node:node for node in santiago_graph.nodes()})"
   ]
  },
  {
   "cell_type": "markdown",
   "metadata": {},
   "source": [
    "SPAM correction requires subsets of qubits which are assumed to only have SPAM errors correlated with each other, and no other qubits. <br>\n",
    "Correlated errors are usually dependent on the connectivity layout of devices, as shown above. <br>\n",
    "As Santiago is a small 5-qubit device with few connections, let's assume that all qubits have correlated SPAM errors. The number of calibration circuits produced is exponential in the maximum number of correlated circuits, so finding good subsets of correlated qubits is important for characterising larger devices with smaller experimental overhead.\n",
    "\n",
    "We get a noise model from ```ibmq_santiago``` using qiskit-aer, make a simulator backend, and then execute all calibration circuits through the backend."
   ]
  },
  {
   "cell_type": "code",
   "execution_count": 7,
   "metadata": {},
   "outputs": [],
   "source": [
    "from pytket.extensions.qiskit import AerBackend\n",
    "from qiskit.providers.aer.noise import NoiseModel\n",
    "\n",
    "n_shots = 8192 \n",
    "santiago_node_subsets = pytket_santiago_device.nodes\n",
    "pytket_noisy_sim_backend = AerBackend(NoiseModel.from_backend(ibmq_santiago_backend))\n",
    "santiago_spam = SpamCorrecter([santiago_node_subsets], pytket_noisy_sim_backend)"
   ]
  },
  {
   "cell_type": "markdown",
   "metadata": {},
   "source": [
    "The SpamCorrecter uses these subsets of qubits to produce calibration circuits."
   ]
  },
  {
   "cell_type": "code",
   "execution_count": 8,
   "metadata": {
    "tags": []
   },
   "outputs": [
    {
     "name": "stdout",
     "output_type": "stream",
     "text": [
      "Number of calibration circuits:  32\n"
     ]
    }
   ],
   "source": [
    "calibration_circuits = santiago_spam.calibration_circuits()\n",
    "print('Number of calibration circuits: ' , len(calibration_circuits))"
   ]
  },
  {
   "cell_type": "code",
   "execution_count": 9,
   "metadata": {},
   "outputs": [],
   "source": [
    "sim_handles = pytket_noisy_sim_backend.process_circuits(calibration_circuits, n_shots)"
   ]
  },
  {
   "cell_type": "markdown",
   "metadata": {},
   "source": [
    "Count results from the simulator are then used to calculate the matrices used for SPAM correction for ```ibmq_santiago```."
   ]
  },
  {
   "cell_type": "code",
   "execution_count": 10,
   "metadata": {},
   "outputs": [],
   "source": [
    "sim_count_results = (pytket_noisy_sim_backend.get_result(handle).get_counts() for handle in sim_handles)\n",
    "santiago_spam.calculate_matrices(sim_count_results)"
   ]
  },
  {
   "cell_type": "code",
   "execution_count": 11,
   "metadata": {},
   "outputs": [],
   "source": [
    "from pytket import Circuit\n",
    "\n",
    "ghz_circuit = Circuit(len(pytket_santiago_device.nodes)).H(0).CX(0,1).CX(1,2).measure_all()\n",
    "pytket_noisy_sim_backend.compile_circuit(ghz_circuit)\n",
    "ghz_noisy_counts = pytket_noisy_sim_backend.get_counts(ghz_circuit,n_shots)"
   ]
  },
  {
   "cell_type": "markdown",
   "metadata": {},
   "source": [
    "We also run a noiseless simulation so we can compare performance."
   ]
  },
  {
   "cell_type": "code",
   "execution_count": 12,
   "metadata": {},
   "outputs": [],
   "source": [
    "pytket_noiseless_sim_backend = AerBackend()\n",
    "ghz_noiseless_counts = pytket_noiseless_sim_backend.get_counts(ghz_circuit,n_shots)"
   ]
  },
  {
   "cell_type": "markdown",
   "metadata": {},
   "source": [
    "Noisy simulator counts are corrected using the ```SpamCorrecter``` objects ```correct_counts``` method.<br>\n",
    "To correctly amend counts, the ```correct_counts``` method requires the executed circuits qubit_readout, a map from qubit to its index in readouts from backends."
   ]
  },
  {
   "cell_type": "code",
   "execution_count": 13,
   "metadata": {},
   "outputs": [],
   "source": [
    "ghz_spam_corrected_counts = santiago_spam.correct_counts(ghz_noisy_counts, ghz_circuit.qubit_readout)"
   ]
  },
  {
   "cell_type": "markdown",
   "metadata": {},
   "source": [
    "Import and define the Jensen-Shannon divergence, which we will use for comparing performance. The Jensen-Shannon divergence is a symmetric and finite measure of similarity between two probability distributions. A smaller divergence implies more similarity between two probability distributions."
   ]
  },
  {
   "cell_type": "code",
   "execution_count": 14,
   "metadata": {},
   "outputs": [],
   "source": [
    "from scipy.stats import entropy\n",
    "import numpy as np\n",
    "import itertools"
   ]
  },
  {
   "cell_type": "code",
   "execution_count": 15,
   "metadata": {},
   "outputs": [],
   "source": [
    "def binseq(k):\n",
    "    return [''.join(x) for x in itertools.product('01', repeat=k)]\n",
    "\n",
    "def probs_from_counts(counts):\n",
    "    counts_dict = dict()\n",
    "    for x in counts:\n",
    "        counts_dict[''.join(str(e) for e in x)]=counts[x]\n",
    "    converted = []\n",
    "    binary_strings = binseq(len(list(counts.keys())[0]))\n",
    "    for b in binary_strings:\n",
    "        converted.append(counts_dict.get(b,0))\n",
    "    return converted / np.sum(converted)\n",
    "\n",
    "def JSD(P, Q):\n",
    "    _P = P / np.linalg.norm(P, ord=1)\n",
    "    _Q = Q / np.linalg.norm(Q, ord=1)\n",
    "    _M = 0.5 * (_P + _Q)\n",
    "    return 0.5 * (entropy(_P, _M) + entropy(_Q, _M))"
   ]
  },
  {
   "cell_type": "markdown",
   "metadata": {},
   "source": [
    "Convert our counts results to a probability distribution over the basis states for comparison. "
   ]
  },
  {
   "cell_type": "code",
   "execution_count": 16,
   "metadata": {},
   "outputs": [],
   "source": [
    "ghz_noiseless_probabilities = probs_from_counts(ghz_noiseless_counts)\n",
    "ghz_noisy_probabilities = probs_from_counts(ghz_noisy_counts)\n",
    "ghz_spam_corrected_probabilities = probs_from_counts(ghz_spam_corrected_counts)"
   ]
  },
  {
   "cell_type": "code",
   "execution_count": 17,
   "metadata": {
    "tags": []
   },
   "outputs": [
    {
     "name": "stdout",
     "output_type": "stream",
     "text": [
      "Jensen-Shannon Divergence between noiseless simulation probability distribution and noisy simulation probability distribution:  0.030124006310110682\n",
      "Jensen-Shannon Divergence between noiseless simulation probability distribution and spam corrected noisy simulation probability distribution:  0.005148185743496127\n"
     ]
    }
   ],
   "source": [
    "print('Jensen-Shannon Divergence between noiseless simulation probability distribution and noisy simulation probability distribution: ',\n",
    "      JSD(ghz_noiseless_probabilities, ghz_noisy_probabilities))\n",
    "print('Jensen-Shannon Divergence between noiseless simulation probability distribution and spam corrected noisy simulation probability distribution: ', \n",
    "      JSD(ghz_noiseless_probabilities, ghz_spam_corrected_probabilities))"
   ]
  },
  {
   "cell_type": "markdown",
   "metadata": {},
   "source": [
    "In our noisy simulated case, spam corrected results produced a distribution closer to the expected distribution. <br>\n",
    "There are two methods available for correcting counts: the default ```bayesian```, and ```invert```. Further information on each method is available at our [documentation](https://cqcl.github.io/pytket/build/html/utils.html#module-pytket.utils.spam).<br>\n",
    "Let's look at how the ```invert``` method performs."
   ]
  },
  {
   "cell_type": "code",
   "execution_count": 18,
   "metadata": {
    "tags": []
   },
   "outputs": [
    {
     "name": "stdout",
     "output_type": "stream",
     "text": [
      "Jensen-Shannon Divergence between noiseless simulation probability distribution and Bayesian-corrected noisy simulation probability distribution:  0.005148185743496127\n",
      "Jensen-Shannon Divergence between noiseless simulation probability distribution and invert-corrected noisy simulation probability distribution:  0.0048690261389994\n"
     ]
    }
   ],
   "source": [
    "ghz_invert_corrected_counts = santiago_spam.correct_counts(ghz_noisy_counts, ghz_circuit.qubit_readout, method = 'invert')\n",
    "ghz_invert_probabilities = probs_from_counts(ghz_invert_corrected_counts)\n",
    "\n",
    "print('Jensen-Shannon Divergence between noiseless simulation probability distribution and Bayesian-corrected noisy simulation probability distribution: ', \n",
    "      JSD(ghz_noiseless_probabilities, ghz_spam_corrected_probabilities))\n",
    "print('Jensen-Shannon Divergence between noiseless simulation probability distribution and invert-corrected noisy simulation probability distribution: ', \n",
    "      JSD(ghz_noiseless_probabilities, ghz_invert_probabilities))"
   ]
  },
  {
   "cell_type": "markdown",
   "metadata": {},
   "source": [
    "Lets change from our simulator backend to the Santiago IBMQ device to see how SPAM correction performs on real results."
   ]
  },
  {
   "cell_type": "code",
   "execution_count": 19,
   "metadata": {},
   "outputs": [],
   "source": [
    "from pytket.extensions.qiskit import IBMQBackend\n",
    "ibm_backend = IBMQBackend('ibmq_santiago')"
   ]
  },
  {
   "cell_type": "code",
   "execution_count": 20,
   "metadata": {},
   "outputs": [],
   "source": [
    "santiago_spam_real = SpamCorrecter([ibm_backend.device.nodes], ibm_backend)\n",
    "ibm_backend.compile_circuit(ghz_circuit)\n",
    "all_circuits = santiago_spam_real.calibration_circuits() + [ghz_circuit]\n",
    "ibm_handles = ibm_backend.process_circuits(all_circuits, n_shots)"
   ]
  },
  {
   "cell_type": "code",
   "execution_count": 22,
   "metadata": {
    "tags": []
   },
   "outputs": [
    {
     "output_type": "stream",
     "name": "stdout",
     "text": "Job Status: job has successfully run\n"
    }
   ],
   "source": [
    "ibm_calibration_results = (ibm_backend.get_result(handle).get_counts() for handle in ibm_handles[:-1])\n",
    "santiago_spam_real.calculate_matrices(ibm_calibration_results)"
   ]
  },
  {
   "cell_type": "code",
   "execution_count": 23,
   "metadata": {},
   "outputs": [],
   "source": [
    "ghz_santiago_counts = ibm_backend.get_result(ibm_handles[-1]).get_counts()\n",
    "ghz_santiago_probabilities = probs_from_counts(ghz_santiago_counts)"
   ]
  },
  {
   "cell_type": "markdown",
   "metadata": {},
   "source": [
    "Finally we compare performance for our machine results:"
   ]
  },
  {
   "cell_type": "code",
   "execution_count": 24,
   "metadata": {
    "tags": []
   },
   "outputs": [
    {
     "output_type": "stream",
     "name": "stdout",
     "text": [
      "Jensen-Shannon Divergence between noiseless simulation probability distribution and santiago probability distribution:  0.0927898369011113\n",
      "Jensen-Shannon Divergence between noiseless simulation probability distribution and Bayesian-corrected santiago probability distribution:  0.004773018844253832\n",
      "Jensen-Shannon Divergence between noiseless simulation probability distribution and invert-corrected santiago probability distribution:  0.04090501183039972\n"
     ]
    }
   ],
   "source": [
    "ghz_spam_corrected_santiago_counts = santiago_spam_real.correct_counts(ghz_santiago_counts, ghz_circuit.qubit_readout)\n",
    "ghz_invert_corrected_counts = santiago_spam_real.correct_counts(ghz_santiago_counts, ghz_circuit.qubit_readout, method = 'invert')\n",
    "\n",
    "ghz_spam_corrected_santiago_probabilities = probs_from_counts(ghz_spam_corrected_counts)\n",
    "ghz_invert_probabilities = probs_from_counts(ghz_invert_corrected_counts)\n",
    "\n",
    "print('Jensen-Shannon Divergence between noiseless simulation probability distribution and santiago probability distribution: ', \n",
    "      JSD(ghz_noiseless_probabilities, ghz_santiago_probabilities))\n",
    "print('Jensen-Shannon Divergence between noiseless simulation probability distribution and Bayesian-corrected santiago probability distribution: ', \n",
    "      JSD(ghz_noiseless_probabilities, ghz_spam_corrected_santiago_probabilities))\n",
    "print('Jensen-Shannon Divergence between noiseless simulation probability distribution and invert-corrected santiago probability distribution: ', \n",
    "      JSD(ghz_noiseless_probabilities, ghz_invert_probabilities))"
   ]
  }
 ],
 "metadata": {
  "kernelspec": {
   "display_name": "Python 3",
   "language": "python",
   "name": "python3"
  },
  "language_info": {
   "codemirror_mode": {
    "name": "ipython",
    "version": 3
   },
   "file_extension": ".py",
   "mimetype": "text/x-python",
   "name": "python",
   "nbconvert_exporter": "python",
   "pygments_lexer": "ipython3",
   "version": "3.8.2"
  }
 },
 "nbformat": 4,
 "nbformat_minor": 4
}
