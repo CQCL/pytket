{
 "cells": [
  {
   "cell_type": "markdown",
   "metadata": {},
   "source": [
    "# Calibration and Correction of State Preparation and Measurement (SPAM)"
   ]
  },
  {
   "cell_type": "markdown",
   "metadata": {},
   "source": [
    "Quantum Computers available in the NISQ-era are limited by significant sources of device noise which cause errors in computation. One such noise source is errors in the preparation and measurement of quantum states, more commonly know as SPAM. <br>\n",
    "\n",
    "If device SPAM error can be characterised, then device results can be modified to mitigate the error. Characterisation proceeds by determining overlap between different prepared basis states when measured, and mitigation modifies the distribution over output states of the corrected circuit. No modification of the quantum circuit being corrected is required. The ``` pytket```  ```SpamCorrecter```  class supports characterisation and mitigation of device SPAM error. <br>\n",
    "\n",
    "In this tutorial we will show how the ```SpamCorrecter```  class can be used to modify real results and improve device performance when running experiments. <br>\n",
    "\n",
    "This tutorial will require installation of ```pytket```, ```pytket_qiskit``` and ```qiskit```, all available on pip.\n",
    "\n",
    "First, import the ```SpamCorrecter``` class. "
   ]
  },
  {
   "cell_type": "code",
   "execution_count": 1,
   "metadata": {},
   "outputs": [],
   "source": [
    "from pytket.utils.spam import SpamCorrecter"
   ]
  },
  {
   "cell_type": "markdown",
   "metadata": {},
   "source": [
    "The SpamCorrecter class has methods for generating State Preparation and Measurement (SPAM) calibration experiments for pytket backends and correcting counts generated from those same backends. <br>\n",
    "\n",
    "Let's first mitigate error from a noisy simulation, using a noise model straight from the 5-qubit IBMQ Ourense device. This will require a preloaded IBMQ account."
   ]
  },
  {
   "cell_type": "code",
   "execution_count": 2,
   "metadata": {},
   "outputs": [
    {
     "output_type": "execute_result",
     "data": {
      "text/plain": "<AccountProvider for IBMQ(hub='ibm-q', group='open', project='main')>"
     },
     "metadata": {},
     "execution_count": 2
    }
   ],
   "source": [
    "from qiskit import IBMQ\n",
    "IBMQ.load_account()"
   ]
  },
  {
   "cell_type": "code",
   "execution_count": 3,
   "metadata": {},
   "outputs": [],
   "source": [
    "from pytket.backends.ibm.ibm import process_characterisation\n",
    "from pytket.device import Device"
   ]
  },
  {
   "cell_type": "code",
   "execution_count": 4,
   "metadata": {},
   "outputs": [],
   "source": [
    "ibmq_ourense_backend = IBMQ.providers()[0].get_backend('ibmq_ourense')\n",
    "pytket_ourense_characterisation = process_characterisation(ibmq_ourense_backend)\n",
    "pytket_ourense_device = Device(pytket_ourense_characterisation[\"NodeErrors\"],\n",
    "                              pytket_ourense_characterisation[\"EdgeErrors\"],\n",
    "                              pytket_ourense_characterisation[\"Architecture\"])"
   ]
  },
  {
   "cell_type": "code",
   "execution_count": 5,
   "metadata": {},
   "outputs": [],
   "source": [
    "import networkx as nx\n",
    "import matplotlib.pyplot as plt"
   ]
  },
  {
   "cell_type": "code",
   "execution_count": 6,
   "metadata": {},
   "outputs": [
    {
     "output_type": "display_data",
     "data": {
      "text/plain": "<Figure size 432x288 with 1 Axes>",
      "image/svg+xml": "<?xml version=\"1.0\" encoding=\"utf-8\" standalone=\"no\"?>\n<!DOCTYPE svg PUBLIC \"-//W3C//DTD SVG 1.1//EN\"\n  \"http://www.w3.org/Graphics/SVG/1.1/DTD/svg11.dtd\">\n<!-- Created with matplotlib (https://matplotlib.org/) -->\n<svg height=\"302.4pt\" version=\"1.1\" viewBox=\"0 0 446.4 302.4\" width=\"446.4pt\" xmlns=\"http://www.w3.org/2000/svg\" xmlns:xlink=\"http://www.w3.org/1999/xlink\">\n <defs>\n  <style type=\"text/css\">\n*{stroke-linecap:butt;stroke-linejoin:round;}\n  </style>\n </defs>\n <g id=\"figure_1\">\n  <g id=\"patch_1\">\n   <path d=\"M 0 302.4 \nL 446.4 302.4 \nL 446.4 0 \nL 0 0 \nz\n\" style=\"fill:#ffffff;\"/>\n  </g>\n  <g id=\"axes_1\">\n   <g id=\"LineCollection_1\">\n    <path clip-path=\"url(#p0d4c7ce923)\" d=\"M 33.395135 81.122989 \nL 233.283773 105.26209 \n\" style=\"fill:none;stroke:#000000;\"/>\n    <path clip-path=\"url(#p0d4c7ce923)\" d=\"M 233.283773 105.26209 \nL 320.926413 24.515322 \n\" style=\"fill:none;stroke:#000000;\"/>\n    <path clip-path=\"url(#p0d4c7ce923)\" d=\"M 233.283773 105.26209 \nL 330.389558 198.21604 \n\" style=\"fill:none;stroke:#000000;\"/>\n    <path clip-path=\"url(#p0d4c7ce923)\" d=\"M 330.389558 198.21604 \nL 413.004865 277.884678 \n\" style=\"fill:none;stroke:#000000;\"/>\n   </g>\n   <g id=\"PathCollection_1\">\n    <defs>\n     <path d=\"M 0 8.660254 \nC 2.296726 8.660254 4.499694 7.747755 6.123724 6.123724 \nC 7.747755 4.499694 8.660254 2.296726 8.660254 0 \nC 8.660254 -2.296726 7.747755 -4.499694 6.123724 -6.123724 \nC 4.499694 -7.747755 2.296726 -8.660254 0 -8.660254 \nC -2.296726 -8.660254 -4.499694 -7.747755 -6.123724 -6.123724 \nC -7.747755 -4.499694 -8.660254 -2.296726 -8.660254 0 \nC -8.660254 2.296726 -7.747755 4.499694 -6.123724 6.123724 \nC -4.499694 7.747755 -2.296726 8.660254 0 8.660254 \nz\n\" id=\"m1351e74798\" style=\"stroke:#1f78b4;\"/>\n    </defs>\n    <g clip-path=\"url(#p0d4c7ce923)\">\n     <use style=\"fill:#1f78b4;stroke:#1f78b4;\" x=\"33.395135\" xlink:href=\"#m1351e74798\" y=\"81.122989\"/>\n     <use style=\"fill:#1f78b4;stroke:#1f78b4;\" x=\"233.283773\" xlink:href=\"#m1351e74798\" y=\"105.26209\"/>\n     <use style=\"fill:#1f78b4;stroke:#1f78b4;\" x=\"320.926413\" xlink:href=\"#m1351e74798\" y=\"24.515322\"/>\n     <use style=\"fill:#1f78b4;stroke:#1f78b4;\" x=\"330.389558\" xlink:href=\"#m1351e74798\" y=\"198.21604\"/>\n     <use style=\"fill:#1f78b4;stroke:#1f78b4;\" x=\"413.004865\" xlink:href=\"#m1351e74798\" y=\"277.884678\"/>\n    </g>\n   </g>\n   <g id=\"text_1\">\n    <g clip-path=\"url(#p0d4c7ce923)\">\n     <!-- node[0] -->\n     <defs>\n      <path d=\"M 54.890625 33.015625 \nL 54.890625 0 \nL 45.90625 0 \nL 45.90625 32.71875 \nQ 45.90625 40.484375 42.875 44.328125 \nQ 39.84375 48.1875 33.796875 48.1875 \nQ 26.515625 48.1875 22.3125 43.546875 \nQ 18.109375 38.921875 18.109375 30.90625 \nL 18.109375 0 \nL 9.078125 0 \nL 9.078125 54.6875 \nL 18.109375 54.6875 \nL 18.109375 46.1875 \nQ 21.34375 51.125 25.703125 53.5625 \nQ 30.078125 56 35.796875 56 \nQ 45.21875 56 50.046875 50.171875 \nQ 54.890625 44.34375 54.890625 33.015625 \nz\n\" id=\"DejaVuSans-110\"/>\n      <path d=\"M 30.609375 48.390625 \nQ 23.390625 48.390625 19.1875 42.75 \nQ 14.984375 37.109375 14.984375 27.296875 \nQ 14.984375 17.484375 19.15625 11.84375 \nQ 23.34375 6.203125 30.609375 6.203125 \nQ 37.796875 6.203125 41.984375 11.859375 \nQ 46.1875 17.53125 46.1875 27.296875 \nQ 46.1875 37.015625 41.984375 42.703125 \nQ 37.796875 48.390625 30.609375 48.390625 \nz\nM 30.609375 56 \nQ 42.328125 56 49.015625 48.375 \nQ 55.71875 40.765625 55.71875 27.296875 \nQ 55.71875 13.875 49.015625 6.21875 \nQ 42.328125 -1.421875 30.609375 -1.421875 \nQ 18.84375 -1.421875 12.171875 6.21875 \nQ 5.515625 13.875 5.515625 27.296875 \nQ 5.515625 40.765625 12.171875 48.375 \nQ 18.84375 56 30.609375 56 \nz\n\" id=\"DejaVuSans-111\"/>\n      <path d=\"M 45.40625 46.390625 \nL 45.40625 75.984375 \nL 54.390625 75.984375 \nL 54.390625 0 \nL 45.40625 0 \nL 45.40625 8.203125 \nQ 42.578125 3.328125 38.25 0.953125 \nQ 33.9375 -1.421875 27.875 -1.421875 \nQ 17.96875 -1.421875 11.734375 6.484375 \nQ 5.515625 14.40625 5.515625 27.296875 \nQ 5.515625 40.1875 11.734375 48.09375 \nQ 17.96875 56 27.875 56 \nQ 33.9375 56 38.25 53.625 \nQ 42.578125 51.265625 45.40625 46.390625 \nz\nM 14.796875 27.296875 \nQ 14.796875 17.390625 18.875 11.75 \nQ 22.953125 6.109375 30.078125 6.109375 \nQ 37.203125 6.109375 41.296875 11.75 \nQ 45.40625 17.390625 45.40625 27.296875 \nQ 45.40625 37.203125 41.296875 42.84375 \nQ 37.203125 48.484375 30.078125 48.484375 \nQ 22.953125 48.484375 18.875 42.84375 \nQ 14.796875 37.203125 14.796875 27.296875 \nz\n\" id=\"DejaVuSans-100\"/>\n      <path d=\"M 56.203125 29.59375 \nL 56.203125 25.203125 \nL 14.890625 25.203125 \nQ 15.484375 15.921875 20.484375 11.0625 \nQ 25.484375 6.203125 34.421875 6.203125 \nQ 39.59375 6.203125 44.453125 7.46875 \nQ 49.3125 8.734375 54.109375 11.28125 \nL 54.109375 2.78125 \nQ 49.265625 0.734375 44.1875 -0.34375 \nQ 39.109375 -1.421875 33.890625 -1.421875 \nQ 20.796875 -1.421875 13.15625 6.1875 \nQ 5.515625 13.8125 5.515625 26.8125 \nQ 5.515625 40.234375 12.765625 48.109375 \nQ 20.015625 56 32.328125 56 \nQ 43.359375 56 49.78125 48.890625 \nQ 56.203125 41.796875 56.203125 29.59375 \nz\nM 47.21875 32.234375 \nQ 47.125 39.59375 43.09375 43.984375 \nQ 39.0625 48.390625 32.421875 48.390625 \nQ 24.90625 48.390625 20.390625 44.140625 \nQ 15.875 39.890625 15.1875 32.171875 \nz\n\" id=\"DejaVuSans-101\"/>\n      <path d=\"M 8.59375 75.984375 \nL 29.296875 75.984375 \nL 29.296875 69 \nL 17.578125 69 \nL 17.578125 -6.203125 \nL 29.296875 -6.203125 \nL 29.296875 -13.1875 \nL 8.59375 -13.1875 \nz\n\" id=\"DejaVuSans-91\"/>\n      <path d=\"M 31.78125 66.40625 \nQ 24.171875 66.40625 20.328125 58.90625 \nQ 16.5 51.421875 16.5 36.375 \nQ 16.5 21.390625 20.328125 13.890625 \nQ 24.171875 6.390625 31.78125 6.390625 \nQ 39.453125 6.390625 43.28125 13.890625 \nQ 47.125 21.390625 47.125 36.375 \nQ 47.125 51.421875 43.28125 58.90625 \nQ 39.453125 66.40625 31.78125 66.40625 \nz\nM 31.78125 74.21875 \nQ 44.046875 74.21875 50.515625 64.515625 \nQ 56.984375 54.828125 56.984375 36.375 \nQ 56.984375 17.96875 50.515625 8.265625 \nQ 44.046875 -1.421875 31.78125 -1.421875 \nQ 19.53125 -1.421875 13.0625 8.265625 \nQ 6.59375 17.96875 6.59375 36.375 \nQ 6.59375 54.828125 13.0625 64.515625 \nQ 19.53125 74.21875 31.78125 74.21875 \nz\n\" id=\"DejaVuSans-48\"/>\n      <path d=\"M 30.421875 75.984375 \nL 30.421875 -13.1875 \nL 9.71875 -13.1875 \nL 9.71875 -6.203125 \nL 21.390625 -6.203125 \nL 21.390625 69 \nL 9.71875 69 \nL 9.71875 75.984375 \nz\n\" id=\"DejaVuSans-93\"/>\n     </defs>\n     <g transform=\"translate(9.921073 84.434239)scale(0.12 -0.12)\">\n      <use xlink:href=\"#DejaVuSans-110\"/>\n      <use x=\"63.378906\" xlink:href=\"#DejaVuSans-111\"/>\n      <use x=\"124.560547\" xlink:href=\"#DejaVuSans-100\"/>\n      <use x=\"188.037109\" xlink:href=\"#DejaVuSans-101\"/>\n      <use x=\"249.560547\" xlink:href=\"#DejaVuSans-91\"/>\n      <use x=\"288.574219\" xlink:href=\"#DejaVuSans-48\"/>\n      <use x=\"352.197266\" xlink:href=\"#DejaVuSans-93\"/>\n     </g>\n    </g>\n   </g>\n   <g id=\"text_2\">\n    <g clip-path=\"url(#p0d4c7ce923)\">\n     <!-- node[1] -->\n     <defs>\n      <path d=\"M 12.40625 8.296875 \nL 28.515625 8.296875 \nL 28.515625 63.921875 \nL 10.984375 60.40625 \nL 10.984375 69.390625 \nL 28.421875 72.90625 \nL 38.28125 72.90625 \nL 38.28125 8.296875 \nL 54.390625 8.296875 \nL 54.390625 0 \nL 12.40625 0 \nz\n\" id=\"DejaVuSans-49\"/>\n     </defs>\n     <g transform=\"translate(209.809711 108.57334)scale(0.12 -0.12)\">\n      <use xlink:href=\"#DejaVuSans-110\"/>\n      <use x=\"63.378906\" xlink:href=\"#DejaVuSans-111\"/>\n      <use x=\"124.560547\" xlink:href=\"#DejaVuSans-100\"/>\n      <use x=\"188.037109\" xlink:href=\"#DejaVuSans-101\"/>\n      <use x=\"249.560547\" xlink:href=\"#DejaVuSans-91\"/>\n      <use x=\"288.574219\" xlink:href=\"#DejaVuSans-49\"/>\n      <use x=\"352.197266\" xlink:href=\"#DejaVuSans-93\"/>\n     </g>\n    </g>\n   </g>\n   <g id=\"text_3\">\n    <g clip-path=\"url(#p0d4c7ce923)\">\n     <!-- node[2] -->\n     <defs>\n      <path d=\"M 19.1875 8.296875 \nL 53.609375 8.296875 \nL 53.609375 0 \nL 7.328125 0 \nL 7.328125 8.296875 \nQ 12.9375 14.109375 22.625 23.890625 \nQ 32.328125 33.6875 34.8125 36.53125 \nQ 39.546875 41.84375 41.421875 45.53125 \nQ 43.3125 49.21875 43.3125 52.78125 \nQ 43.3125 58.59375 39.234375 62.25 \nQ 35.15625 65.921875 28.609375 65.921875 \nQ 23.96875 65.921875 18.8125 64.3125 \nQ 13.671875 62.703125 7.8125 59.421875 \nL 7.8125 69.390625 \nQ 13.765625 71.78125 18.9375 73 \nQ 24.125 74.21875 28.421875 74.21875 \nQ 39.75 74.21875 46.484375 68.546875 \nQ 53.21875 62.890625 53.21875 53.421875 \nQ 53.21875 48.921875 51.53125 44.890625 \nQ 49.859375 40.875 45.40625 35.40625 \nQ 44.1875 33.984375 37.640625 27.21875 \nQ 31.109375 20.453125 19.1875 8.296875 \nz\n\" id=\"DejaVuSans-50\"/>\n     </defs>\n     <g transform=\"translate(297.45235 27.826572)scale(0.12 -0.12)\">\n      <use xlink:href=\"#DejaVuSans-110\"/>\n      <use x=\"63.378906\" xlink:href=\"#DejaVuSans-111\"/>\n      <use x=\"124.560547\" xlink:href=\"#DejaVuSans-100\"/>\n      <use x=\"188.037109\" xlink:href=\"#DejaVuSans-101\"/>\n      <use x=\"249.560547\" xlink:href=\"#DejaVuSans-91\"/>\n      <use x=\"288.574219\" xlink:href=\"#DejaVuSans-50\"/>\n      <use x=\"352.197266\" xlink:href=\"#DejaVuSans-93\"/>\n     </g>\n    </g>\n   </g>\n   <g id=\"text_4\">\n    <g clip-path=\"url(#p0d4c7ce923)\">\n     <!-- node[3] -->\n     <defs>\n      <path d=\"M 40.578125 39.3125 \nQ 47.65625 37.796875 51.625 33 \nQ 55.609375 28.21875 55.609375 21.1875 \nQ 55.609375 10.40625 48.1875 4.484375 \nQ 40.765625 -1.421875 27.09375 -1.421875 \nQ 22.515625 -1.421875 17.65625 -0.515625 \nQ 12.796875 0.390625 7.625 2.203125 \nL 7.625 11.71875 \nQ 11.71875 9.328125 16.59375 8.109375 \nQ 21.484375 6.890625 26.8125 6.890625 \nQ 36.078125 6.890625 40.9375 10.546875 \nQ 45.796875 14.203125 45.796875 21.1875 \nQ 45.796875 27.640625 41.28125 31.265625 \nQ 36.765625 34.90625 28.71875 34.90625 \nL 20.21875 34.90625 \nL 20.21875 43.015625 \nL 29.109375 43.015625 \nQ 36.375 43.015625 40.234375 45.921875 \nQ 44.09375 48.828125 44.09375 54.296875 \nQ 44.09375 59.90625 40.109375 62.90625 \nQ 36.140625 65.921875 28.71875 65.921875 \nQ 24.65625 65.921875 20.015625 65.03125 \nQ 15.375 64.15625 9.8125 62.3125 \nL 9.8125 71.09375 \nQ 15.4375 72.65625 20.34375 73.4375 \nQ 25.25 74.21875 29.59375 74.21875 \nQ 40.828125 74.21875 47.359375 69.109375 \nQ 53.90625 64.015625 53.90625 55.328125 \nQ 53.90625 49.265625 50.4375 45.09375 \nQ 46.96875 40.921875 40.578125 39.3125 \nz\n\" id=\"DejaVuSans-51\"/>\n     </defs>\n     <g transform=\"translate(306.915495 201.52729)scale(0.12 -0.12)\">\n      <use xlink:href=\"#DejaVuSans-110\"/>\n      <use x=\"63.378906\" xlink:href=\"#DejaVuSans-111\"/>\n      <use x=\"124.560547\" xlink:href=\"#DejaVuSans-100\"/>\n      <use x=\"188.037109\" xlink:href=\"#DejaVuSans-101\"/>\n      <use x=\"249.560547\" xlink:href=\"#DejaVuSans-91\"/>\n      <use x=\"288.574219\" xlink:href=\"#DejaVuSans-51\"/>\n      <use x=\"352.197266\" xlink:href=\"#DejaVuSans-93\"/>\n     </g>\n    </g>\n   </g>\n   <g id=\"text_5\">\n    <g clip-path=\"url(#p0d4c7ce923)\">\n     <!-- node[4] -->\n     <defs>\n      <path d=\"M 37.796875 64.3125 \nL 12.890625 25.390625 \nL 37.796875 25.390625 \nz\nM 35.203125 72.90625 \nL 47.609375 72.90625 \nL 47.609375 25.390625 \nL 58.015625 25.390625 \nL 58.015625 17.1875 \nL 47.609375 17.1875 \nL 47.609375 0 \nL 37.796875 0 \nL 37.796875 17.1875 \nL 4.890625 17.1875 \nL 4.890625 26.703125 \nz\n\" id=\"DejaVuSans-52\"/>\n     </defs>\n     <g transform=\"translate(389.530802 281.195928)scale(0.12 -0.12)\">\n      <use xlink:href=\"#DejaVuSans-110\"/>\n      <use x=\"63.378906\" xlink:href=\"#DejaVuSans-111\"/>\n      <use x=\"124.560547\" xlink:href=\"#DejaVuSans-100\"/>\n      <use x=\"188.037109\" xlink:href=\"#DejaVuSans-101\"/>\n      <use x=\"249.560547\" xlink:href=\"#DejaVuSans-91\"/>\n      <use x=\"288.574219\" xlink:href=\"#DejaVuSans-52\"/>\n      <use x=\"352.197266\" xlink:href=\"#DejaVuSans-93\"/>\n     </g>\n    </g>\n   </g>\n  </g>\n </g>\n <defs>\n  <clipPath id=\"p0d4c7ce923\">\n   <rect height=\"288\" width=\"432\" x=\"7.2\" y=\"7.2\"/>\n  </clipPath>\n </defs>\n</svg>\n",
      "image/png": "[encoded data removed]"
     },
     "metadata": {}
    }
   ],
   "source": [
    "ourense_graph = nx.Graph(pytket_ourense_device.coupling)\n",
    "nx.draw(ourense_graph, labels = {node:node for node in ourense_graph.nodes()})"
   ]
  },
  {
   "cell_type": "markdown",
   "metadata": {},
   "source": [
    "SPAM correction requires subsets of qubits which are assumed to only have SPAM errors correlated with each other, and no other qubits. <br>\n",
    "Correlated errors are usually dependent on the connectivity layout of devices, as shown above. <br>\n",
    "As Ourense is a small 5-qubit device with few connections, let's assume that all qubits have correlated SPAM errors. The number of calibration circuits produced is exponential in the maximum number of correlated circuits, so finding good subsets of correlated qubits is important for characterising larger devices with smaller experimental overhead."
   ]
  },
  {
   "cell_type": "code",
   "execution_count": 7,
   "metadata": {},
   "outputs": [],
   "source": [
    "n_shots = 8192 \n",
    "ourense_node_subsets = pytket_ourense_device.nodes\n",
    "ourense_spam = SpamCorrecter([ourense_node_subsets])"
   ]
  },
  {
   "cell_type": "markdown",
   "metadata": {},
   "source": [
    "The SpamCorrecter uses these subsets of qubits to produce calibration circuits."
   ]
  },
  {
   "cell_type": "code",
   "execution_count": 8,
   "metadata": {
    "tags": []
   },
   "outputs": [
    {
     "output_type": "stream",
     "name": "stdout",
     "text": "Number of calibration circuits:  32\n"
    }
   ],
   "source": [
    "calibration_circuits = ourense_spam.calibration_circuits()\n",
    "print('Number of calibration circuits: ' , len(calibration_circuits))"
   ]
  },
  {
   "cell_type": "markdown",
   "metadata": {},
   "source": [
    "We get a noise model from ```ibmq_ourense``` using qiskit-aer, make a simulator backend, and then execute all calibration circuits through the backend."
   ]
  },
  {
   "cell_type": "code",
   "execution_count": 9,
   "metadata": {},
   "outputs": [],
   "source": [
    "from pytket.backends.ibm import AerBackend\n",
    "from qiskit.providers.aer.noise import NoiseModel"
   ]
  },
  {
   "cell_type": "code",
   "execution_count": 10,
   "metadata": {},
   "outputs": [],
   "source": [
    "pytket_noisy_sim_backend = AerBackend(NoiseModel.from_backend(ibmq_ourense_backend))\n",
    "for c in calibration_circuits:\n",
    "    pytket_noisy_sim_backend.compile_circuit(c)\n",
    "sim_handles = pytket_noisy_sim_backend.process_circuits(calibration_circuits, n_shots)"
   ]
  },
  {
   "cell_type": "markdown",
   "metadata": {},
   "source": [
    "Count results from the simulator are then used to calculate the matrices used for SPAM correction for ```ibmq_ourense```."
   ]
  },
  {
   "cell_type": "code",
   "execution_count": 11,
   "metadata": {},
   "outputs": [],
   "source": [
    "sim_count_results = (pytket_noisy_sim_backend.get_result(handle).get_counts() for handle in sim_handles)\n",
    "ourense_spam.calculate_matrices(sim_count_results)"
   ]
  },
  {
   "cell_type": "code",
   "execution_count": 12,
   "metadata": {},
   "outputs": [],
   "source": [
    "from pytket import Circuit"
   ]
  },
  {
   "cell_type": "code",
   "execution_count": 13,
   "metadata": {},
   "outputs": [],
   "source": [
    "ghz_circuit = Circuit(len(pytket_ourense_device.nodes)).H(0).CX(0,1).CX(1,2).measure_all()\n",
    "pytket_noisy_sim_backend.compile_circuit(ghz_circuit)\n",
    "ghz_noisy_counts = pytket_noisy_sim_backend.get_counts(ghz_circuit,n_shots)"
   ]
  },
  {
   "cell_type": "markdown",
   "metadata": {},
   "source": [
    "We also run a noiseless simulation so we can compare performance."
   ]
  },
  {
   "cell_type": "code",
   "execution_count": 14,
   "metadata": {},
   "outputs": [],
   "source": [
    "pytket_noiseless_sim_backend = AerBackend()\n",
    "ghz_noiseless_counts = pytket_noiseless_sim_backend.get_counts(ghz_circuit,n_shots)"
   ]
  },
  {
   "cell_type": "markdown",
   "metadata": {},
   "source": [
    "Noisy simulator counts are corrected using the ```SpamCorrecter``` objects ```correct_counts``` method.<br>\n",
    "To correctly amend counts, the ```correct_counts``` method requires the executed circuits qubit_readout, a map from qubit to its index in readouts from backends."
   ]
  },
  {
   "cell_type": "code",
   "execution_count": 15,
   "metadata": {},
   "outputs": [],
   "source": [
    "ghz_spam_corrected_counts = ourense_spam.correct_counts(ghz_noisy_counts, ghz_circuit.qubit_readout)"
   ]
  },
  {
   "cell_type": "markdown",
   "metadata": {},
   "source": [
    "Import and define the Jensen-Shannon divergence, which we will use for comparing performance. The Jensen-Shannon divergence is a symmetric and finite measure of similarity between two probability distributions. A smaller divergence implies more similarity between two probability distributions."
   ]
  },
  {
   "cell_type": "code",
   "execution_count": 16,
   "metadata": {},
   "outputs": [],
   "source": [
    "from scipy.stats import entropy\n",
    "import numpy as np\n",
    "import itertools"
   ]
  },
  {
   "cell_type": "code",
   "execution_count": 17,
   "metadata": {},
   "outputs": [],
   "source": [
    "def binseq(k):\n",
    "    return [''.join(x) for x in itertools.product('01', repeat=k)]\n",
    "\n",
    "def probs_from_counts(counts):\n",
    "    counts_dict = dict()\n",
    "    for x in counts:\n",
    "        counts_dict[''.join(str(e) for e in x)]=counts[x]\n",
    "    converted = []\n",
    "    binary_strings = binseq(len(list(counts.keys())[0]))\n",
    "    for b in binary_strings:\n",
    "        converted.append(counts_dict.get(b,0))\n",
    "    return converted / np.sum(converted)\n",
    "\n",
    "def JSD(P, Q):\n",
    "    _P = P / np.linalg.norm(P, ord=1)\n",
    "    _Q = Q / np.linalg.norm(Q, ord=1)\n",
    "    _M = 0.5 * (_P + _Q)\n",
    "    return 0.5 * (entropy(_P, _M) + entropy(_Q, _M))"
   ]
  },
  {
   "cell_type": "markdown",
   "metadata": {},
   "source": [
    "Convert our counts results to a probability distribution over the basis states for comparison. "
   ]
  },
  {
   "cell_type": "code",
   "execution_count": 18,
   "metadata": {},
   "outputs": [],
   "source": [
    "ghz_noiseless_probabilities = probs_from_counts(ghz_noiseless_counts)\n",
    "ghz_noisy_probabilities = probs_from_counts(ghz_noisy_counts)\n",
    "ghz_spam_corrected_probabilities = probs_from_counts(ghz_spam_corrected_counts)"
   ]
  },
  {
   "cell_type": "code",
   "execution_count": 19,
   "metadata": {
    "tags": []
   },
   "outputs": [
    {
     "output_type": "stream",
     "name": "stdout",
     "text": "Jensen-Shannon Divergence between noiseless simulation probability distribution and noisy simulation probability distribution:  0.05478756384747019\nJensen-Shannon Divergence between noiseless simulation probability distribution and spam corrected noisy simulation probability distribution:  0.013652347370884822\n"
    }
   ],
   "source": [
    "print('Jensen-Shannon Divergence between noiseless simulation probability distribution and noisy simulation probability distribution: ',\n",
    "      JSD(ghz_noiseless_probabilities, ghz_noisy_probabilities))\n",
    "print('Jensen-Shannon Divergence between noiseless simulation probability distribution and spam corrected noisy simulation probability distribution: ', \n",
    "      JSD(ghz_noiseless_probabilities, ghz_spam_corrected_probabilities))"
   ]
  },
  {
   "cell_type": "markdown",
   "metadata": {},
   "source": [
    "In our noisy simulated case, spam corrected results produced a distribution closer to the expected distribution. <br>\n",
    "There are three methods available for correcting counts: the default ```minimise```, ```invert``` and ```bayesian```. Further information on each method is available at our [documentation](https://cqcl.github.io/pytket/build/html/utils.html#module-pytket.utils.spam).<br>\n",
    "Let's look at how the ```bayesian``` method performs."
   ]
  },
  {
   "cell_type": "code",
   "execution_count": 20,
   "metadata": {
    "tags": []
   },
   "outputs": [
    {
     "output_type": "stream",
     "name": "stdout",
     "text": "Jensen-Shannon Divergence between noiseless simulation probability distribution and minimise corrected noisy simulation probability distribution:  0.013652347370884822\nJensen-Shannon Divergence between noiseless simulation probability distribution and Bayesian corrected noisy simulation probability distribution:  0.021530321802383772\n"
    }
   ],
   "source": [
    "ghz_bayesian_corrected_counts = ourense_spam.correct_counts(ghz_noisy_counts, ghz_circuit.qubit_readout, method = 'bayesian')\n",
    "ghz_bayesian_probabilities = probs_from_counts(ghz_bayesian_corrected_counts)\n",
    "\n",
    "print('Jensen-Shannon Divergence between noiseless simulation probability distribution and minimise corrected noisy simulation probability distribution: ', \n",
    "      JSD(ghz_noiseless_probabilities, ghz_spam_corrected_probabilities))\n",
    "print('Jensen-Shannon Divergence between noiseless simulation probability distribution and Bayesian corrected noisy simulation probability distribution: ', \n",
    "      JSD(ghz_noiseless_probabilities, ghz_bayesian_probabilities))"
   ]
  },
  {
   "cell_type": "markdown",
   "metadata": {},
   "source": [
    "Lets change from our simulator backend to the Ourense IBMQ device to see how SPAM correction performs on real results."
   ]
  },
  {
   "cell_type": "code",
   "execution_count": 21,
   "metadata": {},
   "outputs": [],
   "source": [
    "from pytket.backends.ibm import IBMQBackend\n",
    "ibm_backend = IBMQBackend('ibmq_ourense')"
   ]
  },
  {
   "cell_type": "code",
   "execution_count": 22,
   "metadata": {},
   "outputs": [],
   "source": [
    "all_circuits = calibration_circuits + [ghz_circuit]\n",
    "for c in all_circuits:\n",
    "    ibm_backend.compile_circuit(c) \n",
    "ibm_handles = ibm_backend.process_circuits(all_circuits, n_shots)"
   ]
  },
  {
   "cell_type": "code",
   "execution_count": 23,
   "metadata": {
    "tags": []
   },
   "outputs": [
    {
     "output_type": "stream",
     "name": "stdout",
     "text": "Job Status: job has successfully run\n"
    }
   ],
   "source": [
    "ibm_calibration_results = (ibm_backend.get_result(handle).get_counts() for handle in ibm_handles[:-1])\n",
    "ourense_spam.calculate_matrices(ibm_calibration_results)"
   ]
  },
  {
   "cell_type": "code",
   "execution_count": 24,
   "metadata": {},
   "outputs": [],
   "source": [
    "ghz_ourense_counts = ibm_backend.get_result(ibm_handles[-1]).get_counts()\n",
    "ghz_ourense_probabilities = probs_from_counts(ghz_ourense_counts)"
   ]
  },
  {
   "cell_type": "markdown",
   "metadata": {},
   "source": [
    "Finally we compare performance for our machine results:"
   ]
  },
  {
   "cell_type": "code",
   "execution_count": 25,
   "metadata": {
    "tags": []
   },
   "outputs": [
    {
     "output_type": "stream",
     "name": "stdout",
     "text": "Jensen-Shannon Divergence between noiseless simulation probability distribution and ourense probability distribution:  0.07500490126751425\nJensen-Shannon Divergence between noiseless simulation probability distribution and minimise corrected ourense probability distribution:  0.013652347370884822\nJensen-Shannon Divergence between noiseless simulation probability distribution and Bayesian corrected ourense probability distribution:  0.04319767874694316\n"
    }
   ],
   "source": [
    "ghz_spam_corrected_ourense_counts = ourense_spam.correct_counts(ghz_ourense_counts, ghz_circuit.qubit_readout)\n",
    "ghz_bayesian_corrected_counts = ourense_spam.correct_counts(ghz_ourense_counts, ghz_circuit.qubit_readout, method = 'bayesian')\n",
    "\n",
    "ghz_spam_corrected_ourense_probabilities = probs_from_counts(ghz_spam_corrected_counts)\n",
    "ghz_bayesian_probabilities = probs_from_counts(ghz_bayesian_corrected_counts)\n",
    "\n",
    "print('Jensen-Shannon Divergence between noiseless simulation probability distribution and ourense probability distribution: ', \n",
    "      JSD(ghz_noiseless_probabilities, ghz_ourense_probabilities))\n",
    "print('Jensen-Shannon Divergence between noiseless simulation probability distribution and minimise corrected ourense probability distribution: ', \n",
    "      JSD(ghz_noiseless_probabilities, ghz_spam_corrected_ourense_probabilities))\n",
    "print('Jensen-Shannon Divergence between noiseless simulation probability distribution and Bayesian corrected ourense probability distribution: ', \n",
    "      JSD(ghz_noiseless_probabilities, ghz_bayesian_probabilities))"
   ]
  }
 ],
 "metadata": {
  "kernelspec": {
   "display_name": "Python 3",
   "language": "python",
   "name": "python3"
  },
  "language_info": {
   "codemirror_mode": {
    "name": "ipython",
    "version": 3
   },
   "file_extension": ".py",
   "mimetype": "text/x-python",
   "name": "python",
   "nbconvert_exporter": "python",
   "pygments_lexer": "ipython3",
   "version": "3.7.4-final"
  }
 },
 "nbformat": 4,
 "nbformat_minor": 4
}